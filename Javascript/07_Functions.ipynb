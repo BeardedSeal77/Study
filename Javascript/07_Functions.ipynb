{
 "cells": [
  {
   "cell_type": "markdown",
   "metadata": {},
   "source": [
    "# 📔 Day 7: JavaScript Functions\n",
    "\n",
    "Welcome to Day 7 of the 30 Days of JavaScript challenge! Today we'll explore JavaScript functions - one of the most important concepts in programming.\n",
    "\n",
    "A function is a reusable block of code designed to perform a specific task. Functions make code:\n",
    "- Clean and easy to read\n",
    "- Reusable\n",
    "- Easy to test"
   ]
  },
  {
   "cell_type": "markdown",
   "metadata": {},
   "source": [
    "## Table of Contents\n",
    "\n",
    "1. [Function Declaration](#function-declaration)\n",
    "2. [Function without Parameters](#function-without-parameters)\n",
    "3. [Function Returning Values](#function-returning-values)\n",
    "4. [Function with Parameters](#function-with-parameters)\n",
    "5. [Function with Multiple Parameters](#function-with-multiple-parameters)\n",
    "6. [Function with Unlimited Parameters](#function-with-unlimited-parameters)\n",
    "7. [Anonymous Functions](#anonymous-functions)\n",
    "8. [Expression Functions](#expression-functions)\n",
    "9. [Self Invoking Functions](#self-invoking-functions)\n",
    "10. [Arrow Functions](#arrow-functions)\n",
    "11. [Function with Default Parameters](#function-with-default-parameters)\n",
    "12. [Function Declaration vs Arrow Function](#function-declaration-vs-arrow-function)\n",
    "13. [Exercises](#exercises)"
   ]
  },
  {
   "cell_type": "markdown",
   "metadata": {},
   "source": [
    "## Function Declaration\n",
    "\n",
    "A function can be declared using the `function` keyword followed by a name and parentheses. The basic syntax is:\n",
    "\n",
    "```javascript\n",
    "function functionName() {\n",
    "  // code goes here\n",
    "}\n",
    "```"
   ]
  },
  {
   "cell_type": "code",
   "execution_count": null,
   "metadata": {},
   "outputs": [],
   "source": [
    "// Declaring a simple function\n",
    "function greet() {\n",
    "  console.log('Hello, World!');\n",
    "}\n",
    "\n",
    "// Calling the function\n",
    "greet();"
   ]
  },
  {
   "cell_type": "markdown",
   "metadata": {},
   "source": [
    "## Function without Parameters\n",
    "\n",
    "Functions can be declared without parameters and can perform operations using hardcoded values or generate values internally."
   ]
  },
  {
   "cell_type": "code",
   "execution_count": null,
   "metadata": {},
   "outputs": [],
   "source": [
    "// Function without parameter - making a number square\n",
    "function square() {\n",
    "  let num = 2;\n",
    "  let sq = num * num;\n",
    "  console.log(sq);\n",
    "}\n",
    "\n",
    "square(); // 4"
   ]
  },
  {
   "cell_type": "code",
   "execution_count": null,
   "metadata": {},
   "outputs": [],
   "source": [
    "// Function without parameter - adding two numbers\n",
    "function addTwoNumbers() {\n",
    "  let numOne = 10;\n",
    "  let numTwo = 20;\n",
    "  let sum = numOne + numTwo;\n",
    "  console.log(sum);\n",
    "}\n",
    "\n",
    "addTwoNumbers(); // 30"
   ]
  },
  {
   "cell_type": "code",
   "execution_count": null,
   "metadata": {},
   "outputs": [],
   "source": [
    "// Function to print full name\n",
    "function printFullName() {\n",
    "  let firstName = 'Asabeneh';\n",
    "  let lastName = 'Yetayeh';\n",
    "  let space = ' ';\n",
    "  let fullName = firstName + space + lastName;\n",
    "  console.log(fullName);\n",
    "}\n",
    "\n",
    "printFullName(); // Asabeneh Yetayeh"
   ]
  },
  {
   "cell_type": "markdown",
   "metadata": {},
   "source": [
    "## Function Returning Values\n",
    "\n",
    "Functions can return values using the `return` statement. If a function doesn't return a value, it returns `undefined`."
   ]
  },
  {
   "cell_type": "code",
   "execution_count": null,
   "metadata": {},
   "outputs": [],
   "source": [
    "// Function returning a value\n",
    "function printFullName() {\n",
    "  let firstName = 'Asabeneh';\n",
    "  let lastName = 'Yetayeh';\n",
    "  let space = ' ';\n",
    "  let fullName = firstName + space + lastName;\n",
    "  return fullName;\n",
    "}\n",
    "\n",
    "console.log(printFullName()); // Asabeneh Yetayeh"
   ]
  },
  {
   "cell_type": "code",
   "execution_count": null,
   "metadata": {},
   "outputs": [],
   "source": [
    "// Function returning sum of two numbers\n",
    "function addTwoNumbers() {\n",
    "  let numOne = 2;\n",
    "  let numTwo = 3;\n",
    "  let total = numOne + numTwo;\n",
    "  return total;\n",
    "}\n",
    "\n",
    "console.log(addTwoNumbers()); // 5"
   ]
  },
  {
   "cell_type": "markdown",
   "metadata": {},
   "source": [
    "## Function with Parameters\n",
    "\n",
    "Functions can accept parameters (inputs) to make them more flexible and reusable. Parameters are variables listed in the function definition."
   ]
  },
  {
   "cell_type": "code",
   "execution_count": null,
   "metadata": {},
   "outputs": [],
   "source": [
    "// Function with one parameter\n",
    "function areaOfCircle(r) {\n",
    "  let area = Math.PI * r * r;\n",
    "  return area;\n",
    "}\n",
    "\n",
    "console.log(areaOfCircle(10)); // 314.1592653589793"
   ]
  },
  {
   "cell_type": "code",
   "execution_count": null,
   "metadata": {},
   "outputs": [],
   "source": [
    "// Function to square a number\n",
    "function square(number) {\n",
    "  return number * number;\n",
    "}\n",
    "\n",
    "console.log(square(10)); // 100\n",
    "console.log(square(5));  // 25"
   ]
  },
  {
   "cell_type": "markdown",
   "metadata": {},
   "source": [
    "## Function with Multiple Parameters\n",
    "\n",
    "Functions can take multiple parameters separated by commas."
   ]
  },
  {
   "cell_type": "code",
   "execution_count": null,
   "metadata": {},
   "outputs": [],
   "source": [
    "// Function with two parameters\n",
    "function sumTwoNumbers(numOne, numTwo) {\n",
    "  let sum = numOne + numTwo;\n",
    "  return sum;\n",
    "}\n",
    "\n",
    "console.log(sumTwoNumbers(10, 20)); // 30\n",
    "console.log(sumTwoNumbers(5, 15));  // 20"
   ]
  },
  {
   "cell_type": "code",
   "execution_count": null,
   "metadata": {},
   "outputs": [],
   "source": [
    "// Function to create full name\n",
    "function printFullName(firstName, lastName) {\n",
    "  return `${firstName} ${lastName}`;\n",
    "}\n",
    "\n",
    "console.log(printFullName('Asabeneh', 'Yetayeh')); // Asabeneh Yetayeh\n",
    "console.log(printFullName('John', 'Doe'));         // John Doe"
   ]
  },
  {
   "cell_type": "code",
   "execution_count": null,
   "metadata": {},
   "outputs": [],
   "source": [
    "// Function that takes an array and sums its values\n",
    "function sumArrayValues(arr) {\n",
    "  let sum = 0;\n",
    "  for (let i = 0; i < arr.length; i++) {\n",
    "    sum = sum + arr[i];\n",
    "  }\n",
    "  return sum;\n",
    "}\n",
    "\n",
    "const numbers = [1, 2, 3, 4, 5];\n",
    "console.log(sumArrayValues(numbers)); // 15"
   ]
  },
  {
   "cell_type": "markdown",
   "metadata": {},
   "source": [
    "## Function with Unlimited Parameters\n",
    "\n",
    "Sometimes we don't know how many arguments a user will pass. We can handle unlimited parameters differently in regular functions and arrow functions.\n",
    "\n",
    "### Regular Function with Arguments Object"
   ]
  },
  {
   "cell_type": "code",
   "execution_count": null,
   "metadata": {},
   "outputs": [],
   "source": [
    "// Accessing the arguments object\n",
    "function sumAllNums() {\n",
    "  console.log(arguments);\n",
    "}\n",
    "\n",
    "sumAllNums(1, 2, 3, 4);\n",
    "// Arguments(4) [1, 2, 3, 4, callee: ƒ, Symbol(Symbol.iterator): ƒ]"
   ]
  },
  {
   "cell_type": "code",
   "execution_count": null,
   "metadata": {},
   "outputs": [],
   "source": [
    "// Function to sum unlimited numbers using arguments\n",
    "function sumAllNums() {\n",
    "  let sum = 0;\n",
    "  for (let i = 0; i < arguments.length; i++) {\n",
    "    sum += arguments[i];\n",
    "  }\n",
    "  return sum;\n",
    "}\n",
    "\n",
    "console.log(sumAllNums(1, 2, 3, 4));              // 10\n",
    "console.log(sumAllNums(10, 20, 13, 40, 10));      // 93\n",
    "console.log(sumAllNums(15, 20, 30, 25, 10, 33, 40)); // 173"
   ]
  },
  {
   "cell_type": "markdown",
   "metadata": {},
   "source": [
    "### Arrow Function with Rest Parameters\n",
    "\n",
    "Arrow functions don't have access to the arguments object. Instead, we use rest parameters (...args)."
   ]
  },
  {
   "cell_type": "code",
   "execution_count": null,
   "metadata": {},
   "outputs": [],
   "source": [
    "// Arrow function accessing rest parameters\n",
    "const sumAllNums = (...args) => {\n",
    "  console.log(args);\n",
    "}\n",
    "\n",
    "sumAllNums(1, 2, 3, 4);\n",
    "// [1, 2, 3, 4]"
   ]
  },
  {
   "cell_type": "code",
   "execution_count": null,
   "metadata": {},
   "outputs": [],
   "source": [
    "// Arrow function to sum unlimited numbers using rest parameters\n",
    "const sumAllNums = (...args) => {\n",
    "  let sum = 0;\n",
    "  for (const element of args) {\n",
    "    sum += element;\n",
    "  }\n",
    "  return sum;\n",
    "}\n",
    "\n",
    "console.log(sumAllNums(1, 2, 3, 4));              // 10\n",
    "console.log(sumAllNums(10, 20, 13, 40, 10));      // 93\n",
    "console.log(sumAllNums(15, 20, 30, 25, 10, 33, 40)); // 173"
   ]
  },
  {
   "cell_type": "markdown",
   "metadata": {},
   "source": [
    "## Anonymous Functions\n",
    "\n",
    "Anonymous functions are functions without names. They are often stored in variables."
   ]
  },
  {
   "cell_type": "code",
   "execution_count": null,
   "metadata": {},
   "outputs": [],
   "source": [
    "// Anonymous function stored in a variable\n",
    "const anonymousFun = function() {\n",
    "  console.log('I am an anonymous function and my value is stored in anonymousFun');\n",
    "}\n",
    "\n",
    "anonymousFun();"
   ]
  },
  {
   "cell_type": "markdown",
   "metadata": {},
   "source": [
    "## Expression Functions\n",
    "\n",
    "Expression functions are anonymous functions assigned to variables. They must be defined before they are called."
   ]
  },
  {
   "cell_type": "code",
   "execution_count": null,
   "metadata": {},
   "outputs": [],
   "source": [
    "// Function expression\n",
    "const square = function(n) {\n",
    "  return n * n;\n",
    "}\n",
    "\n",
    "console.log(square(2)); // 4\n",
    "console.log(square(5)); // 25"
   ]
  },
  {
   "cell_type": "markdown",
   "metadata": {},
   "source": [
    "## Self Invoking Functions\n",
    "\n",
    "Self-invoking functions (IIFE - Immediately Invoked Function Expression) are anonymous functions that execute immediately without being called."
   ]
  },
  {
   "cell_type": "code",
   "execution_count": null,
   "metadata": {},
   "outputs": [],
   "source": [
    "// Self invoking function that prints result\n",
    "(function(n) {\n",
    "  console.log(n * n);\n",
    "})(2); // 4"
   ]
  },
  {
   "cell_type": "code",
   "execution_count": null,
   "metadata": {},
   "outputs": [],
   "source": [
    "// Self invoking function that returns and stores result\n",
    "let squaredNum = (function(n) {\n",
    "  return n * n;\n",
    "})(10);\n",
    "\n",
    "console.log(squaredNum); // 100"
   ]
  },
  {
   "cell_type": "markdown",
   "metadata": {},
   "source": [
    "## Arrow Functions\n",
    "\n",
    "Arrow functions provide a shorter syntax for writing functions. They use `=>` instead of the `function` keyword."
   ]
  },
  {
   "cell_type": "code",
   "execution_count": null,
   "metadata": {},
   "outputs": [],
   "source": [
    "// Regular function\n",
    "function square(n) {\n",
    "  return n * n;\n",
    "}\n",
    "\n",
    "console.log(square(2)); // 4"
   ]
  },
  {
   "cell_type": "code",
   "execution_count": null,
   "metadata": {},
   "outputs": [],
   "source": [
    "// Arrow function - block body\n",
    "const square = n => {\n",
    "  return n * n;\n",
    "}\n",
    "\n",
    "console.log(square(2)); // 4"
   ]
  },
  {
   "cell_type": "code",
   "execution_count": null,
   "metadata": {},
   "outputs": [],
   "source": [
    "// Arrow function - implicit return (one line)\n",
    "const square = n => n * n;\n",
    "\n",
    "console.log(square(2)); // 4"
   ]
  },
  {
   "cell_type": "code",
   "execution_count": null,
   "metadata": {},
   "outputs": [],
   "source": [
    "// Arrow function with array transformation\n",
    "const changeToUpperCase = arr => {\n",
    "  const newArr = [];\n",
    "  for (const element of arr) {\n",
    "    newArr.push(element.toUpperCase());\n",
    "  }\n",
    "  return newArr;\n",
    "}\n",
    "\n",
    "const countries = ['Finland', 'Sweden', 'Norway', 'Denmark', 'Iceland'];\n",
    "console.log(changeToUpperCase(countries));\n",
    "// [\"FINLAND\", \"SWEDEN\", \"NORWAY\", \"DENMARK\", \"ICELAND\"]"
   ]
  },
  {
   "cell_type": "code",
   "execution_count": null,
   "metadata": {},
   "outputs": [],
   "source": [
    "// Arrow function with multiple parameters\n",
    "const printFullName = (firstName, lastName) => {\n",
    "  return `${firstName} ${lastName}`;\n",
    "}\n",
    "\n",
    "console.log(printFullName('Asabeneh', 'Yetayeh')); // Asabeneh Yetayeh"
   ]
  },
  {
   "cell_type": "code",
   "execution_count": null,
   "metadata": {},
   "outputs": [],
   "source": [
    "// Arrow function with implicit return\n",
    "const printFullName = (firstName, lastName) => `${firstName} ${lastName}`;\n",
    "\n",
    "console.log(printFullName('Asabeneh', 'Yetayeh')); // Asabeneh Yetayeh"
   ]
  },
  {
   "cell_type": "markdown",
   "metadata": {},
   "source": [
    "## Function with Default Parameters\n",
    "\n",
    "Default parameters allow us to specify default values for function parameters. If no argument is passed, the default value is used."
   ]
  },
  {
   "cell_type": "code",
   "execution_count": null,
   "metadata": {},
   "outputs": [],
   "source": [
    "// Function with default parameter\n",
    "function greetings(name = 'Peter') {\n",
    "  let message = `${name}, welcome to 30 Days Of JavaScript!`;\n",
    "  return message;\n",
    "}\n",
    "\n",
    "console.log(greetings());           // Peter, welcome to 30 Days Of JavaScript!\n",
    "console.log(greetings('Asabeneh')); // Asabeneh, welcome to 30 Days Of JavaScript!"
   ]
  },
  {
   "cell_type": "code",
   "execution_count": null,
   "metadata": {},
   "outputs": [],
   "source": [
    "// Function with multiple default parameters\n",
    "function generateFullName(firstName = 'Asabeneh', lastName = 'Yetayeh') {\n",
    "  let space = ' ';\n",
    "  let fullName = firstName + space + lastName;\n",
    "  return fullName;\n",
    "}\n",
    "\n",
    "console.log(generateFullName());                    // Asabeneh Yetayeh\n",
    "console.log(generateFullName('David', 'Smith'));    // David Smith"
   ]
  },
  {
   "cell_type": "code",
   "execution_count": null,
   "metadata": {},
   "outputs": [],
   "source": [
    "// Function with default parameter for current year\n",
    "function calculateAge(birthYear, currentYear = 2023) {\n",
    "  let age = currentYear - birthYear;\n",
    "  return age;\n",
    "}\n",
    "\n",
    "console.log('Age: ', calculateAge(1990)); // Age: 33"
   ]
  },
  {
   "cell_type": "code",
   "execution_count": null,
   "metadata": {},
   "outputs": [],
   "source": [
    "// Function calculating weight with default gravity\n",
    "function weightOfObject(mass, gravity = 9.81) {\n",
    "  let weight = mass * gravity + ' N';\n",
    "  return weight;\n",
    "}\n",
    "\n",
    "console.log('Weight of an object in Newton: ', weightOfObject(100));      // Earth gravity\n",
    "console.log('Weight of an object in Newton: ', weightOfObject(100, 1.62)); // Moon gravity"
   ]
  },
  {
   "cell_type": "markdown",
   "metadata": {},
   "source": [
    "### Arrow Functions with Default Parameters"
   ]
  },
  {
   "cell_type": "code",
   "execution_count": null,
   "metadata": {},
   "outputs": [],
   "source": [
    "// Arrow function with default parameter\n",
    "const greetings = (name = 'Peter') => {\n",
    "  let message = name + ', welcome to 30 Days Of JavaScript!';\n",
    "  return message;\n",
    "}\n",
    "\n",
    "console.log(greetings());           // Peter, welcome to 30 Days Of JavaScript!\n",
    "console.log(greetings('Asabeneh')); // Asabeneh, welcome to 30 Days Of JavaScript!"
   ]
  },
  {
   "cell_type": "code",
   "execution_count": null,
   "metadata": {},
   "outputs": [],
   "source": [
    "// Arrow function with multiple default parameters\n",
    "const generateFullName = (firstName = 'Asabeneh', lastName = 'Yetayeh') => {\n",
    "  let space = ' ';\n",
    "  let fullName = firstName + space + lastName;\n",
    "  return fullName;\n",
    "}\n",
    "\n",
    "console.log(generateFullName());                 // Asabeneh Yetayeh\n",
    "console.log(generateFullName('David', 'Smith')); // David Smith"
   ]
  },
  {
   "cell_type": "code",
   "execution_count": null,
   "metadata": {},
   "outputs": [],
   "source": [
    "// Arrow function with implicit return and default parameter\n",
    "const calculateAge = (birthYear, currentYear = 2023) => currentYear - birthYear;\n",
    "console.log('Age: ', calculateAge(1990)); // Age: 33"
   ]
  },
  {
   "cell_type": "code",
   "execution_count": null,
   "metadata": {},
   "outputs": [],
   "source": [
    "// Arrow function for weight calculation\n",
    "const weightOfObject = (mass, gravity = 9.81) => mass * gravity + ' N';\n",
    "\n",
    "console.log('Weight of an object in Newton: ', weightOfObject(100));      // Earth gravity\n",
    "console.log('Weight of an object in Newton: ', weightOfObject(100, 1.62)); // Moon gravity"
   ]
  },
  {
   "cell_type": "markdown",
   "metadata": {},
   "source": [
    "## Function Declaration vs Arrow Function\n",
    "\n",
    "While both function declarations and arrow functions serve similar purposes, they have some key differences:\n",
    "\n",
    "1. **Syntax**: Arrow functions have shorter syntax\n",
    "2. **`this` binding**: Arrow functions don't have their own `this`\n",
    "3. **Hoisting**: Function declarations are hoisted, arrow functions are not\n",
    "4. **Arguments object**: Only regular functions have access to `arguments`\n",
    "5. **Constructor**: Arrow functions cannot be used as constructors\n",
    "\n",
    "Choose the appropriate function type based on your specific needs!"
   ]
  },
  {
   "cell_type": "markdown",
   "metadata": {},
   "source": [
    "---\n",
    "\n",
    "# 💻 Exercises\n",
    "\n",
    "Now let's practice what we've learned with some exercises!"
   ]
  },
  {
   "cell_type": "markdown",
   "metadata": {},
   "source": [
    "## Exercises: Level 1\n",
    "\n",
    "Complete the following 15 exercises:"
   ]
  },
  {
   "cell_type": "code",
   "execution_count": null,
   "metadata": {},
   "outputs": [],
   "source": [
    "// 1. Declare a function fullName and it print out your full name.\n",
    "function fullName() {\n",
    "  console.log('Your Full Name Here');\n",
    "}\n",
    "\n",
    "fullName();"
   ]
  },
  {
   "cell_type": "code",
   "execution_count": null,
   "metadata": {},
   "outputs": [],
   "source": [
    "// 2. Declare a function fullName and now it takes firstName, lastName as a parameter \n",
    "// and it returns your full name.\n",
    "function fullName(firstName, lastName) {\n",
    "  return `${firstName} ${lastName}`;\n",
    "}\n",
    "\n",
    "console.log(fullName('John', 'Doe'));"
   ]
  },
  {
   "cell_type": "code",
   "execution_count": null,
   "metadata": {},
   "outputs": [],
   "source": [
    "// 3. Declare a function addNumbers and it takes two parameters and it returns sum.\n",
    "function addNumbers(num1, num2) {\n",
    "  return num1 + num2;\n",
    "}\n",
    "\n",
    "console.log(addNumbers(5, 10)); // 15"
   ]
  },
  {
   "cell_type": "code",
   "execution_count": null,
   "metadata": {},
   "outputs": [],
   "source": [
    "// 4. An area of a rectangle is calculated as follows: area = length x width. \n",
    "// Write a function which calculates areaOfRectangle.\n",
    "function areaOfRectangle(length, width) {\n",
    "  return length * width;\n",
    "}\n",
    "\n",
    "console.log(areaOfRectangle(10, 5)); // 50"
   ]
  },
  {
   "cell_type": "code",
   "execution_count": null,
   "metadata": {},
   "outputs": [],
   "source": [
    "// 5. A perimeter of a rectangle is calculated as follows: perimeter = 2x(length + width). \n",
    "// Write a function which calculates perimeterOfRectangle.\n",
    "function perimeterOfRectangle(length, width) {\n",
    "  return 2 * (length + width);\n",
    "}\n",
    "\n",
    "console.log(perimeterOfRectangle(10, 5)); // 30"
   ]
  },
  {
   "cell_type": "code",
   "execution_count": null,
   "metadata": {},
   "outputs": [],
   "source": [
    "// 6. A volume of a rectangular prism is calculated as follows: volume = length x width x height. \n",
    "// Write a function which calculates volumeOfRectPrism.\n",
    "function volumeOfRectPrism(length, width, height) {\n",
    "  return length * width * height;\n",
    "}\n",
    "\n",
    "console.log(volumeOfRectPrism(10, 5, 3)); // 150"
   ]
  },
  {
   "cell_type": "code",
   "execution_count": null,
   "metadata": {},
   "outputs": [],
   "source": [
    "// 7. Area of a circle is calculated as follows: area = π x r x r. \n",
    "// Write a function which calculates areaOfCircle\n",
    "function areaOfCircle(r) {\n",
    "  return Math.PI * r * r;\n",
    "}\n",
    "\n",
    "console.log(areaOfCircle(5)); // 78.53981633974483"
   ]
  },
  {
   "cell_type": "code",
   "execution_count": null,
   "metadata": {},
   "outputs": [],
   "source": [
    "// 8. Circumference of a circle is calculated as follows: circumference = 2πr. \n",
    "// Write a function which calculates circumOfCircle\n",
    "function circumOfCircle(r) {\n",
    "  return 2 * Math.PI * r;\n",
    "}\n",
    "\n",
    "console.log(circumOfCircle(5)); // 31.41592653589793"
   ]
  },
  {
   "cell_type": "code",
   "execution_count": null,
   "metadata": {},
   "outputs": [],
   "source": [
    "// 9. Density of a substance is calculated as follows: density = mass/volume. \n",
    "// Write a function which calculates density.\n",
    "function density(mass, volume) {\n",
    "  return mass / volume;\n",
    "}\n",
    "\n",
    "console.log(density(100, 50)); // 2"
   ]
  },
  {
   "cell_type": "code",
   "execution_count": null,
   "metadata": {},
   "outputs": [],
   "source": [
    "// 10. Speed is calculated by dividing the total distance covered by a moving object \n",
    "// divided by the total amount of time taken. Write a function which calculates a speed.\n",
    "function speed(distance, time) {\n",
    "  return distance / time;\n",
    "}\n",
    "\n",
    "console.log(speed(100, 2)); // 50"
   ]
  },
  {
   "cell_type": "code",
   "execution_count": null,
   "metadata": {},
   "outputs": [],
   "source": [
    "// 11. Weight of a substance is calculated as follows: weight = mass x gravity. \n",
    "// Write a function which calculates weight.\n",
    "function weight(mass, gravity = 9.81) {\n",
    "  return mass * gravity;\n",
    "}\n",
    "\n",
    "console.log(weight(100)); // 981"
   ]
  },
  {
   "cell_type": "code",
   "execution_count": null,
   "metadata": {},
   "outputs": [],
   "source": [
    "// 12. Temperature in °C can be converted to °F using this formula: °F = (°C x 9/5) + 32. \n",
    "// Write a function which converts °C to °F.\n",
    "function convertCelsiusToFahrenheit(celsius) {\n",
    "  return (celsius * 9/5) + 32;\n",
    "}\n",
    "\n",
    "console.log(convertCelsiusToFahrenheit(0));   // 32\n",
    "console.log(convertCelsiusToFahrenheit(100)); // 212"
   ]
  },
  {
   "cell_type": "code",
   "execution_count": null,
   "metadata": {},
   "outputs": [],
   "source": [
    "// 13. Body mass index(BMI) is calculated as follows: bmi = weight in Kg / (height x height) in m². \n",
    "// Write a function which calculates bmi and determines weight status.\n",
    "function bmi(weight, height) {\n",
    "  const bmiValue = weight / (height * height);\n",
    "  \n",
    "  if (bmiValue < 18.5) {\n",
    "    return `${bmiValue.toFixed(1)} - Underweight`;\n",
    "  } else if (bmiValue >= 18.5 && bmiValue <= 24.9) {\n",
    "    return `${bmiValue.toFixed(1)} - Normal weight`;\n",
    "  } else if (bmiValue >= 25 && bmiValue <= 29.9) {\n",
    "    return `${bmiValue.toFixed(1)} - Overweight`;\n",
    "  } else {\n",
    "    return `${bmiValue.toFixed(1)} - Obese`;\n",
    "  }\n",
    "}\n",
    "\n",
    "console.log(bmi(70, 1.75)); // 22.9 - Normal weight"
   ]
  },
  {
   "cell_type": "code",
   "execution_count": null,
   "metadata": {},
   "outputs": [],
   "source": [
    "// 14. Write a function called checkSeason, it takes a month parameter and returns the season.\n",
    "function checkSeason(month) {\n",
    "  month = month.toLowerCase();\n",
    "  \n",
    "  if (month === 'september' || month === 'october' || month === 'november') {\n",
    "    return 'Autumn';\n",
    "  } else if (month === 'december' || month === 'january' || month === 'february') {\n",
    "    return 'Winter';\n",
    "  } else if (month === 'march' || month === 'april' || month === 'may') {\n",
    "    return 'Spring';\n",
    "  } else if (month === 'june' || month === 'july' || month === 'august') {\n",
    "    return 'Summer';\n",
    "  } else {\n",
    "    return 'Invalid month';\n",
    "  }\n",
    "}\n",
    "\n",
    "console.log(checkSeason('March'));     // Spring\n",
    "console.log(checkSeason('December'));  // Winter"
   ]
  },
  {
   "cell_type": "code",
   "execution_count": null,
   "metadata": {},
   "outputs": [],
   "source": [
    "// 15. Math.max returns its largest argument. Write a function findMax that takes three arguments \n",
    "// and returns their maximum without using Math.max method.\n",
    "function findMax(a, b, c) {\n",
    "  if (a >= b && a >= c) {\n",
    "    return a;\n",
    "  } else if (b >= a && b >= c) {\n",
    "    return b;\n",
    "  } else {\n",
    "    return c;\n",
    "  }\n",
    "}\n",
    "\n",
    "console.log(findMax(0, 10, 5));   // 10\n",
    "console.log(findMax(0, -10, -2)); // 0"
   ]
  },
  {
   "cell_type": "markdown",
   "metadata": {},
   "source": [
    "## Exercises: Level 2\n",
    "\n",
    "Complete the following 18 intermediate exercises:"
   ]
  },
  {
   "cell_type": "code",
   "execution_count": null,
   "metadata": {},
   "outputs": [],
   "source": [
    "// 1. Linear equation is calculated as follows: ax + by + c = 0. \n",
    "// Write a function which calculates value of a linear equation, solveLinEquation.\n",
    "function solveLinEquation(a, b, c, x, y) {\n",
    "  return a * x + b * y + c;\n",
    "}\n",
    "\n",
    "console.log(solveLinEquation(1, 1, -5, 2, 3)); // 0 (2 + 3 - 5 = 0)"
   ]
  },
  {
   "cell_type": "code",
   "execution_count": null,
   "metadata": {},
   "outputs": [],
   "source": [
    "// 2. Quadratic equation is calculated as follows: ax² + bx + c = 0. \n",
    "// Write a function which calculates value or values of a quadratic equation.\n",
    "function solveQuadEquation(a = 0, b = 0, c = 0) {\n",
    "  if (a === 0) {\n",
    "    if (b === 0) {\n",
    "      return c === 0 ? 'Infinite solutions' : 'No solution';\n",
    "    }\n",
    "    return -c / b;\n",
    "  }\n",
    "  \n",
    "  const discriminant = b * b - 4 * a * c;\n",
    "  \n",
    "  if (discriminant > 0) {\n",
    "    const x1 = (-b + Math.sqrt(discriminant)) / (2 * a);\n",
    "    const x2 = (-b - Math.sqrt(discriminant)) / (2 * a);\n",
    "    return [x1, x2];\n",
    "  } else if (discriminant === 0) {\n",
    "    const x = -b / (2 * a);\n",
    "    return [x];\n",
    "  } else {\n",
    "    return 'No real solutions';\n",
    "  }\n",
    "}\n",
    "\n",
    "console.log(solveQuadEquation(1, 4, 4));    // [-2]\n",
    "console.log(solveQuadEquation(1, -1, -2));  // [2, -1]"
   ]
  },
  {
   "cell_type": "code",
   "execution_count": null,
   "metadata": {},
   "outputs": [],
   "source": [
    "// 3. Declare a function name printArray. It takes array as a parameter \n",
    "// and it prints out each value of the array.\n",
    "function printArray(arr) {\n",
    "  for (let i = 0; i < arr.length; i++) {\n",
    "    console.log(arr[i]);\n",
    "  }\n",
    "}\n",
    "\n",
    "printArray([1, 2, 3, 4, 5]);"
   ]
  },
  {
   "cell_type": "code",
   "execution_count": null,
   "metadata": {},
   "outputs": [],
   "source": [
    "// 4. Write a function name showDateTime which shows time in this format: 08/01/2020 04:08\n",
    "function showDateTime() {\n",
    "  const now = new Date();\n",
    "  const day = String(now.getDate()).padStart(2, '0');\n",
    "  const month = String(now.getMonth() + 1).padStart(2, '0');\n",
    "  const year = now.getFullYear();\n",
    "  const hours = String(now.getHours()).padStart(2, '0');\n",
    "  const minutes = String(now.getMinutes()).padStart(2, '0');\n",
    "  \n",
    "  return `${day}/${month}/${year} ${hours}:${minutes}`;\n",
    "}\n",
    "\n",
    "console.log(showDateTime());"
   ]
  },
  {
   "cell_type": "code",
   "execution_count": null,
   "metadata": {},
   "outputs": [],
   "source": [
    "// 5. Declare a function name swapValues. This function swaps value of x to y.\n",
    "function swapValues(x, y) {\n",
    "  return { x: y, y: x };\n",
    "}\n",
    "\n",
    "console.log(swapValues(3, 4)); // { x: 4, y: 3 }\n",
    "console.log(swapValues(4, 5)); // { x: 5, y: 4 }"
   ]
  },
  {
   "cell_type": "code",
   "execution_count": null,
   "metadata": {},
   "outputs": [],
   "source": [
    "// 6. Declare a function name reverseArray. It takes array as a parameter \n",
    "// and it returns the reverse of the array (don't use method).\n",
    "function reverseArray(arr) {\n",
    "  const reversed = [];\n",
    "  for (let i = arr.length - 1; i >= 0; i--) {\n",
    "    reversed.push(arr[i]);\n",
    "  }\n",
    "  return reversed;\n",
    "}\n",
    "\n",
    "console.log(reverseArray([1, 2, 3, 4, 5])); // [5, 4, 3, 2, 1]\n",
    "console.log(reverseArray(['A', 'B', 'C'])); // ['C', 'B', 'A']"
   ]
  },
  {
   "cell_type": "code",
   "execution_count": null,
   "metadata": {},
   "outputs": [],
   "source": [
    "// 7. Declare a function name capitalizeArray. It takes array as a parameter \n",
    "// and it returns the capitalized array.\n",
    "function capitalizeArray(arr) {\n",
    "  const capitalized = [];\n",
    "  for (let i = 0; i < arr.length; i++) {\n",
    "    capitalized.push(arr[i].toUpperCase());\n",
    "  }\n",
    "  return capitalized;\n",
    "}\n",
    "\n",
    "console.log(capitalizeArray(['hello', 'world', 'javascript'])); \n",
    "// ['HELLO', 'WORLD', 'JAVASCRIPT']"
   ]
  },
  {
   "cell_type": "code",
   "execution_count": null,
   "metadata": {},
   "outputs": [],
   "source": [
    "// 8. Declare a function name addItem. It takes an item parameter \n",
    "// and it returns an array after adding the item\n",
    "let items = [];\n",
    "\n",
    "function addItem(item) {\n",
    "  items.push(item);\n",
    "  return items;\n",
    "}\n",
    "\n",
    "console.log(addItem('Apple'));  // ['Apple']\n",
    "console.log(addItem('Banana')); // ['Apple', 'Banana']"
   ]
  },
  {
   "cell_type": "code",
   "execution_count": null,
   "metadata": {},
   "outputs": [],
   "source": [
    "// 9. Declare a function name removeItem. It takes an index parameter \n",
    "// and it returns an array after removing an item\n",
    "function removeItem(index) {\n",
    "  if (index >= 0 && index < items.length) {\n",
    "    items.splice(index, 1);\n",
    "  }\n",
    "  return items;\n",
    "}\n",
    "\n",
    "console.log(removeItem(0)); // ['Banana'] (removes 'Apple')"
   ]
  },
  {
   "cell_type": "code",
   "execution_count": null,
   "metadata": {},
   "outputs": [],
   "source": [
    "// 10. Declare a function name sumOfNumbers. It takes a number parameter \n",
    "// and it adds all the numbers in that range.\n",
    "function sumOfNumbers(n) {\n",
    "  let sum = 0;\n",
    "  for (let i = 1; i <= n; i++) {\n",
    "    sum += i;\n",
    "  }\n",
    "  return sum;\n",
    "}\n",
    "\n",
    "console.log(sumOfNumbers(5));  // 15 (1+2+3+4+5)\n",
    "console.log(sumOfNumbers(10)); // 55"
   ]
  },
  {
   "cell_type": "code",
   "execution_count": null,
   "metadata": {},
   "outputs": [],
   "source": [
    "// 11. Declare a function name sumOfOdds. It takes a number parameter \n",
    "// and it adds all the odd numbers in that range.\n",
    "function sumOfOdds(n) {\n",
    "  let sum = 0;\n",
    "  for (let i = 1; i <= n; i++) {\n",
    "    if (i % 2 !== 0) {\n",
    "      sum += i;\n",
    "    }\n",
    "  }\n",
    "  return sum;\n",
    "}\n",
    "\n",
    "console.log(sumOfOdds(5));  // 9 (1+3+5)\n",
    "console.log(sumOfOdds(10)); // 25 (1+3+5+7+9)"
   ]
  },
  {
   "cell_type": "code",
   "execution_count": null,
   "metadata": {},
   "outputs": [],
   "source": [
    "// 12. Declare a function name sumOfEven. It takes a number parameter \n",
    "// and it adds all the even numbers in that range.\n",
    "function sumOfEven(n) {\n",
    "  let sum = 0;\n",
    "  for (let i = 1; i <= n; i++) {\n",
    "    if (i % 2 === 0) {\n",
    "      sum += i;\n",
    "    }\n",
    "  }\n",
    "  return sum;\n",
    "}\n",
    "\n",
    "console.log(sumOfEven(5));  // 6 (2+4)\n",
    "console.log(sumOfEven(10)); // 30 (2+4+6+8+10)"
   ]
  },
  {
   "cell_type": "code",
   "execution_count": null,
   "metadata": {},
   "outputs": [],
   "source": [
    "// 13. Declare a function name evensAndOdds. It takes a positive integer as parameter \n",
    "// and it counts number of evens and odds in the number.\n",
    "function evensAndOdds(positiveInt) {\n",
    "  let evens = 0;\n",
    "  let odds = 0;\n",
    "  \n",
    "  for (let i = 0; i <= positiveInt; i++) {\n",
    "    if (i % 2 === 0) {\n",
    "      evens++;\n",
    "    } else {\n",
    "      odds++;\n",
    "    }\n",
    "  }\n",
    "  \n",
    "  console.log(`The number of odds are ${odds}.`);\n",
    "  console.log(`The number of evens are ${evens}.`);\n",
    "}\n",
    "\n",
    "evensAndOdds(100);"
   ]
  },
  {
   "cell_type": "code",
   "execution_count": null,
   "metadata": {},
   "outputs": [],
   "source": [
    "// 14. Write a function which takes any number of arguments and return the sum of the arguments\n",
    "function sum(...args) {\n",
    "  let total = 0;\n",
    "  for (const num of args) {\n",
    "    total += num;\n",
    "  }\n",
    "  return total;\n",
    "}\n",
    "\n",
    "console.log(sum(1, 2, 3));    // 6\n",
    "console.log(sum(1, 2, 3, 4)); // 10"
   ]
  },
  {
   "cell_type": "code",
   "execution_count": null,
   "metadata": {},
   "outputs": [],
   "source": [
    "// 15. Write a function which generates a randomUserIp.\n",
    "function randomUserIp() {\n",
    "  const octet1 = Math.floor(Math.random() * 256);\n",
    "  const octet2 = Math.floor(Math.random() * 256);\n",
    "  const octet3 = Math.floor(Math.random() * 256);\n",
    "  const octet4 = Math.floor(Math.random() * 256);\n",
    "  \n",
    "  return `${octet1}.${octet2}.${octet3}.${octet4}`;\n",
    "}\n",
    "\n",
    "console.log(randomUserIp()); // e.g., \"192.168.1.100\""
   ]
  },
  {
   "cell_type": "code",
   "execution_count": null,
   "metadata": {},
   "outputs": [],
   "source": [
    "// 16. Write a function which generates a randomMacAddress\n",
    "function randomMacAddress() {\n",
    "  const hexChars = '0123456789ABCDEF';\n",
    "  let mac = '';\n",
    "  \n",
    "  for (let i = 0; i < 6; i++) {\n",
    "    for (let j = 0; j < 2; j++) {\n",
    "      mac += hexChars.charAt(Math.floor(Math.random() * hexChars.length));\n",
    "    }\n",
    "    if (i < 5) mac += ':';\n",
    "  }\n",
    "  \n",
    "  return mac;\n",
    "}\n",
    "\n",
    "console.log(randomMacAddress()); // e.g., \"A1:B2:C3:D4:E5:F6\""
   ]
  },
  {
   "cell_type": "code",
   "execution_count": null,
   "metadata": {},
   "outputs": [],
   "source": [
    "// 17. Declare a function name randomHexaNumberGenerator. \n",
    "// When this function is called it generates a random hexadecimal number.\n",
    "function randomHexaNumberGenerator() {\n",
    "  const hexChars = '0123456789abcdef';\n",
    "  let hexNumber = '#';\n",
    "  \n",
    "  for (let i = 0; i < 6; i++) {\n",
    "    hexNumber += hexChars.charAt(Math.floor(Math.random() * hexChars.length));\n",
    "  }\n",
    "  \n",
    "  return hexNumber;\n",
    "}\n",
    "\n",
    "console.log(randomHexaNumberGenerator()); // e.g., \"#a3c2f1\""
   ]
  },
  {
   "cell_type": "code",
   "execution_count": null,
   "metadata": {},
   "outputs": [],
   "source": [
    "// 18. Declare a function name userIdGenerator. \n",
    "// When this function is called it generates seven character id.\n",
    "function userIdGenerator() {\n",
    "  const chars = 'ABCDEFGHIJKLMNOPQRSTUVWXYZabcdefghijklmnopqrstuvwxyz0123456789';\n",
    "  let userId = '';\n",
    "  \n",
    "  for (let i = 0; i < 7; i++) {\n",
    "    userId += chars.charAt(Math.floor(Math.random() * chars.length));\n",
    "  }\n",
    "  \n",
    "  return userId;\n",
    "}\n",
    "\n",
    "console.log(userIdGenerator()); // e.g., \"41XTDbE\""
   ]
  },
  {
   "cell_type": "markdown",
   "metadata": {},
   "source": [
    "## Exercises: Level 3\n",
    "\n",
    "Complete the following 21 advanced exercises:"
   ]
  },
  {
   "cell_type": "code",
   "execution_count": null,
   "metadata": {},
   "outputs": [],
   "source": [
    "// 1. Modify the userIdGenerator function. Declare a function name userIdGeneratedByUser.\n",
    "// It doesn't take any parameter but it takes two inputs using prompt().\n",
    "function userIdGeneratedByUser() {\n",
    "  // Note: prompt() doesn't work in Jupyter notebooks, so we'll simulate with parameters\n",
    "  const numberOfCharacters = 7; // This would be from prompt\n",
    "  const numberOfIds = 3; // This would be from prompt\n",
    "  \n",
    "  const chars = 'ABCDEFGHIJKLMNOPQRSTUVWXYZabcdefghijklmnopqrstuvwxyz0123456789';\n",
    "  const ids = [];\n",
    "  \n",
    "  for (let i = 0; i < numberOfIds; i++) {\n",
    "    let userId = '';\n",
    "    for (let j = 0; j < numberOfCharacters; j++) {\n",
    "      userId += chars.charAt(Math.floor(Math.random() * chars.length));\n",
    "    }\n",
    "    ids.push(userId);\n",
    "  }\n",
    "  \n",
    "  return ids;\n",
    "}\n",
    "\n",
    "console.log(userIdGeneratedByUser());"
   ]
  },
  {
   "cell_type": "code",
   "execution_count": null,
   "metadata": {},
   "outputs": [],
   "source": [
    "// 2. Write a function name rgbColorGenerator and it generates rgb colors.\n",
    "function rgbColorGenerator() {\n",
    "  const r = Math.floor(Math.random() * 256);\n",
    "  const g = Math.floor(Math.random() * 256);\n",
    "  const b = Math.floor(Math.random() * 256);\n",
    "  \n",
    "  return `rgb(${r},${g},${b})`;\n",
    "}\n",
    "\n",
    "console.log(rgbColorGenerator()); // e.g., \"rgb(125,244,255)\""
   ]
  },
  {
   "cell_type": "code",
   "execution_count": null,
   "metadata": {},
   "outputs": [],
   "source": [
    "// 3. Write a function arrayOfHexaColors which return any number of hexadecimal colors in an array.\n",
    "function arrayOfHexaColors(count) {\n",
    "  const colors = [];\n",
    "  const hexChars = '0123456789abcdef';\n",
    "  \n",
    "  for (let i = 0; i < count; i++) {\n",
    "    let color = '#';\n",
    "    for (let j = 0; j < 6; j++) {\n",
    "      color += hexChars.charAt(Math.floor(Math.random() * hexChars.length));\n",
    "    }\n",
    "    colors.push(color);\n",
    "  }\n",
    "  \n",
    "  return colors;\n",
    "}\n",
    "\n",
    "console.log(arrayOfHexaColors(3)); // e.g., ['#a3e12f', '#03ed55', '#eb3d2b']"
   ]
  },
  {
   "cell_type": "code",
   "execution_count": null,
   "metadata": {},
   "outputs": [],
   "source": [
    "// 4. Write a function arrayOfRgbColors which return any number of RGB colors in an array.\n",
    "function arrayOfRgbColors(count) {\n",
    "  const colors = [];\n",
    "  \n",
    "  for (let i = 0; i < count; i++) {\n",
    "    const r = Math.floor(Math.random() * 256);\n",
    "    const g = Math.floor(Math.random() * 256);\n",
    "    const b = Math.floor(Math.random() * 256);\n",
    "    colors.push(`rgb(${r},${g},${b})`);\n",
    "  }\n",
    "  \n",
    "  return colors;\n",
    "}\n",
    "\n",
    "console.log(arrayOfRgbColors(3)); // e.g., ['rgb(5, 55, 175)', 'rgb(50, 105, 100)', 'rgb(15, 26, 80)']"
   ]
  },
  {
   "cell_type": "code",
   "execution_count": null,
   "metadata": {},
   "outputs": [],
   "source": [
    "// 5. Write a function convertHexaToRgb which converts hexa color to rgb.\n",
    "function convertHexaToRgb(hexa) {\n",
    "  // Remove # if present\n",
    "  hexa = hexa.replace('#', '');\n",
    "  \n",
    "  const r = parseInt(hexa.substring(0, 2), 16);\n",
    "  const g = parseInt(hexa.substring(2, 4), 16);\n",
    "  const b = parseInt(hexa.substring(4, 6), 16);\n",
    "  \n",
    "  return `rgb(${r},${g},${b})`;\n",
    "}\n",
    "\n",
    "console.log(convertHexaToRgb('#ff0000')); // \"rgb(255,0,0)\""
   ]
  },
  {
   "cell_type": "code",
   "execution_count": null,
   "metadata": {},
   "outputs": [],
   "source": [
    "// 6. Write a function convertRgbToHexa which converts rgb to hexa color.\n",
    "function convertRgbToHexa(rgb) {\n",
    "  // Extract numbers from rgb string\n",
    "  const values = rgb.match(/\\d+/g);\n",
    "  const r = parseInt(values[0]);\n",
    "  const g = parseInt(values[1]);\n",
    "  const b = parseInt(values[2]);\n",
    "  \n",
    "  const toHex = (num) => {\n",
    "    const hex = num.toString(16);\n",
    "    return hex.length === 1 ? '0' + hex : hex;\n",
    "  }\n",
    "  \n",
    "  return `#${toHex(r)}${toHex(g)}${toHex(b)}`;\n",
    "}\n",
    "\n",
    "console.log(convertRgbToHexa('rgb(255,0,0)')); // \"#ff0000\""
   ]
  },
  {
   "cell_type": "code",
   "execution_count": null,
   "metadata": {},
   "outputs": [],
   "source": [
    "// 7. Write a function generateColors which can generate any number of hexa or rgb colors.\n",
    "function generateColors(type, count) {\n",
    "  if (type === 'hexa') {\n",
    "    if (count === 1) {\n",
    "      return arrayOfHexaColors(1)[0];\n",
    "    }\n",
    "    return arrayOfHexaColors(count);\n",
    "  } else if (type === 'rgb') {\n",
    "    if (count === 1) {\n",
    "      return arrayOfRgbColors(1)[0];\n",
    "    }\n",
    "    return arrayOfRgbColors(count);\n",
    "  }\n",
    "}\n",
    "\n",
    "console.log(generateColors('hexa', 3)); // ['#a3e12f', '#03ed55', '#eb3d2b']\n",
    "console.log(generateColors('hexa', 1)); // '#b334ef'\n",
    "console.log(generateColors('rgb', 3));  // ['rgb(5, 55, 175)', 'rgb(50, 105, 100)', 'rgb(15, 26, 80)']\n",
    "console.log(generateColors('rgb', 1));  // 'rgb(33,79, 176)'"
   ]
  },
  {
   "cell_type": "code",
   "execution_count": null,
   "metadata": {},
   "outputs": [],
   "source": [
    "// 8. Call your function shuffleArray, it takes an array as a parameter and it returns a shuffled array\n",
    "function shuffleArray(arr) {\n",
    "  const shuffled = [...arr]; // Create a copy\n",
    "  \n",
    "  for (let i = shuffled.length - 1; i > 0; i--) {\n",
    "    const j = Math.floor(Math.random() * (i + 1));\n",
    "    [shuffled[i], shuffled[j]] = [shuffled[j], shuffled[i]];\n",
    "  }\n",
    "  \n",
    "  return shuffled;\n",
    "}\n",
    "\n",
    "console.log(shuffleArray([1, 2, 3, 4, 5])); // e.g., [3, 1, 5, 2, 4]"
   ]
  },
  {
   "cell_type": "code",
   "execution_count": null,
   "metadata": {},
   "outputs": [],
   "source": [
    "// 9. Call your function factorial, it takes a whole number as a parameter and it returns a factorial.\n",
    "function factorial(n) {\n",
    "  if (n <= 1) return 1;\n",
    "  return n * factorial(n - 1);\n",
    "}\n",
    "\n",
    "console.log(factorial(5)); // 120\n",
    "console.log(factorial(0)); // 1"
   ]
  },
  {
   "cell_type": "code",
   "execution_count": null,
   "metadata": {},
   "outputs": [],
   "source": [
    "// 10. Call your function isEmpty, it takes a parameter and it checks if it is empty or not\n",
    "function isEmpty(value) {\n",
    "  if (value === null || value === undefined) return true;\n",
    "  if (typeof value === 'string' && value.length === 0) return true;\n",
    "  if (Array.isArray(value) && value.length === 0) return true;\n",
    "  if (typeof value === 'object' && Object.keys(value).length === 0) return true;\n",
    "  return false;\n",
    "}\n",
    "\n",
    "console.log(isEmpty(''));       // true\n",
    "console.log(isEmpty([]));       // true\n",
    "console.log(isEmpty({}));       // true\n",
    "console.log(isEmpty('hello'));  // false"
   ]
  },
  {
   "cell_type": "code",
   "execution_count": null,
   "metadata": {},
   "outputs": [],
   "source": [
    "// 11. Call your function sum, it takes any number of arguments and it returns the sum.\n",
    "// (This is already implemented in exercise 14 of Level 2)\n",
    "function sum(...args) {\n",
    "  return args.reduce((total, num) => total + num, 0);\n",
    "}\n",
    "\n",
    "console.log(sum(1, 2, 3, 4, 5)); // 15"
   ]
  },
  {
   "cell_type": "code",
   "execution_count": null,
   "metadata": {},
   "outputs": [],
   "source": [
    "// 12. Write a function called sumOfArrayItems, it takes an array parameter and returns the sum.\n",
    "function sumOfArrayItems(arr) {\n",
    "  // Check if all items are numbers\n",
    "  for (let i = 0; i < arr.length; i++) {\n",
    "    if (typeof arr[i] !== 'number') {\n",
    "      return 'Error: All array items must be numbers';\n",
    "    }\n",
    "  }\n",
    "  \n",
    "  return arr.reduce((sum, item) => sum + item, 0);\n",
    "}\n",
    "\n",
    "console.log(sumOfArrayItems([1, 2, 3, 4, 5])); // 15\n",
    "console.log(sumOfArrayItems([1, 2, '3']));     // Error message"
   ]
  },
  {
   "cell_type": "code",
   "execution_count": null,
   "metadata": {},
   "outputs": [],
   "source": [
    "// 13. Write a function called average, it takes an array parameter and returns the average.\n",
    "function average(arr) {\n",
    "  // Check if all items are numbers\n",
    "  for (let i = 0; i < arr.length; i++) {\n",
    "    if (typeof arr[i] !== 'number') {\n",
    "      return 'Error: All array items must be numbers';\n",
    "    }\n",
    "  }\n",
    "  \n",
    "  if (arr.length === 0) return 0;\n",
    "  \n",
    "  const sum = arr.reduce((total, item) => total + item, 0);\n",
    "  return sum / arr.length;\n",
    "}\n",
    "\n",
    "console.log(average([1, 2, 3, 4, 5])); // 3\n",
    "console.log(average([1, 2, '3']));     // Error message"
   ]
  },
  {
   "cell_type": "code",
   "execution_count": null,
   "metadata": {},
   "outputs": [],
   "source": [
    "// 14. Write a function called modifyArray that modifies the fifth item of the array.\n",
    "function modifyArray(arr) {\n",
    "  if (arr.length < 5) {\n",
    "    return 'Not Found';\n",
    "  }\n",
    "  \n",
    "  const modified = [...arr]; // Create a copy\n",
    "  modified[4] = modified[4].toUpperCase();\n",
    "  return modified;\n",
    "}\n",
    "\n",
    "console.log(modifyArray(['Avocado', 'Tomato', 'Potato','Mango', 'Lemon','Carrot']));\n",
    "// ['Avocado', 'Tomato', 'Potato','Mango', 'LEMON', 'Carrot']\n",
    "\n",
    "console.log(modifyArray(['Google', 'Facebook','Apple', 'Amazon']));\n",
    "// 'Not Found'"
   ]
  },
  {
   "cell_type": "code",
   "execution_count": null,
   "metadata": {},
   "outputs": [],
   "source": [
    "// 15. Write a function called isPrime, which checks if a number is prime number.\n",
    "function isPrime(n) {\n",
    "  if (n <= 1) return false;\n",
    "  if (n <= 3) return true;\n",
    "  if (n % 2 === 0 || n % 3 === 0) return false;\n",
    "  \n",
    "  for (let i = 5; i * i <= n; i += 6) {\n",
    "    if (n % i === 0 || n % (i + 2) === 0) {\n",
    "      return false;\n",
    "    }\n",
    "  }\n",
    "  \n",
    "  return true;\n",
    "}\n",
    "\n",
    "console.log(isPrime(7));  // true\n",
    "console.log(isPrime(10)); // false\n",
    "console.log(isPrime(17)); // true"
   ]
  },
  {
   "cell_type": "code",
   "execution_count": null,
   "metadata": {},
   "outputs": [],
   "source": [
    "// 16. Write a function which checks if all items are unique in the array.\n",
    "function areItemsUnique(arr) {\n",
    "  const uniqueItems = new Set(arr);\n",
    "  return uniqueItems.size === arr.length;\n",
    "}\n",
    "\n",
    "console.log(areItemsUnique([1, 2, 3, 4]));    // true\n",
    "console.log(areItemsUnique([1, 2, 3, 3]));    // false"
   ]
  },
  {
   "cell_type": "code",
   "execution_count": null,
   "metadata": {},
   "outputs": [],
   "source": [
    "// 17. Write a function which checks if all the items of the array are the same data type.\n",
    "function areItemsSameDataType(arr) {\n",
    "  if (arr.length <= 1) return true;\n",
    "  \n",
    "  const firstType = typeof arr[0];\n",
    "  return arr.every(item => typeof item === firstType);\n",
    "}\n",
    "\n",
    "console.log(areItemsSameDataType([1, 2, 3]));       // true\n",
    "console.log(areItemsSameDataType([1, '2', 3]));     // false\n",
    "console.log(areItemsSameDataType(['a', 'b', 'c'])); // true"
   ]
  },
  {
   "cell_type": "code",
   "execution_count": null,
   "metadata": {},
   "outputs": [],
   "source": [
    "// 18. Write a function isValidVariable which checks if a variable is valid.\n",
    "function isValidVariable(variable) {\n",
    "  // Check if variable starts with letter, $, or _\n",
    "  if (!/^[a-zA-Z_$]/.test(variable)) {\n",
    "    return false;\n",
    "  }\n",
    "  \n",
    "  // Check if variable contains only letters, numbers, $, or _\n",
    "  if (!/^[a-zA-Z0-9_$]+$/.test(variable)) {\n",
    "    return false;\n",
    "  }\n",
    "  \n",
    "  // Check if it's not a reserved word (simplified check)\n",
    "  const reservedWords = ['var', 'let', 'const', 'function', 'if', 'else', 'for', 'while'];\n",
    "  if (reservedWords.includes(variable)) {\n",
    "    return false;\n",
    "  }\n",
    "  \n",
    "  return true;\n",
    "}\n",
    "\n",
    "console.log(isValidVariable('myVariable'));  // true\n",
    "console.log(isValidVariable('2invalid'));   // false\n",
    "console.log(isValidVariable('valid_var'));  // true\n",
    "console.log(isValidVariable('var'));        // false (reserved word)"
   ]
  },
  {
   "cell_type": "code",
   "execution_count": null,
   "metadata": {},
   "outputs": [],
   "source": [
    "// 19. Write a function which returns array of seven random numbers in a range of 0-9. \n",
    "// All the numbers must be unique.\n",
    "function sevenRandomNumbers() {\n",
    "  const numbers = [];\n",
    "  \n",
    "  while (numbers.length < 7) {\n",
    "    const randomNum = Math.floor(Math.random() * 10);\n",
    "    if (!numbers.includes(randomNum)) {\n",
    "      numbers.push(randomNum);\n",
    "    }\n",
    "  }\n",
    "  \n",
    "  return numbers;\n",
    "}\n",
    "\n",
    "console.log(sevenRandomNumbers()); // e.g., [1, 4, 5, 7, 9, 8, 0]"
   ]
  },
  {
   "cell_type": "code",
   "execution_count": null,
   "metadata": {},
   "outputs": [],
   "source": [
    "// 20. Write a function called reverseCountries, it takes countries array \n",
    "// and first it copies the array and returns the reverse of the original array\n",
    "function reverseCountries(countries) {\n",
    "  const copyCountries = [...countries]; // Create a copy\n",
    "  return copyCountries.reverse();\n",
    "}\n",
    "\n",
    "const countries = ['Finland', 'Sweden', 'Norway', 'Denmark', 'Iceland'];\n",
    "console.log(reverseCountries(countries));\n",
    "// ['Iceland', 'Denmark', 'Norway', 'Sweden', 'Finland']\n",
    "console.log(countries); // Original array unchanged"
   ]
  },
  {
   "cell_type": "code",
   "execution_count": null,
   "metadata": {},
   "outputs": [],
   "source": [
    "// 21. Bonus: Create a function that demonstrates the difference between \n",
    "// function declarations and arrow functions\n",
    "function demonstrateFunctionDifferences() {\n",
    "  console.log('=== Function Declaration vs Arrow Function ===');\n",
    "  \n",
    "  // Function declaration - can be called before definition (hoisting)\n",
    "  console.log('1. Hoisting:');\n",
    "  console.log(regularFunction()); // Works\n",
    "  \n",
    "  function regularFunction() {\n",
    "    return 'Regular function - hoisted!';\n",
    "  }\n",
    "  \n",
    "  // Arrow function - cannot be called before definition\n",
    "  const arrowFunction = () => {\n",
    "    return 'Arrow function - not hoisted!';\n",
    "  }\n",
    "  \n",
    "  console.log(arrowFunction());\n",
    "  \n",
    "  // Arguments object\n",
    "  console.log('\\n2. Arguments object:');\n",
    "  \n",
    "  function regularWithArgs() {\n",
    "    console.log('Regular function arguments:', arguments);\n",
    "  }\n",
    "  \n",
    "  const arrowWithArgs = (...args) => {\n",
    "    console.log('Arrow function args:', args);\n",
    "  }\n",
    "  \n",
    "  regularWithArgs(1, 2, 3);\n",
    "  arrowWithArgs(1, 2, 3);\n",
    "}\n",
    "\n",
    "demonstrateFunctionDifferences();"
   ]
  },
  {
   "cell_type": "markdown",
   "metadata": {},
   "source": [
    "---\n",
    "\n",
    "# 🎉 Congratulations!\n",
    "\n",
    "You have successfully completed Day 7 of the 30 Days of JavaScript challenge! Today you learned about:\n",
    "\n",
    "- ✅ Function declarations and expressions\n",
    "- ✅ Functions with and without parameters\n",
    "- ✅ Return statements and function scope\n",
    "- ✅ Arrow functions and their syntax variations\n",
    "- ✅ Default parameters and rest parameters\n",
    "- ✅ Anonymous and self-invoking functions\n",
    "- ✅ The differences between function types\n",
    "\n",
    "Functions are fundamental building blocks in JavaScript that help you write clean, reusable, and maintainable code. You're now equipped with the knowledge to create powerful and flexible functions for any programming task!\n",
    "\n",
    "Keep practicing and see you tomorrow for Day 8: Objects! 🚀"
   ]
  }
 ],
 "metadata": {
  "kernelspec": {
   "display_name": "JavaScript (Node.js)",
   "language": "javascript",
   "name": "javascript"
  },
  "language_info": {
   "file_extension": ".js",
   "mimetype": "application/javascript",
   "name": "javascript",
   "version": "18.0.0"
  }
 },
 "nbformat": 4,
 "nbformat_minor": 4
}