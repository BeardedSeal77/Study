{
 "cells": [
  {
   "cell_type": "markdown",
   "metadata": {},
   "source": [
    "# Day 9: Higher Order Functions\n",
    "\n",
    "Welcome to Day 9 of the 30 Days of JavaScript challenge. Today we will explore higher order functions and functional programming concepts in JavaScript.\n",
    "\n",
    "Higher order functions are functions which take other function as a parameter or return a function as a value. The function passed as a parameter is called callback."
   ]
  },
  {
   "cell_type": "markdown",
   "metadata": {},
   "source": [
    "## Table of Contents\n",
    "\n",
    "1. [Higher Order Functions](#higher-order-functions)\n",
    "   - Callback Functions\n",
    "   - Returning Functions\n",
    "   - Setting Time (setInterval, setTimeout)\n",
    "2. [Functional Programming](#functional-programming)\n",
    "   - forEach, map, filter, reduce\n",
    "   - every, find, findIndex, some\n",
    "   - sort (strings, numbers, objects)\n",
    "3. [Exercises](#exercises)\n",
    "   - Level 1: Basic Array Methods\n",
    "   - Level 2: Advanced Array Operations\n",
    "   - Level 3: Complex Data Analysis"
   ]
  },
  {
   "cell_type": "markdown",
   "metadata": {},
   "source": [
    "## Higher Order Functions\n",
    "\n",
    "Higher order functions are functions which take other function as a parameter or return a function as a value."
   ]
  },
  {
   "cell_type": "markdown",
   "metadata": {},
   "source": [
    "### Callback Functions\n",
    "\n",
    "A callback is a function which can be passed as parameter to other function."
   ]
  },
  {
   "cell_type": "code",
   "execution_count": null,
   "metadata": {},
   "outputs": [],
   "source": [
    "// a callback function, the name of the function could be any name\n",
    "const callback = (n) => {\n",
    "  return n ** 2\n",
    "}\n",
    "\n",
    "// function that takes other function as a callback\n",
    "function cube(callback, n) {\n",
    "  return callback(n) * n\n",
    "}\n",
    "\n",
    "console.log(cube(callback, 3))"
   ]
  },
  {
   "cell_type": "markdown",
   "metadata": {},
   "source": [
    "### Returning Functions\n",
    "\n",
    "Higher order functions return function as a value"
   ]
  },
  {
   "cell_type": "code",
   "execution_count": null,
   "metadata": {},
   "outputs": [],
   "source": [
    "// Higher order function returning an other function\n",
    "const higherOrder = n => {\n",
    "  const doSomething = m => {\n",
    "    const doWhatEver = t => {\n",
    "      return 2 * n + 3 * m + t\n",
    "    }\n",
    "    return doWhatEver\n",
    "  }\n",
    "  return doSomething\n",
    "}\n",
    "console.log(higherOrder(2)(3)(10))"
   ]
  },
  {
   "cell_type": "markdown",
   "metadata": {},
   "source": [
    "### Using Callbacks with Array Methods\n",
    "\n",
    "Let's see how we use callback functions with array methods like forEach:"
   ]
  },
  {
   "cell_type": "code",
   "execution_count": null,
   "metadata": {},
   "outputs": [],
   "source": [
    "const numbers = [1, 2, 3, 4, 5]\n",
    "const sumArray = arr => {\n",
    "  let sum = 0\n",
    "  const callback = function(element) {\n",
    "    sum += element\n",
    "  }\n",
    "  arr.forEach(callback)\n",
    "  return sum\n",
    "}\n",
    "console.log(sumArray(numbers))"
   ]
  },
  {
   "cell_type": "code",
   "execution_count": null,
   "metadata": {},
   "outputs": [],
   "source": [
    "// The above example can be simplified as follows:\n",
    "const numbers2 = [1, 2, 3, 4]\n",
    "\n",
    "const sumArray2 = arr => {\n",
    "  let sum = 0\n",
    "  arr.forEach(function(element) {\n",
    "    sum += element\n",
    "  })\n",
    "  return sum\n",
    "}\n",
    "console.log(sumArray2(numbers2))"
   ]
  },
  {
   "cell_type": "markdown",
   "metadata": {},
   "source": [
    "### Setting Time\n",
    "\n",
    "In JavaScript we can execute some activities in a certain interval of time or we can schedule(wait) for some time to execute some activities.\n",
    "\n",
    "#### setInterval\n",
    "The setInterval global method takes a callback function and a duration as parameters. The duration is in milliseconds."
   ]
  },
  {
   "cell_type": "code",
   "execution_count": null,
   "metadata": {},
   "outputs": [],
   "source": [
    "// Example of setInterval (commented out to avoid infinite execution)\n",
    "// function sayHello() {\n",
    "//   console.log('Hello')\n",
    "// }\n",
    "// setInterval(sayHello, 1000) // it prints hello in every second, 1000ms is 1s\n",
    "\n",
    "console.log('setInterval example is commented out to prevent infinite execution')"
   ]
  },
  {
   "cell_type": "markdown",
   "metadata": {},
   "source": [
    "#### setTimeout\n",
    "The setTimeout global method takes a callback function and a duration as parameters. The callback waits for that amount of time."
   ]
  },
  {
   "cell_type": "code",
   "execution_count": null,
   "metadata": {},
   "outputs": [],
   "source": [
    "// Example of setTimeout\n",
    "function sayHello() {\n",
    "  console.log('Hello after 2 seconds')\n",
    "}\n",
    "setTimeout(sayHello, 2000) // it prints hello after it waits for 2 seconds.\n",
    "console.log('This will execute immediately')"
   ]
  },
  {
   "cell_type": "markdown",
   "metadata": {},
   "source": [
    "## Functional Programming\n",
    "\n",
    "Instead of writing regular loop, latest version of JavaScript introduced lots of built in methods which can help us to solve complicated problems. All builtin methods take callback function."
   ]
  },
  {
   "cell_type": "markdown",
   "metadata": {},
   "source": [
    "### forEach\n",
    "\n",
    "forEach: Iterate an array elements. We use forEach only with arrays. It takes a callback function with elements, index parameter and array itself."
   ]
  },
  {
   "cell_type": "code",
   "execution_count": null,
   "metadata": {},
   "outputs": [],
   "source": [
    "// Basic forEach syntax\n",
    "const arr = [1, 2, 3, 4, 5]\n",
    "arr.forEach(function (element, index, arr) {\n",
    "  console.log(index, element, arr)\n",
    "})"
   ]
  },
  {
   "cell_type": "code",
   "execution_count": null,
   "metadata": {},
   "outputs": [],
   "source": [
    "// forEach with arrow function\n",
    "let sum = 0;\n",
    "const numbers = [1, 2, 3, 4, 5];\n",
    "numbers.forEach(num => {\n",
    "  console.log(num)\n",
    "  sum += num\n",
    "})\n",
    "console.log('Sum:', sum)"
   ]
  },
  {
   "cell_type": "code",
   "execution_count": null,
   "metadata": {},
   "outputs": [],
   "source": [
    "// forEach with countries\n",
    "const countries = ['Finland', 'Denmark', 'Sweden', 'Norway', 'Iceland']\n",
    "countries.forEach((element) => console.log(element.toUpperCase()))"
   ]
  },
  {
   "cell_type": "markdown",
   "metadata": {},
   "source": [
    "### map\n",
    "\n",
    "map: Iterate an array elements and modify the array elements. It takes a callback function and returns a new array."
   ]
  },
  {
   "cell_type": "code",
   "execution_count": null,
   "metadata": {},
   "outputs": [],
   "source": [
    "// Basic map example\n",
    "const numbers = [1, 2, 3, 4, 5]\n",
    "const numbersSquare = numbers.map((num) => num * num)\n",
    "\n",
    "console.log('Original:', numbers)\n",
    "console.log('Squared:', numbersSquare)"
   ]
  },
  {
   "cell_type": "code",
   "execution_count": null,
   "metadata": {},
   "outputs": [],
   "source": [
    "// Map with names\n",
    "const names = ['Asabeneh', 'Mathias', 'Elias', 'Brook']\n",
    "const namesToUpperCase = names.map((name) => name.toUpperCase())\n",
    "console.log(namesToUpperCase)"
   ]
  },
  {
   "cell_type": "code",
   "execution_count": null,
   "metadata": {},
   "outputs": [],
   "source": [
    "// Map with countries - multiple transformations\n",
    "const countries = [\n",
    "  'Albania',\n",
    "  'Bolivia',\n",
    "  'Canada',\n",
    "  'Denmark',\n",
    "  'Ethiopia',\n",
    "  'Finland',\n",
    "  'Germany',\n",
    "  'Hungary',\n",
    "  'Ireland',\n",
    "  'Japan',\n",
    "  'Kenya',\n",
    "]\n",
    "\n",
    "const countriesToUpperCase = countries.map((country) => country.toUpperCase())\n",
    "console.log('Uppercase:', countriesToUpperCase)\n",
    "\n",
    "const countriesFirstThreeLetters = countries.map((country) =>\n",
    "  country.toUpperCase().slice(0, 3)\n",
    ")\n",
    "console.log('First 3 letters:', countriesFirstThreeLetters)"
   ]
  },
  {
   "cell_type": "markdown",
   "metadata": {},
   "source": [
    "### filter\n",
    "\n",
    "Filter: Filter out items which full fill filtering conditions and return a new array."
   ]
  },
  {
   "cell_type": "code",
   "execution_count": null,
   "metadata": {},
   "outputs": [],
   "source": [
    "// Filter countries containing 'land'\n",
    "const countries = ['Finland', 'Denmark', 'Sweden', 'Norway', 'Iceland', 'Ireland']\n",
    "const countriesContainingLand = countries.filter((country) =>\n",
    "  country.includes('land')\n",
    ")\n",
    "console.log('Countries with \"land\":', countriesContainingLand)"
   ]
  },
  {
   "cell_type": "code",
   "execution_count": null,
   "metadata": {},
   "outputs": [],
   "source": [
    "// Filter countries ending with 'ia'\n",
    "const allCountries = ['Albania', 'Bolivia', 'Ethiopia', 'Finland', 'Germany']\n",
    "const countriesEndsByia = allCountries.filter((country) => country.endsWith('ia'))\n",
    "console.log('Countries ending with \"ia\":', countriesEndsByia)"
   ]
  },
  {
   "cell_type": "code",
   "execution_count": null,
   "metadata": {},
   "outputs": [],
   "source": [
    "// Filter countries with exactly 5 letters\n",
    "const countriesHaveFiveLetters = countries.filter(\n",
    "  (country) => country.length === 5\n",
    ")\n",
    "console.log('Countries with 5 letters:', countriesHaveFiveLetters)"
   ]
  },
  {
   "cell_type": "code",
   "execution_count": null,
   "metadata": {},
   "outputs": [],
   "source": [
    "// Filter objects by property\n",
    "const scores = [\n",
    "  { name: 'Asabeneh', score: 95 },\n",
    "  { name: 'Lidiya', score: 98 },\n",
    "  { name: 'Mathias', score: 80 },\n",
    "  { name: 'Elias', score: 50 },\n",
    "  { name: 'Martha', score: 85 },\n",
    "  { name: 'John', score: 100 },\n",
    "]\n",
    "\n",
    "const scoresGreaterEighty = scores.filter((score) => score.score > 80)\n",
    "console.log('Scores > 80:', scoresGreaterEighty)"
   ]
  },
  {
   "cell_type": "markdown",
   "metadata": {},
   "source": [
    "### reduce\n",
    "\n",
    "reduce: Reduce takes a callback function. The callback function takes accumulator, current, and optional initial value as a parameter and returns a single value."
   ]
  },
  {
   "cell_type": "code",
   "execution_count": null,
   "metadata": {},
   "outputs": [],
   "source": [
    "// Basic reduce example - sum of numbers\n",
    "const numbers = [1, 2, 3, 4, 5]\n",
    "const sum = numbers.reduce((acc, cur) => acc + cur, 0)\n",
    "console.log('Sum:', sum)"
   ]
  },
  {
   "cell_type": "code",
   "execution_count": null,
   "metadata": {},
   "outputs": [],
   "source": [
    "// Reduce to find maximum value\n",
    "const numbers = [1, 2, 3, 4, 5, 10, 8]\n",
    "const max = numbers.reduce((acc, cur) => acc > cur ? acc : cur, 0)\n",
    "console.log('Maximum:', max)"
   ]
  },
  {
   "cell_type": "code",
   "execution_count": null,
   "metadata": {},
   "outputs": [],
   "source": [
    "// Reduce to concatenate strings\n",
    "const countries = ['Finland', 'Sweden', 'Denmark']\n",
    "const sentence = countries.reduce((acc, cur, index) => {\n",
    "  if (index === 0) return cur\n",
    "  if (index === countries.length - 1) return acc + ' and ' + cur\n",
    "  return acc + ', ' + cur\n",
    "}, '')\n",
    "console.log(sentence + ' are Nordic countries')"
   ]
  },
  {
   "cell_type": "markdown",
   "metadata": {},
   "source": [
    "### every\n",
    "\n",
    "every: Check if all the elements are similar in one aspect. It returns boolean"
   ]
  },
  {
   "cell_type": "code",
   "execution_count": null,
   "metadata": {},
   "outputs": [],
   "source": [
    "// Check if all names are strings\n",
    "const names = ['Asabeneh', 'Mathias', 'Elias', 'Brook']\n",
    "const areAllStr = names.every((name) => typeof name === 'string')\n",
    "console.log('Are all strings?', areAllStr)"
   ]
  },
  {
   "cell_type": "code",
   "execution_count": null,
   "metadata": {},
   "outputs": [],
   "source": [
    "// Check if all values are true\n",
    "const bools = [true, true, true, true]\n",
    "const areAllTrue = bools.every((b) => b === true)\n",
    "console.log('Are all true?', areAllTrue)"
   ]
  },
  {
   "cell_type": "markdown",
   "metadata": {},
   "source": [
    "### find\n",
    "\n",
    "find: Return the first element which satisfies the condition"
   ]
  },
  {
   "cell_type": "code",
   "execution_count": null,
   "metadata": {},
   "outputs": [],
   "source": [
    "// Find first age less than 20\n",
    "const ages = [24, 22, 25, 32, 35, 18]\n",
    "const age = ages.find((age) => age < 20)\n",
    "console.log('First age < 20:', age)"
   ]
  },
  {
   "cell_type": "code",
   "execution_count": null,
   "metadata": {},
   "outputs": [],
   "source": [
    "// Find first name longer than 7 characters\n",
    "const names = ['Asabeneh', 'Mathias', 'Elias', 'Brook']\n",
    "const result = names.find((name) => name.length > 7)\n",
    "console.log('First name > 7 chars:', result)"
   ]
  },
  {
   "cell_type": "code",
   "execution_count": null,
   "metadata": {},
   "outputs": [],
   "source": [
    "// Find first score greater than 80\n",
    "const scores = [\n",
    "  { name: 'Asabeneh', score: 95 },\n",
    "  { name: 'Mathias', score: 80 },\n",
    "  { name: 'Elias', score: 50 },\n",
    "  { name: 'Martha', score: 85 },\n",
    "  { name: 'John', score: 100 },\n",
    "]\n",
    "\n",
    "const score = scores.find((user) => user.score > 80)\n",
    "console.log('First score > 80:', score)"
   ]
  },
  {
   "cell_type": "markdown",
   "metadata": {},
   "source": [
    "### findIndex\n",
    "\n",
    "findIndex: Return the position of the first element which satisfies the condition"
   ]
  },
  {
   "cell_type": "code",
   "execution_count": null,
   "metadata": {},
   "outputs": [],
   "source": [
    "// Find index of first name longer than 7 characters\n",
    "const names = ['Asabeneh', 'Mathias', 'Elias', 'Brook']\n",
    "const ages = [24, 22, 25, 32, 35, 18]\n",
    "\n",
    "const nameIndex = names.findIndex((name) => name.length > 7)\n",
    "console.log('Index of first name > 7 chars:', nameIndex)\n",
    "\n",
    "const ageIndex = ages.findIndex((age) => age < 20)\n",
    "console.log('Index of first age < 20:', ageIndex)"
   ]
  },
  {
   "cell_type": "markdown",
   "metadata": {},
   "source": [
    "### some\n",
    "\n",
    "some: Check if some of the elements are similar in one aspect. It returns boolean"
   ]
  },
  {
   "cell_type": "code",
   "execution_count": null,
   "metadata": {},
   "outputs": [],
   "source": [
    "// Check if some values are true\n",
    "const names = ['Asabeneh', 'Mathias', 'Elias', 'Brook']\n",
    "const bools = [true, true, true, true]\n",
    "\n",
    "const areSomeTrue = bools.some((b) => b === true)\n",
    "console.log('Are some true?', areSomeTrue)\n",
    "\n",
    "const areAllStr = names.some((name) => typeof name === 'number')\n",
    "console.log('Are some numbers?', areAllStr)"
   ]
  },
  {
   "cell_type": "markdown",
   "metadata": {},
   "source": [
    "### sort\n",
    "\n",
    "sort: The sort methods arranges the array elements either ascending or descending order. By default, the sort() method sorts values as strings."
   ]
  },
  {
   "cell_type": "markdown",
   "metadata": {},
   "source": [
    "#### Sorting String Values"
   ]
  },
  {
   "cell_type": "code",
   "execution_count": null,
   "metadata": {},
   "outputs": [],
   "source": [
    "// Sorting strings\n",
    "const products = ['Milk', 'Coffee', 'Sugar', 'Honey', 'Apple', 'Carrot']\n",
    "console.log('Original:', products)\n",
    "console.log('Sorted:', products.sort())\n",
    "// Note: the original array is also sorted"
   ]
  },
  {
   "cell_type": "markdown",
   "metadata": {},
   "source": [
    "#### Sorting Numeric Values"
   ]
  },
  {
   "cell_type": "code",
   "execution_count": null,
   "metadata": {},
   "outputs": [],
   "source": [
    "// Sorting numbers - wrong way\n",
    "const numbers = [9.81, 3.14, 100, 37]\n",
    "console.log('Original:', numbers)\n",
    "console.log('Wrong sort (as strings):', [...numbers].sort())\n",
    "\n",
    "// Correct way - ascending\n",
    "const numbersAsc = [...numbers].sort(function (a, b) {\n",
    "  return a - b\n",
    "})\n",
    "console.log('Correct ascending:', numbersAsc)\n",
    "\n",
    "// Correct way - descending\n",
    "const numbersDesc = [...numbers].sort(function (a, b) {\n",
    "  return b - a\n",
    "})\n",
    "console.log('Correct descending:', numbersDesc)"
   ]
  },
  {
   "cell_type": "markdown",
   "metadata": {},
   "source": [
    "#### Sorting Object Arrays"
   ]
  },
  {
   "cell_type": "code",
   "execution_count": null,
   "metadata": {},
   "outputs": [],
   "source": [
    "// Sorting objects by age\n",
    "const users = [\n",
    "  { name: 'Asabeneh', age: 150 },\n",
    "  { name: 'Brook', age: 50 },\n",
    "  { name: 'Eyob', age: 100 },\n",
    "  { name: 'Elias', age: 22 },\n",
    "]\n",
    "\n",
    "console.log('Original:', users)\n",
    "\n",
    "// Sort by age ascending\n",
    "const sortedByAge = [...users].sort((a, b) => {\n",
    "  if (a.age < b.age) return -1\n",
    "  if (a.age > b.age) return 1\n",
    "  return 0\n",
    "})\n",
    "console.log('Sorted by age:', sortedByAge)\n",
    "\n",
    "// Sort by name alphabetically\n",
    "const sortedByName = [...users].sort((a, b) => {\n",
    "  if (a.name < b.name) return -1\n",
    "  if (a.name > b.name) return 1\n",
    "  return 0\n",
    "})\n",
    "console.log('Sorted by name:', sortedByName)"
   ]
  },
  {
   "cell_type": "markdown",
   "metadata": {},
   "source": [
    "## Exercise Data\n",
    "\n",
    "Let's prepare the data arrays that we'll use for our exercises:"
   ]
  },
  {
   "cell_type": "code",
   "execution_count": null,
   "metadata": {},
   "outputs": [],
   "source": [
    "// Exercise data arrays\n",
    "const countries = ['Finland', 'Sweden', 'Denmark', 'Norway', 'IceLand']\n",
    "const names = ['Asabeneh', 'Mathias', 'Elias', 'Brook']\n",
    "const numbers = [1, 2, 3, 4, 5, 6, 7, 8, 9, 10]\n",
    "const products = [\n",
    "  { product: 'banana', price: 3 },\n",
    "  { product: 'mango', price: 6 },\n",
    "  { product: 'potato', price: ' ' },\n",
    "  { product: 'avocado', price: 8 },\n",
    "  { product: 'coffee', price: 10 },\n",
    "  { product: 'tea', price: '' },\n",
    "]\n",
    "\n",
    "console.log('Exercise data loaded successfully!')\n",
    "console.log('Countries:', countries)\n",
    "console.log('Names:', names)\n",
    "console.log('Numbers:', numbers)\n",
    "console.log('Products:', products)"
   ]
  },
  {
   "cell_type": "markdown",
   "metadata": {},
   "source": [
    "## Exercises\n",
    "\n",
    "Now let's practice what we've learned with hands-on exercises!"
   ]
  },
  {
   "cell_type": "markdown",
   "metadata": {},
   "source": [
    "### Exercises: Level 1\n",
    "\n",
    "Basic exercises to practice array methods and higher order functions."
   ]
  },
  {
   "cell_type": "markdown",
   "metadata": {},
   "source": [
    "#### 1. Explain the difference between forEach, map, filter, and reduce"
   ]
  },
  {
   "cell_type": "code",
   "execution_count": null,
   "metadata": {},
   "outputs": [],
   "source": [
    "// Answer:\n",
    "console.log(`\n",
    "Differences between array methods:\n",
    "\n",
    "forEach: \n",
    "- Iterates through array elements\n",
    "- Executes a function for each element\n",
    "- Returns undefined\n",
    "- Doesn't create a new array\n",
    "\n",
    "map: \n",
    "- Iterates through array elements\n",
    "- Transforms each element using a function\n",
    "- Returns a new array with transformed elements\n",
    "- Original array remains unchanged\n",
    "\n",
    "filter: \n",
    "- Iterates through array elements\n",
    "- Tests each element with a condition\n",
    "- Returns a new array with elements that pass the test\n",
    "- Original array remains unchanged\n",
    "\n",
    "reduce: \n",
    "- Iterates through array elements\n",
    "- Accumulates values using a reducer function\n",
    "- Returns a single value (can be any type)\n",
    "- Takes an accumulator and current value as parameters\n",
    "`)"
   ]
  },
  {
   "cell_type": "markdown",
   "metadata": {},
   "source": [
    "#### 2. Define a callback function before you use it in forEach, map, filter or reduce"
   ]
  },
  {
   "cell_type": "code",
   "execution_count": null,
   "metadata": {},
   "outputs": [],
   "source": [
    "// Define callback functions\n",
    "const printElement = (element, index) => {\n",
    "    console.log(`Index ${index}: ${element}`)\n",
    "}\n",
    "\n",
    "const doubleNumber = (num) => num * 2\n",
    "\n",
    "const isEven = (num) => num % 2 === 0\n",
    "\n",
    "const addNumbers = (acc, current) => acc + current\n",
    "\n",
    "// Using the callback functions\n",
    "const testArray = [1, 2, 3, 4, 5]\n",
    "\n",
    "console.log('forEach with callback:')\n",
    "testArray.forEach(printElement)\n",
    "\n",
    "console.log('\\nmap with callback:', testArray.map(doubleNumber))\n",
    "console.log('filter with callback:', testArray.filter(isEven))\n",
    "console.log('reduce with callback:', testArray.reduce(addNumbers, 0))"
   ]
  },
  {
   "cell_type": "markdown",
   "metadata": {},
   "source": [
    "#### 3. Use forEach to console.log each country in the countries array"
   ]
  },
  {
   "cell_type": "code",
   "execution_count": null,
   "metadata": {},
   "outputs": [],
   "source": [
    "console.log('3. Countries using forEach:')\n",
    "countries.forEach(country => console.log(country))"
   ]
  },
  {
   "cell_type": "markdown",
   "metadata": {},
   "source": [
    "#### 4. Use forEach to console.log each name in the names array"
   ]
  },
  {
   "cell_type": "code",
   "execution_count": null,
   "metadata": {},
   "outputs": [],
   "source": [
    "console.log('4. Names using forEach:')\n",
    "names.forEach(name => console.log(name))"
   ]
  },
  {
   "cell_type": "markdown",
   "metadata": {},
   "source": [
    "#### 5. Use forEach to console.log each number in the numbers array"
   ]
  },
  {
   "cell_type": "code",
   "execution_count": null,
   "metadata": {},
   "outputs": [],
   "source": [
    "console.log('5. Numbers using forEach:')\n",
    "numbers.forEach(number => console.log(number))"
   ]
  },
  {
   "cell_type": "markdown",
   "metadata": {},
   "source": [
    "#### 6. Use map to create a new array by changing each country to uppercase"
   ]
  },
  {
   "cell_type": "code",
   "execution_count": null,
   "metadata": {},
   "outputs": [],
   "source": [
    "const uppercaseCountries = countries.map(country => country.toUpperCase())\n",
    "console.log('6. Uppercase countries:', uppercaseCountries)"
   ]
  },
  {
   "cell_type": "markdown",
   "metadata": {},
   "source": [
    "#### 7. Use map to create an array of countries length"
   ]
  },
  {
   "cell_type": "code",
   "execution_count": null,
   "metadata": {},
   "outputs": [],
   "source": [
    "const countriesLength = countries.map(country => country.length)\n",
    "console.log('7. Countries length:', countriesLength)"
   ]
  },
  {
   "cell_type": "markdown",
   "metadata": {},
   "source": [
    "#### 8. Use map to create a new array by changing each number to square"
   ]
  },
  {
   "cell_type": "code",
   "execution_count": null,
   "metadata": {},
   "outputs": [],
   "source": [
    "const squaredNumbers = numbers.map(number => number ** 2)\n",
    "console.log('8. Squared numbers:', squaredNumbers)"
   ]
  },
  {
   "cell_type": "markdown",
   "metadata": {},
   "source": [
    "#### 9. Use map to change each name to uppercase"
   ]
  },
  {
   "cell_type": "code",
   "execution_count": null,
   "metadata": {},
   "outputs": [],
   "source": [
    "const uppercaseNames = names.map(name => name.toUpperCase())\n",
    "console.log('9. Uppercase names:', uppercaseNames)"
   ]
  },
  {
   "cell_type": "markdown",
   "metadata": {},
   "source": [
    "#### 10. Use map to map the products array to its corresponding prices"
   ]
  },
  {
   "cell_type": "code",
   "execution_count": null,
   "metadata": {},
   "outputs": [],
   "source": [
    "const prices = products.map(product => product.price)\n",
    "console.log('10. Product prices:', prices)"
   ]
  },
  {
   "cell_type": "markdown",
   "metadata": {},
   "source": [
    "#### 11. Use filter to filter out countries containing 'land'"
   ]
  },
  {
   "cell_type": "code",
   "execution_count": null,
   "metadata": {},
   "outputs": [],
   "source": [
    "const countriesWithLand = countries.filter(country => country.toLowerCase().includes('land'))\n",
    "console.log('11. Countries with \"land\":', countriesWithLand)"
   ]
  },
  {
   "cell_type": "markdown",
   "metadata": {},
   "source": [
    "#### 12. Use filter to filter out countries having six characters"
   ]
  },
  {
   "cell_type": "code",
   "execution_count": null,
   "metadata": {},
   "outputs": [],
   "source": [
    "const sixCharCountries = countries.filter(country => country.length === 6)\n",
    "console.log('12. Countries with 6 characters:', sixCharCountries)"
   ]
  },
  {
   "cell_type": "markdown",
   "metadata": {},
   "source": [
    "#### 13. Use filter to filter out countries containing six letters and more"
   ]
  },
  {
   "cell_type": "code",
   "execution_count": null,
   "metadata": {},
   "outputs": [],
   "source": [
    "const sixOrMoreCharCountries = countries.filter(country => country.length >= 6)\n",
    "console.log('13. Countries with 6+ characters:', sixOrMoreCharCountries)"
   ]
  },
  {
   "cell_type": "markdown",
   "metadata": {},
   "source": [
    "#### 14. Use filter to filter out countries that start with 'E'"
   ]
  },
  {
   "cell_type": "code",
   "execution_count": null,
   "metadata": {},
   "outputs": [],
   "source": [
    "// Note: None of the countries in our array start with 'E', let's add some for demonstration\n",
    "const extendedCountries = [...countries, 'Estonia', 'Egypt', 'Ethiopia']\n",
    "const countriesStartingWithE = extendedCountries.filter(country => country.startsWith('E'))\n",
    "console.log('14. Countries starting with \"E\":', countriesStartingWithE)"
   ]
  },
  {
   "cell_type": "markdown",
   "metadata": {},
   "source": [
    "#### 15. Use filter to filter out only prices with values"
   ]
  },
  {
   "cell_type": "code",
   "execution_count": null,
   "metadata": {},
   "outputs": [],
   "source": [
    "const validPrices = products.filter(product => \n",
    "    product.price !== '' && \n",
    "    product.price !== ' ' && \n",
    "    typeof product.price === 'number'\n",
    ")\n",
    "console.log('15. Products with valid prices:', validPrices)"
   ]
  },
  {
   "cell_type": "markdown",
   "metadata": {},
   "source": [
    "#### 16. Declare a function called getStringLists which takes an array as a parameter and returns an array only with string items"
   ]
  },
  {
   "cell_type": "code",
   "execution_count": null,
   "metadata": {},
   "outputs": [],
   "source": [
    "function getStringLists(arr) {\n",
    "    return arr.filter(item => typeof item === 'string')\n",
    "}\n",
    "\n",
    "// Test the function\n",
    "const mixedArray = ['hello', 42, 'world', true, 'JavaScript', 3.14, 'array']\n",
    "console.log('16. String items only:', getStringLists(mixedArray))"
   ]
  },
  {
   "cell_type": "markdown",
   "metadata": {},
   "source": [
    "#### 17. Use reduce to sum all the numbers in the numbers array"
   ]
  },
  {
   "cell_type": "code",
   "execution_count": null,
   "metadata": {},
   "outputs": [],
   "source": [
    "const sum = numbers.reduce((acc, current) => acc + current, 0)\n",
    "console.log('17. Sum of numbers:', sum)"
   ]
  },
  {
   "cell_type": "markdown",
   "metadata": {},
   "source": [
    "#### 18. Use reduce to concatenate all the countries and produce a sentence"
   ]
  },
  {
   "cell_type": "code",
   "execution_count": null,
   "metadata": {},
   "outputs": [],
   "source": [
    "const sentence = countries.reduce((acc, country, index) => {\n",
    "    if (index === 0) {\n",
    "        return country\n",
    "    } else if (index === countries.length - 1) {\n",
    "        return acc + ', and ' + country\n",
    "    } else {\n",
    "        return acc + ', ' + country\n",
    "    }\n",
    "}, '') + ' are north European countries'\n",
    "\n",
    "console.log('18. Countries sentence:', sentence)"
   ]
  },
  {
   "cell_type": "markdown",
   "metadata": {},
   "source": [
    "#### 19. Explain the difference between some and every"
   ]
  },
  {
   "cell_type": "code",
   "execution_count": null,
   "metadata": {},
   "outputs": [],
   "source": [
    "console.log(`\n",
    "19. Difference between some and every:\n",
    "\n",
    "some():\n",
    "- Tests whether AT LEAST ONE element in the array passes the test\n",
    "- Returns true if ANY element satisfies the condition\n",
    "- Returns false only if NO elements satisfy the condition\n",
    "- Stops testing as soon as it finds one matching element\n",
    "\n",
    "every():\n",
    "- Tests whether ALL elements in the array pass the test\n",
    "- Returns true only if ALL elements satisfy the condition\n",
    "- Returns false if ANY element fails the condition\n",
    "- Stops testing as soon as it finds one non-matching element\n",
    "`)\n",
    "\n",
    "// Example\n",
    "const testNumbers = [2, 4, 6, 8, 9]\n",
    "console.log('Test array:', testNumbers)\n",
    "console.log('some are even:', testNumbers.some(num => num % 2 === 0))\n",
    "console.log('every is even:', testNumbers.every(num => num % 2 === 0))"
   ]
  },
  {
   "cell_type": "markdown",
   "metadata": {},
   "source": [
    "#### 20. Use some to check if some names' length greater than seven"
   ]
  },
  {
   "cell_type": "code",
   "execution_count": null,
   "metadata": {},
   "outputs": [],
   "source": [
    "const someNamesLong = names.some(name => name.length > 7)\n",
    "console.log('20. Some names longer than 7 characters:', someNamesLong)\n",
    "console.log('Names and their lengths:')\n",
    "names.forEach(name => console.log(`${name}: ${name.length} characters`))"
   ]
  },
  {
   "cell_type": "markdown",
   "metadata": {},
   "source": [
    "#### 21. Use every to check if all the countries contain the word 'land'"
   ]
  },
  {
   "cell_type": "code",
   "execution_count": null,
   "metadata": {},
   "outputs": [],
   "source": [
    "const allContainLand = countries.every(country => country.toLowerCase().includes('land'))\n",
    "console.log('21. All countries contain \"land\":', allContainLand)\n",
    "console.log('Countries check:')\n",
    "countries.forEach(country => {\n",
    "    console.log(`${country}: ${country.toLowerCase().includes('land') ? 'contains' : 'does not contain'} \"land\"`)\n",
    "})"
   ]
  },
  {
   "cell_type": "markdown",
   "metadata": {},
   "source": [
    "#### 22. Explain the difference between find and findIndex"
   ]
  },
  {
   "cell_type": "code",
   "execution_count": null,
   "metadata": {},
   "outputs": [],
   "source": [
    "console.log(`\n",
    "22. Difference between find and findIndex:\n",
    "\n",
    "find():\n",
    "- Returns the FIRST ELEMENT that satisfies the condition\n",
    "- Returns the actual value/object\n",
    "- Returns undefined if no element is found\n",
    "- Useful when you need the element itself\n",
    "\n",
    "findIndex():\n",
    "- Returns the INDEX (position) of the first element that satisfies the condition\n",
    "- Returns a number (the index)\n",
    "- Returns -1 if no element is found\n",
    "- Useful when you need to know the position of the element\n",
    "`)\n",
    "\n",
    "// Example\n",
    "const testArray = [10, 20, 30, 40, 50]\n",
    "const condition = num => num > 25\n",
    "\n",
    "console.log('Test array:', testArray)\n",
    "console.log('find (first > 25):', testArray.find(condition))\n",
    "console.log('findIndex (first > 25):', testArray.findIndex(condition))"
   ]
  },
  {
   "cell_type": "markdown",
   "metadata": {},
   "source": [
    "#### 23. Use find to find the first country containing only six letters"
   ]
  },
  {
   "cell_type": "code",
   "execution_count": null,
   "metadata": {},
   "outputs": [],
   "source": [
    "const firstSixLetterCountry = countries.find(country => country.length === 6)\n",
    "console.log('23. First country with 6 letters:', firstSixLetterCountry)"
   ]
  },
  {
   "cell_type": "markdown",
   "metadata": {},
   "source": [
    "#### 24. Use findIndex to find the position of the first country containing only six letters"
   ]
  },
  {
   "cell_type": "code",
   "execution_count": null,
   "metadata": {},
   "outputs": [],
   "source": [
    "const firstSixLetterCountryIndex = countries.findIndex(country => country.length === 6)\n",
    "console.log('24. Index of first country with 6 letters:', firstSixLetterCountryIndex)"
   ]
  },
  {
   "cell_type": "markdown",
   "metadata": {},
   "source": [
    "#### 25. Use findIndex to find the position of Norway"
   ]
  },
  {
   "cell_type": "code",
   "execution_count": null,
   "metadata": {},
   "outputs": [],
   "source": [
    "const norwayIndex = countries.findIndex(country => country === 'Norway')\n",
    "console.log('25. Index of Norway:', norwayIndex)"
   ]
  },
  {
   "cell_type": "markdown",
   "metadata": {},
   "source": [
    "#### 26. Use findIndex to find the position of Russia"
   ]
  },
  {
   "cell_type": "code",
   "execution_count": null,
   "metadata": {},
   "outputs": [],
   "source": [
    "const russiaIndex = countries.findIndex(country => country === 'Russia')\n",
    "console.log('26. Index of Russia:', russiaIndex, '(returns -1 because Russia is not in the array)')"
   ]
  },
  {
   "cell_type": "markdown",
   "metadata": {},
   "source": [
    "### Exercises: Level 2\n",
    "\n",
    "More advanced exercises combining multiple array methods."
   ]
  },
  {
   "cell_type": "markdown",
   "metadata": {},
   "source": [
    "#### 1. Find the total price of products by chaining two or more array iterators"
   ]
  },
  {
   "cell_type": "code",
   "execution_count": null,
   "metadata": {},
   "outputs": [],
   "source": [
    "const totalPrice = products\n",
    "    .filter(product => typeof product.price === 'number' && product.price > 0)\n",
    "    .map(product => product.price)\n",
    "    .reduce((total, price) => total + price, 0)\n",
    "\n",
    "console.log('Level 2.1 - Total price using chaining:', totalPrice)\n",
    "console.log('Valid products with prices:')\n",
    "products\n",
    "    .filter(product => typeof product.price === 'number' && product.price > 0)\n",
    "    .forEach(product => console.log(`${product.product}: $${product.price}`))"
   ]
  },
  {
   "cell_type": "markdown",
   "metadata": {},
   "source": [
    "#### 2. Find the sum of price of products using only reduce"
   ]
  },
  {
   "cell_type": "code",
   "execution_count": null,
   "metadata": {},
   "outputs": [],
   "source": [
    "const totalPriceReduce = products.reduce((total, product) => {\n",
    "    if (typeof product.price === 'number' && product.price > 0) {\n",
    "        return total + product.price\n",
    "    }\n",
    "    return total\n",
    "}, 0)\n",
    "\n",
    "console.log('Level 2.2 - Total price using only reduce:', totalPriceReduce)"
   ]
  },
  {
   "cell_type": "markdown",
   "metadata": {},
   "source": [
    "#### 3. Declare a function called categorizeCountries which returns an array of countries which have some common pattern"
   ]
  },
  {
   "cell_type": "code",
   "execution_count": null,
   "metadata": {},
   "outputs": [],
   "source": [
    "function categorizeCountries(pattern) {\n",
    "    const allCountries = [\n",
    "        'Finland', 'Sweden', 'Denmark', 'Norway', 'Iceland', 'Ireland', 'Poland',\n",
    "        'India', 'Australia', 'Estonia', 'Latvia', 'Lithuania', 'Albania',\n",
    "        'Bosnia', 'Croatia', 'Serbia', 'Pakistan', 'Afghanistan', 'Uzbekistan'\n",
    "    ]\n",
    "    \n",
    "    return allCountries.filter(country => \n",
    "        country.toLowerCase().includes(pattern.toLowerCase())\n",
    "    )\n",
    "}\n",
    "\n",
    "console.log('Level 2.3 - Countries with \"land\":', categorizeCountries('land'))\n",
    "console.log('Countries with \"ia\":', categorizeCountries('ia'))\n",
    "console.log('Countries with \"stan\":', categorizeCountries('stan'))"
   ]
  },
  {
   "cell_type": "markdown",
   "metadata": {},
   "source": [
    "#### 4. Create a function which returns an array of objects with the letter and the number of times the letter is used to start a country name"
   ]
  },
  {
   "cell_type": "code",
   "execution_count": null,
   "metadata": {},
   "outputs": [],
   "source": [
    "function countCountryStartingLetters() {\n",
    "    const allCountries = [\n",
    "        'Afghanistan', 'Albania', 'Algeria', 'Australia', 'Austria',\n",
    "        'Belgium', 'Brazil', 'Bulgaria',\n",
    "        'Canada', 'China', 'Croatia',\n",
    "        'Denmark',\n",
    "        'Estonia', 'Egypt',\n",
    "        'Finland', 'France',\n",
    "        'Germany', 'Greece',\n",
    "        'Hungary',\n",
    "        'Iceland', 'India', 'Ireland', 'Italy',\n",
    "        'Japan',\n",
    "        'Kenya',\n",
    "        'Latvia', 'Lithuania',\n",
    "        'Norway',\n",
    "        'Poland', 'Portugal',\n",
    "        'Russia',\n",
    "        'Spain', 'Sweden', 'Switzerland'\n",
    "    ]\n",
    "    \n",
    "    const letterCount = {}\n",
    "    \n",
    "    allCountries.forEach(country => {\n",
    "        const firstLetter = country[0].toUpperCase()\n",
    "        letterCount[firstLetter] = (letterCount[firstLetter] || 0) + 1\n",
    "    })\n",
    "    \n",
    "    return Object.keys(letterCount)\n",
    "        .map(letter => ({\n",
    "            letter: letter,\n",
    "            count: letterCount[letter]\n",
    "        }))\n",
    "        .sort((a, b) => b.count - a.count)\n",
    "}\n",
    "\n",
    "console.log('Level 2.4 - Country starting letters:')\n",
    "console.log(countCountryStartingLetters())"
   ]
  },
  {
   "cell_type": "markdown",
   "metadata": {},
   "source": [
    "#### 5. Declare a getFirstTenCountries function and return an array of ten countries"
   ]
  },
  {
   "cell_type": "code",
   "execution_count": null,
   "metadata": {},
   "outputs": [],
   "source": [
    "function getFirstTenCountries() {\n",
    "    const allCountries = [\n",
    "        'Afghanistan', 'Albania', 'Algeria', 'Australia', 'Austria',\n",
    "        'Belgium', 'Brazil', 'Bulgaria', 'Canada', 'China', \n",
    "        'Croatia', 'Denmark', 'Estonia', 'Finland', 'France'\n",
    "    ]\n",
    "    \n",
    "    return allCountries\n",
    "        .sort()\n",
    "        .slice(0, 10)\n",
    "}\n",
    "\n",
    "console.log('Level 2.5 - First ten countries:', getFirstTenCountries())"
   ]
  },
  {
   "cell_type": "markdown",
   "metadata": {},
   "source": [
    "#### 6. Declare a getLastTenCountries function which returns the last ten countries"
   ]
  },
  {
   "cell_type": "code",
   "execution_count": null,
   "metadata": {},
   "outputs": [],
   "source": [
    "function getLastTenCountries() {\n",
    "    const allCountries = [\n",
    "        'Afghanistan', 'Albania', 'Algeria', 'Australia', 'Austria',\n",
    "        'Belgium', 'Brazil', 'Bulgaria', 'Canada', 'China', \n",
    "        'Croatia', 'Denmark', 'Estonia', 'Finland', 'France',\n",
    "        'Germany', 'Greece', 'Hungary', 'Iceland', 'India',\n",
    "        'Ireland', 'Italy', 'Japan', 'Kenya', 'Latvia'\n",
    "    ]\n",
    "    \n",
    "    return allCountries\n",
    "        .sort()\n",
    "        .slice(-10)\n",
    "}\n",
    "\n",
    "console.log('Level 2.6 - Last ten countries:', getLastTenCountries())"
   ]
  },
  {
   "cell_type": "markdown",
   "metadata": {},
   "source": [
    "#### 7. Find out which letter is used many times as initial for a country name"
   ]
  },
  {
   "cell_type": "code",
   "execution_count": null,
   "metadata": {},
   "outputs": [],
   "source": [
    "function mostUsedInitialLetter() {\n",
    "    const allCountries = [\n",
    "        'Afghanistan', 'Albania', 'Algeria', 'Australia', 'Austria', 'Argentina',\n",
    "        'Belgium', 'Brazil', 'Bulgaria', 'Bangladesh',\n",
    "        'Canada', 'China', 'Croatia', 'Chile', 'Colombia',\n",
    "        'Denmark',\n",
    "        'Estonia', 'Egypt',\n",
    "        'Finland', 'France',\n",
    "        'Germany', 'Greece',\n",
    "        'Hungary',\n",
    "        'Iceland', 'India', 'Ireland', 'Italy', 'Indonesia',\n",
    "        'Japan',\n",
    "        'Kenya',\n",
    "        'Latvia', 'Lithuania',\n",
    "        'Mexico', 'Morocco',\n",
    "        'Norway', 'Netherlands',\n",
    "        'Poland', 'Portugal',\n",
    "        'Russia',\n",
    "        'Spain', 'Sweden', 'Switzerland', 'South Africa',\n",
    "        'Turkey', 'Thailand',\n",
    "        'Ukraine', 'United Kingdom', 'United States',\n",
    "        'Venezuela',\n",
    "        'Yemen',\n",
    "        'Zimbabwe'\n",
    "    ]\n",
    "    \n",
    "    const letterCount = countCountryStartingLetters()\n",
    "    const maxCount = Math.max(...letterCount.map(item => item.count))\n",
    "    const mostUsedLetter = letterCount.find(item => item.count === maxCount)\n",
    "    \n",
    "    console.log('Level 2.7 - Most used initial letter:')\n",
    "    console.log(`Letter \"${mostUsedLetter.letter}\" is used ${mostUsedLetter.count} times`)\n",
    "    \n",
    "    // Show countries starting with that letter\n",
    "    const countriesWithMostUsedLetter = allCountries.filter(country => \n",
    "        country.startsWith(mostUsedLetter.letter)\n",
    "    )\n",
    "    console.log(`Countries starting with \"${mostUsedLetter.letter}\":`, countriesWithMostUsedLetter)\n",
    "    \n",
    "    return mostUsedLetter\n",
    "}\n",
    "\n",
    "mostUsedInitialLetter()"
   ]
  },
  {
   "cell_type": "markdown",
   "metadata": {},
   "source": [
    "### Exercises: Level 3\n",
    "\n",
    "Advanced exercises for complex data analysis and manipulation."
   ]
  },
  {
   "cell_type": "markdown",
   "metadata": {},
   "source": [
    "#### 1. Sort countries by name, by capital, by population"
   ]
  },
  {
   "cell_type": "code",
   "execution_count": null,
   "metadata": {},
   "outputs": [],
   "source": [
    "// Sample countries data for Level 3 exercises\n",
    "const countriesData = [\n",
    "    {\n",
    "        name: 'Finland',\n",
    "        capital: 'Helsinki',\n",
    "        population: 5540720,\n",
    "        languages: ['Finnish', 'Swedish']\n",
    "    },\n",
    "    {\n",
    "        name: 'Estonia',\n",
    "        capital: 'Tallinn',\n",
    "        population: 1326535,\n",
    "        languages: ['Estonian']\n",
    "    },\n",
    "    {\n",
    "        name: 'Sweden',\n",
    "        capital: 'Stockholm',\n",
    "        population: 10099265,\n",
    "        languages: ['Swedish']\n",
    "    },\n",
    "    {\n",
    "        name: 'Norway',\n",
    "        capital: 'Oslo',\n",
    "        population: 5421241,\n",
    "        languages: ['Norwegian']\n",
    "    },\n",
    "    {\n",
    "        name: 'Denmark',\n",
    "        capital: 'Copenhagen',\n",
    "        population: 5792202,\n",
    "        languages: ['Danish']\n",
    "    }\n",
    "]\n",
    "\n",
    "function sortCountries(data, sortBy) {\n",
    "    return [...data].sort((a, b) => {\n",
    "        if (sortBy === 'name' || sortBy === 'capital') {\n",
    "            return a[sortBy].localeCompare(b[sortBy])\n",
    "        } else if (sortBy === 'population') {\n",
    "            return b[sortBy] - a[sortBy] // Descending order for population\n",
    "        }\n",
    "        return 0\n",
    "    })\n",
    "}\n",
    "\n",
    "console.log('Level 3.1 - Countries sorted by name:')\n",
    "console.log(sortCountries(countriesData, 'name').map(c => c.name))\n",
    "\n",
    "console.log('\\nCountries sorted by capital:')\n",
    "console.log(sortCountries(countriesData, 'capital').map(c => `${c.name} (${c.capital})`))\n",
    "\n",
    "console.log('\\nCountries sorted by population (desc):')\n",
    "console.log(sortCountries(countriesData, 'population').map(c => `${c.name}: ${c.population.toLocaleString()}`))"
   ]
  },
  {
   "cell_type": "markdown",
   "metadata": {},
   "source": [
    "#### 2. Find the 10 most spoken languages"
   ]
  },
  {
   "cell_type": "code",
   "execution_count": null,
   "metadata": {},
   "outputs": [],
   "source": [
    "function mostSpokenLanguages(countries, topN) {\n",
    "    // Extended sample data with more languages\n",
    "    const sampleCountries = [\n",
    "        { name: 'China', languages: ['Chinese'] },\n",
    "        { name: 'India', languages: ['Hindi', 'English'] },\n",
    "        { name: 'United States', languages: ['English'] },\n",
    "        { name: 'Indonesia', languages: ['Indonesian'] },\n",
    "        { name: 'Pakistan', languages: ['Urdu', 'English'] },\n",
    "        { name: 'Brazil', languages: ['Portuguese'] },\n",
    "        { name: 'Nigeria', languages: ['English'] },\n",
    "        { name: 'Bangladesh', languages: ['Bengali'] },\n",
    "        { name: 'Russia', languages: ['Russian'] },\n",
    "        { name: 'Mexico', languages: ['Spanish'] },\n",
    "        { name: 'Japan', languages: ['Japanese'] },\n",
    "        { name: 'Philippines', languages: ['English', 'Filipino'] },\n",
    "        { name: 'Ethiopia', languages: ['Amharic'] },\n",
    "        { name: 'Vietnam', languages: ['Vietnamese'] },\n",
    "        { name: 'Egypt', languages: ['Arabic'] },\n",
    "        { name: 'Germany', languages: ['German'] },\n",
    "        { name: 'Iran', languages: ['Persian'] },\n",
    "        { name: 'Turkey', languages: ['Turkish'] },\n",
    "        { name: 'Democratic Republic of the Congo', languages: ['French'] },\n",
    "        { name: 'France', languages: ['French'] },\n",
    "        { name: 'Thailand', languages: ['Thai'] },\n",
    "        { name: 'United Kingdom', languages: ['English'] },\n",
    "        { name: 'Italy', languages: ['Italian'] },\n",
    "        { name: 'South Africa', languages: ['English', 'Afrikaans'] },\n",
    "        { name: 'Myanmar', languages: ['Burmese'] },\n",
    "        { name: 'South Korea', languages: ['Korean'] },\n",
    "        { name: 'Colombia', languages: ['Spanish'] },\n",
    "        { name: 'Kenya', languages: ['English', 'Swahili'] },\n",
    "        { name: 'Spain', languages: ['Spanish'] },\n",
    "        { name: 'Argentina', languages: ['Spanish'] },\n",
    "        { name: 'Algeria', languages: ['Arabic'] },\n",
    "        { name: 'Sudan', languages: ['Arabic'] },\n",
    "        { name: 'Uganda', languages: ['English'] },\n",
    "        { name: 'Ukraine', languages: ['Ukrainian'] },\n",
    "        { name: 'Iraq', languages: ['Arabic'] },\n",
    "        { name: 'Poland', languages: ['Polish'] },\n",
    "        { name: 'Canada', languages: ['English', 'French'] },\n",
    "        { name: 'Morocco', languages: ['Arabic'] },\n",
    "        { name: 'Saudi Arabia', languages: ['Arabic'] },\n",
    "        { name: 'Uzbekistan', languages: ['Uzbek'] },\n",
    "        { name: 'Peru', languages: ['Spanish'] },\n",
    "        { name: 'Angola', languages: ['Portuguese'] },\n",
    "        { name: 'Malaysia', languages: ['Malay'] },\n",
    "        { name: 'Mozambique', languages: ['Portuguese'] },\n",
    "        { name: 'Ghana', languages: ['English'] },\n",
    "        { name: 'Yemen', languages: ['Arabic'] },\n",
    "        { name: 'Nepal', languages: ['Nepali'] },\n",
    "        { name: 'Venezuela', languages: ['Spanish'] },\n",
    "        { name: 'Madagascar', languages: ['French', 'Malagasy'] },\n",
    "        { name: 'Cameroon', languages: ['English', 'French'] },\n",
    "        { name: 'North Korea', languages: ['Korean'] },\n",
    "        { name: 'Australia', languages: ['English'] },\n",
    "        { name: 'Niger', languages: ['French'] },\n",
    "        { name: 'Taiwan', languages: ['Chinese'] },\n",
    "        { name: 'Sri Lanka', languages: ['Sinhala', 'Tamil'] },\n",
    "        { name: 'Burkina Faso', languages: ['French'] },\n",
    "        { name: 'Mali', languages: ['French'] },\n",
    "        { name: 'Romania', languages: ['Romanian'] },\n",
    "        { name: 'Malawi', languages: ['English'] },\n",
    "        { name: 'Chile', languages: ['Spanish'] },\n",
    "        { name: 'Kazakhstan', languages: ['Kazakh', 'Russian'] },\n",
    "        { name: 'Zambia', languages: ['English'] },\n",
    "        { name: 'Guatemala', languages: ['Spanish'] },\n",
    "        { name: 'Ecuador', languages: ['Spanish'] },\n",
    "        { name: 'Syria', languages: ['Arabic'] },\n",
    "        { name: 'Netherlands', languages: ['Dutch'] },\n",
    "        { name: 'Senegal', languages: ['French'] },\n",
    "        { name: 'Cambodia', languages: ['Khmer'] },\n",
    "        { name: 'Chad', languages: ['French', 'Arabic'] },\n",
    "        { name: 'Somalia', languages: ['Somali', 'Arabic'] },\n",
    "        { name: 'Zimbabwe', languages: ['English'] },\n",
    "        { name: 'Guinea', languages: ['French'] },\n",
    "        { name: 'Rwanda', languages: ['Kinyarwanda', 'French', 'English'] },\n",
    "        { name: 'Benin', languages: ['French'] },\n",
    "        { name: 'Burundi', languages: ['Kirundi', 'French'] },\n",
    "        { name: 'Tunisia', languages: ['Arabic'] },\n",
    "        { name: 'Belgium', languages: ['Dutch', 'French', 'German'] },\n",
    "        { name: 'Bolivia', languages: ['Spanish'] },\n",
    "        { name: 'Cuba', languages: ['Spanish'] },\n",
    "        { name: 'Haiti', languages: ['French'] },\n",
    "        { name: 'Dominican Republic', languages: ['Spanish'] },\n",
    "        { name: 'Czech Republic', languages: ['Czech'] },\n",
    "        { name: 'Greece', languages: ['Greek'] },\n",
    "        { name: 'Jordan', languages: ['Arabic'] },\n",
    "        { name: 'Portugal', languages: ['Portuguese'] },\n",
    "        { name: 'Sweden', languages: ['Swedish'] },\n",
    "        { name: 'Azerbaijan', languages: ['Azerbaijani'] },\n",
    "        { name: 'United Arab Emirates', languages: ['Arabic'] },\n",
    "        { name: 'Hungary', languages: ['Hungarian'] },\n",
    "        { name: 'Belarus', languages: ['Belarusian', 'Russian'] },\n",
    "        { name: 'Tajikistan', languages: ['Tajik'] },\n",
    "        { name: 'Austria', languages: ['German'] },\n",
    "        { name: 'Papua New Guinea', languages: ['English'] },\n",
    "        { name: 'Serbia', languages: ['Serbian'] },\n",
    "        { name: 'Israel', languages: ['Hebrew', 'Arabic'] },\n",
    "        { name: 'Switzerland', languages: ['German', 'French', 'Italian'] },\n",
    "        { name: 'Togo', languages: ['French'] },\n",
    "        { name: 'Sierra Leone', languages: ['English'] },\n",
    "        { name: 'Laos', languages: ['Lao'] },\n",
    "        { name: 'Paraguay', languages: ['Spanish'] },\n",
    "        { name: 'Libya', languages: ['Arabic'] },\n",
    "        { name: 'Lebanon', languages: ['Arabic', 'French'] },\n",
    "        { name: 'Nicaragua', languages: ['Spanish'] },\n",
    "        { name: 'Kyrgyzstan', languages: ['Kyrgyz', 'Russian'] },\n",
    "        { name: 'El Salvador', languages: ['Spanish'] },\n",
    "        { name: 'Turkmenistan', languages: ['Turkmen'] },\n",
    "        { name: 'Singapore', languages: ['English', 'Malay', 'Mandarin', 'Tamil'] },\n",
    "        { name: 'Denmark', languages: ['Danish'] },\n",
    "        { name: 'Finland', languages: ['Finnish', 'Swedish'] },\n",
    "        { name: 'Slovakia', languages: ['Slovak'] },\n",
    "        { name: 'Norway', languages: ['Norwegian'] },\n",
    "        { name: 'Oman', languages: ['Arabic'] },\n",
    "        { name: 'Palestine', languages: ['Arabic'] },\n",
    "        { name: 'Costa Rica', languages: ['Spanish'] },\n",
    "        { name: 'Liberia', languages: ['English'] },\n",
    "        { name: 'Ireland', languages: ['Irish', 'English'] },\n",
    "        { name: 'Central African Republic', languages: ['French'] },\n",
    "        { name: 'New Zealand', languages: ['English'] },\n",
    "        { name: 'Mauritania', languages: ['Arabic'] },\n",
    "        { name: 'Kuwait', languages: ['Arabic'] },\n",
    "        { name: 'Panama', languages: ['Spanish'] },\n",
    "        { name: 'Croatia', languages: ['Croatian'] },\n",
    "        { name: 'Moldova', languages: ['Romanian'] },\n",
    "        { name: 'Georgia', languages: ['Georgian'] },\n",
    "        { name: 'Eritrea', languages: ['Tigrinya', 'Arabic'] },\n",
    "        { name: 'Uruguay', languages: ['Spanish'] },\n",
    "        { name: 'Bosnia and Herzegovina', languages: ['Bosnian', 'Croatian', 'Serbian'] },\n",
    "        { name: 'Mongolia', languages: ['Mongolian'] },\n",
    "        { name: 'Armenia', languages: ['Armenian'] },\n",
    "        { name: 'Jamaica', languages: ['English'] },\n",
    "        { name: 'Qatar', languages: ['Arabic'] },\n",
    "        { name: 'Albania', languages: ['Albanian'] },\n",
    "        { name: 'Puerto Rico', languages: ['Spanish', 'English'] },\n",
    "        { name: 'Lithuania', languages: ['Lithuanian'] },\n",
    "        { name: 'Namibia', languages: ['English'] },\n",
    "        { name: 'Gambia', languages: ['English'] },\n",
    "        { name: 'Botswana', languages: ['English'] },\n",
    "        { name: 'Gabon', languages: ['French'] },\n",
    "        { name: 'Lesotho', languages: ['English'] },\n",
    "        { name: 'North Macedonia', languages: ['Macedonian'] },\n",
    "        { name: 'Slovenia', languages: ['Slovene'] },\n",
    "        { name: 'Guinea-Bissau', languages: ['Portuguese'] },\n",
    "        { name: 'Latvia', languages: ['Latvian'] },\n",
    "        { name: 'Bahrain', languages: ['Arabic'] },\n",
    "        { name: 'Equatorial Guinea', languages: ['Spanish', 'French'] },\n",
    "        { name: 'Trinidad and Tobago', languages: ['English'] },\n",
    "        { name: 'Estonia', languages: ['Estonian'] },\n",
    "        { name: 'Timor-Leste', languages: ['Portuguese'] },\n",
    "        { name: 'Mauritius', languages: ['English'] },\n",
    "        { name: 'Cyprus', languages: ['Greek', 'Turkish'] },\n",
    "        { name: 'Eswatini', languages: ['English'] },\n",
    "        { name: 'Djibouti', languages: ['French', 'Arabic'] },\n",
    "        { name: 'Fiji', languages: ['English'] },\n",
    "        { name: 'Réunion', languages: ['French'] },\n",
    "        { name: 'Comoros', languages: ['Arabic', 'French'] },\n",
    "        { name: 'Guyana', languages: ['English'] },\n",
    "        { name: 'Bhutan', languages: ['Dzongkha'] },\n",
    "        { name: 'Solomon Islands', languages: ['English'] },\n",
    "        { name: 'Macao', languages: ['Chinese', 'Portuguese'] },\n",
    "        { name: 'Montenegro', languages: ['Montenegrin'] },\n",
    "        { name: 'Luxembourg', languages: ['Luxembourgish', 'French', 'German'] },\n",
    "        { name: 'Western Sahara', languages: ['Arabic'] },\n",
    "        { name: 'Suriname', languages: ['Dutch'] },\n",
    "        { name: 'Cape Verde', languages: ['Portuguese'] },\n",
    "        { name: 'Micronesia', languages: ['English'] },\n",
    "        { name: 'Malta', languages: ['Maltese', 'English'] },\n",
    "        { name: 'Brunei', languages: ['Malay'] },\n",
    "        { name: 'Bahamas', languages: ['English'] },\n",
    "        { name: 'Maldives', languages: ['Dhivehi'] },\n",
    "        { name: 'Belize', languages: ['English'] },\n",
    "        { name: 'Iceland', languages: ['Icelandic'] },\n",
    "        { name: 'Vanuatu', languages: ['Bislama', 'English', 'French'] },\n",
    "        { name: 'Barbados', languages: ['English'] },\n",
    "        { name: 'New Caledonia', languages: ['French'] },\n",
    "        { name: 'French Polynesia', languages: ['French'] },\n",
    "        { name: 'Mayotte', languages: ['French'] },\n",
    "        { name: 'Sao Tome and Principe', languages: ['Portuguese'] },\n",
    "        { name: 'Samoa', languages: ['Samoan', 'English'] },\n",
    "        { name: 'Saint Lucia', languages: ['English'] },\n",
    "        { name: 'Channel Islands', languages: ['English'] },\n",
    "        { name: 'Guam', languages: ['English'] },\n",
    "        { name: 'Curaçao', languages: ['Dutch'] },\n",
    "        { name: 'Kiribati', languages: ['English'] },\n",
    "        { name: 'Seychelles', languages: ['English', 'French'] },\n",
    "        { name: 'Grenada', languages: ['English'] },\n",
    "        { name: 'St. Vincent & Grenadines', languages: ['English'] },\n",
    "        { name: 'Aruba', languages: ['Dutch'] },\n",
    "        { name: 'Tonga', languages: ['Tongan', 'English'] },\n",
    "        { name: 'U.S. Virgin Islands', languages: ['English'] },\n",
    "        { name: 'Isle of Man', languages: ['English'] },\n",
    "        { name: 'Antigua and Barbuda', languages: ['English'] },\n",
    "        { name: 'Andorra', languages: ['Catalan'] },\n",
    "        { name: 'Dominica', languages: ['English'] },\n",
    "        { name: 'Bermuda', languages: ['English'] },\n",
    "        { name: 'Marshall Islands', languages: ['Marshallese', 'English'] },\n",
    "        { name: 'Greenland', languages: ['Greenlandic'] },\n",
    "        { name: 'American Samoa', languages: ['English', 'Samoan'] },\n",
    "        { name: 'Saint Kitts & Nevis', languages: ['English'] },\n",
    "        { name: 'Faroe Islands', languages: ['Faroese'] },\n",
    "        { name: 'Northern Mariana Islands', languages: ['English'] },\n",
    "        { name: 'Palau', languages: ['Palauan', 'English'] },\n",
    "        { name: 'Cook Islands', languages: ['English'] },\n",
    "        { name: 'British Virgin Islands', languages: ['English'] },\n",
    "        { name: 'Gibraltar', languages: ['English'] },\n",
    "        { name: 'Wallis & Futuna', languages: ['French'] },\n",
    "        { name: 'Nauru', languages: ['Nauruan', 'English'] },\n",
    "        { name: 'Anguilla', languages: ['English'] },\n",
    "        { name: 'Tuvalu', languages: ['Tuvaluan', 'English'] },\n",
    "        { name: 'Saint Pierre & Miquelon', languages: ['French'] },\n",
    "        { name: 'Montserrat', languages: ['English'] },\n",
    "        { name: 'Falkland Islands', languages: ['English'] },\n",
    "        { name: 'Norfolk Island', languages: ['English'] },\n",
    "        { name: 'Christmas Island', languages: ['English'] },\n",
    "        { name: 'Niue', languages: ['English'] },\n",
    "        { name: 'Tokelau', languages: ['English'] },\n",
    "        { name: 'Vatican City', languages: ['Italian', 'Latin'] },\n",
    "        { name: 'Cocos Islands', languages: ['English'] },\n",
    "        { name: 'Pitcairn Islands', languages: ['English'] }\n",
    "    ]\n",
    "    \n",
    "    const languageCount = {}\n",
    "    \n",
    "    // Count occurrences of each language\n",
    "    sampleCountries.forEach(country => {\n",
    "        country.languages.forEach(language => {\n",
    "            languageCount[language] = (languageCount[language] || 0) + 1\n",
    "        })\n",
    "    })\n",
    "    \n",
    "    // Convert to array and sort by count\n",
    "    return Object.keys(languageCount)\n",
    "        .map(language => ({\n",
    "            country: language,\n",
    "            count: languageCount[language]\n",
    "        }))\n",
    "        .sort((a, b) => b.count - a.count)\n",
    "        .slice(0, topN)\n",
    "}\n",
    "\n",
    "console.log('Level 3.2 - Most spoken languages (top 10):')\n",
    "console.log(mostSpokenLanguages([], 10))\n",
    "\n",
    "console.log('\\nMost spoken languages (top 3):')\n",
    "console.log(mostSpokenLanguages([], 3))"
   ]
  },
  {
   "cell_type": "markdown",
   "metadata": {},
   "source": [
    "#### 3. Create the ten most populated countries function"
   ]
  },
  {
   "cell_type": "code",
   "execution_count": null,
   "metadata": {},
   "outputs": [],
   "source": [
    "function mostPopulatedCountries(countries, topN) {\n",
    "    const populationData = [\n",
    "        { country: 'China', population: 1439323776 },\n",
    "        { country: 'India', population: 1380004385 },\n",
    "        { country: 'United States of America', population: 331002651 },\n",
    "        { country: 'Indonesia', population: 273523615 },\n",
    "        { country: 'Pakistan', population: 220892340 },\n",
    "        { country: 'Brazil', population: 212559417 },\n",
    "        { country: 'Nigeria', population: 206139589 },\n",
    "        { country: 'Bangladesh', population: 164689383 },\n",
    "        { country: 'Russian Federation', population: 145934462 },\n",
    "        { country: 'Mexico', population: 128932753 },\n",
    "        { country: 'Japan', population: 126476461 },\n",
    "        { country: 'Ethiopia', population: 114963588 },\n",
    "        { country: 'Philippines', population: 109581078 },\n",
    "        { country: 'Egypt', population: 102334404 },\n",
    "        { country: 'Vietnam', population: 97338579 }\n",
    "    ]\n",
    "    \n",
    "    return populationData\n",
    "        .sort((a, b) => b.population - a.population)\n",
    "        .slice(0, topN)\n",
    "}\n",
    "\n",
    "console.log('Level 3.3 - Most populated countries (top 10):')\n",
    "console.log(mostPopulatedCountries([], 10))\n",
    "\n",
    "console.log('\\nMost populated countries (top 3):')\n",
    "console.log(mostPopulatedCountries([], 3))"
   ]
  },
  {
   "cell_type": "markdown",
   "metadata": {},
   "source": [
    "#### 4. Create a statistics object with statistical calculation methods"
   ]
  },
  {
   "cell_type": "code",
   "execution_count": null,
   "metadata": {},
   "outputs": [],
   "source": [
    "// Sample ages data for statistics\n",
    "const ages = [31, 26, 34, 37, 27, 26, 32, 32, 26, 27, 27, 24, 32, 33, 27, 25, 26, 38, 37, 31, 34, 24, 33, 29, 26]\n",
    "\n",
    "const statistics = {\n",
    "    data: ages,\n",
    "    \n",
    "    count() {\n",
    "        return this.data.length\n",
    "    },\n",
    "    \n",
    "    sum() {\n",
    "        return this.data.reduce((sum, num) => sum + num, 0)\n",
    "    },\n",
    "    \n",
    "    min() {\n",
    "        return Math.min(...this.data)\n",
    "    },\n",
    "    \n",
    "    max() {\n",
    "        return Math.max(...this.data)\n",
    "    },\n",
    "    \n",
    "    range() {\n",
    "        return this.max() - this.min()\n",
    "    },\n",
    "    \n",
    "    mean() {\n",
    "        return Math.round(this.sum() / this.count())\n",
    "    },\n",
    "    \n",
    "    median() {\n",
    "        const sorted = [...this.data].sort((a, b) => a - b)\n",
    "        const mid = Math.floor(sorted.length / 2)\n",
    "        return sorted.length % 2 === 0 ? \n",
    "            Math.round((sorted[mid - 1] + sorted[mid]) / 2) : \n",
    "            sorted[mid]\n",
    "    },\n",
    "    \n",
    "    mode() {\n",
    "        const frequency = {}\n",
    "        this.data.forEach(num => {\n",
    "            frequency[num] = (frequency[num] || 0) + 1\n",
    "        })\n",
    "        \n",
    "        const maxFreq = Math.max(...Object.values(frequency))\n",
    "        const mode = Object.keys(frequency).find(key => frequency[key] === maxFreq)\n",
    "        \n",
    "        return { mode: parseInt(mode), count: maxFreq }\n",
    "    },\n",
    "    \n",
    "    var() {\n",
    "        const mean = this.mean()\n",
    "        const variance = this.data.reduce((sum, num) => {\n",
    "            return sum + Math.pow(num - mean, 2)\n",
    "        }, 0) / this.count()\n",
    "        return Math.round(variance * 10) / 10\n",
    "    },\n",
    "    \n",
    "    std() {\n",
    "        return Math.round(Math.sqrt(this.var()) * 10) / 10\n",
    "    },\n",
    "    \n",
    "    freqDist() {\n",
    "        const frequency = {}\n",
    "        this.data.forEach(num => {\n",
    "            frequency[num] = (frequency[num] || 0) + 1\n",
    "        })\n",
    "        \n",
    "        return Object.entries(frequency)\n",
    "            .map(([value, count]) => [\n",
    "                Math.round((count / this.count()) * 100 * 10) / 10, \n",
    "                parseInt(value)\n",
    "            ])\n",
    "            .sort((a, b) => b[0] - a[0])\n",
    "    },\n",
    "    \n",
    "    describe() {\n",
    "        console.log('Count:', this.count())\n",
    "        console.log('Sum:', this.sum())\n",
    "        console.log('Min:', this.min())\n",
    "        console.log('Max:', this.max())\n",
    "        console.log('Range:', this.range())\n",
    "        console.log('Mean:', this.mean())\n",
    "        console.log('Median:', this.median())\n",
    "        console.log('Mode:', `(${this.mode().mode}, ${this.mode().count})`)\n",
    "        console.log('Variance:', this.var())\n",
    "        console.log('Standard Deviation:', this.std())\n",
    "        console.log('Frequency Distribution:', this.freqDist())\n",
    "    }\n",
    "}\n",
    "\n",
    "console.log('Level 3.4 - Statistical Analysis:')\n",
    "console.log('Data:', ages)\n",
    "console.log('Count:', statistics.count())\n",
    "console.log('Sum:', statistics.sum())\n",
    "console.log('Min:', statistics.min())\n",
    "console.log('Max:', statistics.max())\n",
    "console.log('Range:', statistics.range())\n",
    "console.log('Mean:', statistics.mean())\n",
    "console.log('Median:', statistics.median())\n",
    "console.log('Mode:', statistics.mode())\n",
    "console.log('Variance:', statistics.var())\n",
    "console.log('Standard Deviation:', statistics.std())\n",
    "console.log('Frequency Distribution:', statistics.freqDist())\n",
    "\n",
    "console.log('\\nComplete description:')\n",
    "statistics.describe()"
   ]
  },
  {
   "cell_type": "markdown",
   "metadata": {},
   "source": [
    "## Summary\n",
    "\n",
    "Congratulations! You have completed Day 9 of the 30 Days of JavaScript challenge. Today you learned about:\n",
    "\n",
    "### Higher Order Functions\n",
    "- **Callback functions**: Functions passed as parameters to other functions\n",
    "- **Returning functions**: Functions that return other functions\n",
    "- **Timing functions**: setInterval and setTimeout for asynchronous operations\n",
    "\n",
    "### Functional Programming Methods\n",
    "- **forEach**: Iterate through arrays without returning a new array\n",
    "- **map**: Transform array elements and return a new array\n",
    "- **filter**: Filter elements based on conditions and return a new array\n",
    "- **reduce**: Reduce array to a single value using an accumulator\n",
    "- **every**: Check if all elements satisfy a condition\n",
    "- **some**: Check if at least one element satisfies a condition\n",
    "- **find**: Find the first element that satisfies a condition\n",
    "- **findIndex**: Find the index of the first element that satisfies a condition\n",
    "- **sort**: Sort array elements (strings, numbers, objects)\n",
    "\n",
    "### Key Concepts\n",
    "- **Immutability**: Functional programming methods don't modify the original array\n",
    "- **Method chaining**: Combining multiple array methods for complex operations\n",
    "- **Function composition**: Building complex logic from simple functions\n",
    "- **Data transformation**: Converting data from one format to another\n",
    "\n",
    "These concepts form the foundation of functional programming in JavaScript and will help you write more elegant, readable, and maintainable code. Keep practicing with different data sets and scenarios to master these powerful tools!"
   ]
  }
 ],
 "metadata": {
  "kernelspec": {
   "display_name": "JavaScript (Node.js)",
   "language": "javascript",
   "name": "javascript"
  },
  "language_info": {
   "file_extension": ".js",
   "mimetype": "application/javascript",
   "name": "javascript",
   "version": "18.19.0"
  }
 },
 "nbformat": 4,
 "nbformat_minor": 4
}