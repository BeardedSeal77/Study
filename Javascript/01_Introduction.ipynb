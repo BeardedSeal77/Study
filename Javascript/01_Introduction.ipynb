{
 "cells": [
  {
   "cell_type": "markdown",
   "id": "2667c5b1",
   "metadata": {},
   "source": [
    "# 📔 Day 1: Introduction to JavaScript\n",
    "\n",
    "## 🎯 Table of Contents\n",
    "- [What is JavaScript?](#what-is-javascript)\n",
    "- [Development Environment Setup](#setup)\n",
    "- [Writing Your First JavaScript Code](#first-code)\n",
    "- [Data Types Introduction](#data-types)\n",
    "- [Variables](#variables)\n",
    "- [Comments](#comments)\n",
    "- [Exercises](#exercises)\n",
    "\n",
    "---"
   ]
  },
  {
   "cell_type": "markdown",
   "id": "eea405c1",
   "metadata": {},
   "source": [
    "## What is JavaScript?\n",
    "\n",
    "**JavaScript** is the **language of the web**. It's a high-level, interpreted programming language that makes web pages interactive and dynamic.\n",
    "\n",
    "### Key Facts:\n",
    "- 🌟 **Most popular** programming language for 10+ years\n",
    "- 🚀 **Versatile**: Web development, mobile apps, desktop apps, games, AI/ML\n",
    "- 📈 **In-demand**: Most used language on GitHub\n",
    "- 🌐 **Universal**: Runs in browsers, servers (Node.js), and more\n",
    "\n",
    "### Applications:\n",
    "- **Frontend**: Interactive websites, web applications\n",
    "- **Backend**: Server-side development with Node.js\n",
    "- **Mobile**: React Native, Ionic apps\n",
    "- **Desktop**: Electron applications\n",
    "- **Games**: Browser-based and mobile games\n",
    "- **AI/ML**: TensorFlow.js, machine learning\n",
    "\n",
    "### Requirements:\n",
    "1. **Motivation** 💪\n",
    "2. **Computer** 💻\n",
    "3. **Internet** 🌐\n",
    "4. **Browser** (Chrome recommended)\n",
    "5. **Code Editor** (VS Code recommended)"
   ]
  },
  {
   "cell_type": "markdown",
   "id": "zeqnljvlh5",
   "metadata": {},
   "source": [
    "## Development Environment Setup\n",
    "\n",
    "### 1. Browser Console (Chrome)\n",
    "**For quick testing and learning:**\n",
    "- Press `F12` or `Ctrl+Shift+J` (Windows/Linux)\n",
    "- Press `Cmd+Option+J` (Mac)\n",
    "- Navigate to **Console** tab\n",
    "\n",
    "### 2. Code Editor (VS Code)\n",
    "**For serious development:**\n",
    "- Download from [code.visualstudio.com](https://code.visualstudio.com/)\n",
    "- Install useful extensions:\n",
    "  - JavaScript (ES6) code snippets\n",
    "  - Live Server\n",
    "  - Prettier\n",
    "\n",
    "### 3. Node.js (Optional for now)\n",
    "**For running JavaScript outside browser:**\n",
    "- Download from [nodejs.org](https://nodejs.org/)\n",
    "- Verify installation: `node -v`"
   ]
  },
  {
   "cell_type": "markdown",
   "id": "ctml8v6z935",
   "metadata": {},
   "source": [
    "## Your First JavaScript Code\n",
    "\n",
    "Let's start with the traditional \"Hello, World!\" and explore basic JavaScript concepts."
   ]
  },
  {
   "cell_type": "code",
   "execution_count": 1,
   "id": "hfigovwztp4",
   "metadata": {},
   "outputs": [
    {
     "name": "stdout",
     "output_type": "stream",
     "text": [
      "Hello, World!\n",
      "Welcome to 30DaysOfJavaScript\n",
      "This is a string\n",
      "123\n",
      "true\n",
      "null\n",
      "undefined\n",
      "Hello World 2024 true\n",
      "This is an info message\n"
     ]
    },
    {
     "name": "stderr",
     "output_type": "stream",
     "text": [
      "This is a warning message\n",
      "This is an error message\n"
     ]
    },
    {
     "name": "stdout",
     "output_type": "stream",
     "text": [
      "5\n",
      "1\n",
      "6\n",
      "1.5\n",
      "1\n",
      "9\n"
     ]
    }
   ],
   "source": [
    "// 🎉 Welcome to JavaScript!\n",
    "console.log('Hello, World!')\n",
    "console.log('Welcome to 30DaysOfJavaScript')\n",
    "\n",
    "// Different ways to display output\n",
    "console.log('This is a string')\n",
    "console.log(123)\n",
    "console.log(true)\n",
    "console.log(null)\n",
    "console.log(undefined)\n",
    "\n",
    "// Multiple values in one console.log\n",
    "console.log('Hello', 'World', 2024, true)\n",
    "\n",
    "// Different console methods\n",
    "console.info('This is an info message')\n",
    "console.warn('This is a warning message')\n",
    "console.error('This is an error message')\n",
    "\n",
    "// Basic arithmetic operations\n",
    "console.log(2 + 3)   // Addition: 5\n",
    "console.log(3 - 2)   // Subtraction: 1\n",
    "console.log(2 * 3)   // Multiplication: 6\n",
    "console.log(3 / 2)   // Division: 1.5\n",
    "console.log(3 % 2)   // Modulus (remainder): 1\n",
    "console.log(3 ** 2)  // Exponentiation: 9"
   ]
  },
  {
   "cell_type": "markdown",
   "id": "t052oo748y",
   "metadata": {},
   "source": [
    "## Comments\n",
    "\n",
    "Comments are used to explain code and make it more readable. They are ignored by the JavaScript engine.\n",
    "\n",
    "### Types of Comments:\n",
    "1. **Single-line comments**: `//`\n",
    "2. **Multi-line comments**: `/* */`"
   ]
  },
  {
   "cell_type": "code",
   "execution_count": null,
   "id": "eivadeavls6",
   "metadata": {},
   "outputs": [],
   "source": [
    "// This is a single line comment\n",
    "\n",
    "// You can also comment after code\n",
    "console.log('Hello World') // This prints Hello World\n",
    "\n",
    "/*\n",
    "This is a \n",
    "multi-line comment.\n",
    "Useful for longer explanations\n",
    "or temporarily disabling code blocks.\n",
    "*/\n",
    "\n",
    "/*\n",
    "Multi-line comments are also useful for:\n",
    "- Documenting functions\n",
    "- Adding copyright notices\n",
    "- Explaining complex algorithms\n",
    "*/\n",
    "\n",
    "console.log('Comments make code more readable!')"
   ]
  },
  {
   "cell_type": "markdown",
   "id": "50lfhcny1b6",
   "metadata": {},
   "source": [
    "## Introduction to Data Types\n",
    "\n",
    "JavaScript has **8 data types** divided into two categories:\n",
    "\n",
    "### Primitive Data Types (7):\n",
    "1. **Number** - integers and floating-point numbers\n",
    "2. **String** - text data\n",
    "3. **Boolean** - true or false\n",
    "4. **Undefined** - variable declared but not assigned\n",
    "5. **Null** - intentional absence of value\n",
    "6. **Symbol** - unique identifier (ES6)\n",
    "7. **BigInt** - large integers (ES2020)\n",
    "\n",
    "### Non-Primitive Data Type (1):\n",
    "8. **Object** - complex data structures (arrays, objects, functions, etc.)"
   ]
  },
  {
   "cell_type": "code",
   "execution_count": null,
   "id": "yka28j1k8mq",
   "metadata": {},
   "outputs": [],
   "source": [
    "// 📊 EXPLORING DATA TYPES\n",
    "\n",
    "// Numbers\n",
    "console.log('=== NUMBERS ===')\n",
    "console.log(42)          // Integer\n",
    "console.log(3.14159)     // Float\n",
    "console.log(-10)         // Negative\n",
    "console.log(Infinity)    // Infinity\n",
    "console.log(-Infinity)   // Negative Infinity\n",
    "console.log(NaN)         // Not a Number\n",
    "\n",
    "// Strings\n",
    "console.log('\\n=== STRINGS ===')\n",
    "console.log('Hello World')           // Single quotes\n",
    "console.log(\"JavaScript is awesome\") // Double quotes\n",
    "console.log(`Template literals`)     // Backticks (template literals)\n",
    "\n",
    "// Booleans\n",
    "console.log('\\n=== BOOLEANS ===')\n",
    "console.log(true)\n",
    "console.log(false)\n",
    "\n",
    "// Undefined\n",
    "console.log('\\n=== UNDEFINED ===')\n",
    "console.log(undefined)\n",
    "\n",
    "// Null\n",
    "console.log('\\n=== NULL ===')\n",
    "console.log(null)\n",
    "\n",
    "// Checking data types\n",
    "console.log('\\n=== CHECKING TYPES ===')\n",
    "console.log(typeof 42)           // \"number\"\n",
    "console.log(typeof 'Hello')      // \"string\"\n",
    "console.log(typeof true)         // \"boolean\"\n",
    "console.log(typeof undefined)    // \"undefined\"\n",
    "console.log(typeof null)         // \"object\" (this is a JavaScript quirk!)\n",
    "console.log(typeof {})           // \"object\"\n",
    "console.log(typeof [])           // \"object\""
   ]
  },
  {
   "cell_type": "markdown",
   "id": "hrgm5qdfo2",
   "metadata": {},
   "source": [
    "## Variables\n",
    "\n",
    "Variables are containers for storing data values. JavaScript has three ways to declare variables:\n",
    "\n",
    "### Variable Declaration Keywords:\n",
    "- **`var`** - function-scoped, can be redeclared (legacy)\n",
    "- **`let`** - block-scoped, cannot be redeclared (ES6+)\n",
    "- **`const`** - block-scoped, cannot be reassigned (ES6+)\n",
    "\n",
    "### Naming Rules:\n",
    "- Must start with letter, underscore (_), or dollar sign ($)\n",
    "- Can contain letters, numbers, underscores, dollar signs\n",
    "- Case-sensitive (`myVar` ≠ `myvar`)\n",
    "- Cannot use reserved keywords (`if`, `for`, `function`, etc.)"
   ]
  },
  {
   "cell_type": "code",
   "execution_count": null,
   "id": "n1vlwwjt3kp",
   "metadata": {},
   "outputs": [],
   "source": [
    "// 📦 VARIABLE DECLARATIONS\n",
    "\n",
    "// Using let (recommended for variables that change)\n",
    "let firstName = 'John'\n",
    "let age = 25\n",
    "let isStudent = true\n",
    "\n",
    "console.log('Name:', firstName)\n",
    "console.log('Age:', age)\n",
    "console.log('Is Student:', isStudent)\n",
    "\n",
    "// Variables can be reassigned\n",
    "firstName = 'Jane'\n",
    "age = 30\n",
    "console.log('Updated Name:', firstName)\n",
    "console.log('Updated Age:', age)\n",
    "\n",
    "// Using const (recommended for values that don't change)\n",
    "const PI = 3.14159\n",
    "const COUNTRY = 'Finland'\n",
    "const GRAVITY = 9.81\n",
    "\n",
    "console.log('PI:', PI)\n",
    "console.log('Country:', COUNTRY)\n",
    "console.log('Gravity:', GRAVITY)\n",
    "\n",
    "// const variables cannot be reassigned\n",
    "// PI = 3.14 // This would cause an error!\n",
    "\n",
    "// Multiple variable declarations\n",
    "let x = 10, y = 20, z = 30\n",
    "console.log('x:', x, 'y:', y, 'z:', z)\n",
    "\n",
    "// Variable naming examples\n",
    "let userName = 'developer'        // camelCase (recommended)\n",
    "let user_name = 'developer'       // snake_case\n",
    "let $element = document           // starting with $\n",
    "let _private = 'secret'           // starting with _\n",
    "let firstName2 = 'second name'    // with numbers\n",
    "\n",
    "console.log('Different naming styles work!')"
   ]
  },
  {
   "cell_type": "markdown",
   "id": "tkpzxb688z",
   "metadata": {},
   "source": [
    "---\n",
    "\n",
    "## 💻 Day 1: Exercises\n",
    "\n",
    "### Instructions:\n",
    "Complete these exercises to reinforce what you've learned today. Try to solve them without looking at the solutions first!\n",
    "\n",
    "---\n",
    "\n",
    "### Exercise 1: Comments\n",
    "1. Write a single line comment which says, _\"comments can make code readable\"_\n",
    "2. Write another single comment which says, _\"Welcome to 30DaysOfJavaScript\"_\n",
    "3. Write a multiline comment which says, _\"comments can make code readable, easy to reuse and informative\"_"
   ]
  },
  {
   "cell_type": "code",
   "execution_count": null,
   "id": "ykkp9s1eeyi",
   "metadata": {},
   "outputs": [],
   "source": [
    "// Write your Exercise 1 solutions here"
   ]
  },
  {
   "cell_type": "markdown",
   "id": "66ji3sd6hu6",
   "metadata": {},
   "source": [
    "---\n",
    "\n",
    "### Exercise 2: Variables and Data Types\n",
    "4. Create a variable.js file and declare variables and assign string, boolean, undefined and null data types\n",
    "5. Create datatypes.js file and use the JavaScript **typeof** operator to check different data types. Check the data type of each variable\n",
    "6. Declare four variables without assigning values\n",
    "7. Declare four variables with assigned values\n",
    "8. Declare variables to store your first name, last name, marital status, country and age in multiple lines\n",
    "9. Declare variables to store your first name, last name, marital status, country and age in a single line\n",
    "10. Declare two variables _myAge_ and _yourAge_ and assign them initial values and log to the browser console.\n",
    "\n",
    "**Expected output:**\n",
    "```\n",
    "I am 25 years old.\n",
    "You are 30 years old.\n",
    "```"
   ]
  },
  {
   "cell_type": "code",
   "execution_count": null,
   "id": "q6rl8mdjadp",
   "metadata": {},
   "outputs": [],
   "source": [
    "// Write your Exercise 2 solutions here\n"
   ]
  },
  {
   "cell_type": "markdown",
   "id": "p5rgpblnzlb",
   "metadata": {},
   "source": [
    "---\n",
    "\n",
    "### 🎯 Try These Extra Challenges:\n",
    "- Experiment with different variable naming styles\n",
    "- Try using template literals with variables\n",
    "- Practice with different data types and typeof operator\n",
    "- Create meaningful variable names for a simple project (like a user profile)"
   ]
  },
  {
   "cell_type": "code",
   "execution_count": null,
   "id": "ooazbn3x0b",
   "metadata": {},
   "outputs": [],
   "source": [
    "// Write your bonus challenge solutions here"
   ]
  },
  {
   "cell_type": "markdown",
   "id": "4k44bv60c05",
   "metadata": {},
   "source": [
    "---\n",
    "\n",
    "🎉 **Congratulations!** You've completed Day 1! You're now ready to move on to Day 2 where we'll dive deeper into Data Types.\n",
    "\n",
    "**Next:** [Day 2 - Data Types →](./02_Data_types.ipynb)"
   ]
  }
 ],
 "metadata": {
  "kernelspec": {
   "display_name": "Deno",
   "language": "typescript",
   "name": "deno"
  },
  "language_info": {
   "codemirror_mode": "typescript",
   "file_extension": ".ts",
   "mimetype": "text/x.typescript",
   "name": "typescript",
   "nbconvert_exporter": "script",
   "pygments_lexer": "typescript",
   "version": "5.8.3"
  }
 },
 "nbformat": 4,
 "nbformat_minor": 5
}
