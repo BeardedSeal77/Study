{
 "cells": [
  {
   "cell_type": "markdown",
   "id": "741f7c55",
   "metadata": {},
   "source": "# 🔧 Data Manipulation & Array Methods\n\n**Focus: Working with data structures like a pro**\n\n## 📋 Table of Contents\n- [Array Methods Overview](#array-methods-overview)\n- [Transforming Data with map()](#transforming-data-with-map)\n- [Filtering Data with filter()](#filtering-data-with-filter)\n- [Reducing Data with reduce()](#reducing-data-with-reduce)\n- [Iterating with forEach()](#iterating-with-foreach)\n- [Object Manipulation](#object-manipulation)\n- [Object Destructuring](#object-destructuring)\n- [Spread Operator](#spread-operator)\n- [Practice Examples](#practice-examples)\n\n---"
  },
  {
   "cell_type": "markdown",
   "id": "pqi9czitep",
   "source": "## 📊 Array Methods Overview\n\nJavaScript provides powerful built-in methods for data manipulation:\n\n| Method | Purpose | Returns | Mutates Original |\n|--------|---------|---------|------------------|\n| `map()` | Transform each element | New array | ❌ |\n| `filter()` | Keep elements that match condition | New array | ❌ |\n| `reduce()` | Reduce to single value | Any type | ❌ |\n| `forEach()` | Execute function for each element | `undefined` | ❌ |\n| `find()` | Find first matching element | Element or `undefined` | ❌ |\n| `some()` | Test if any element passes test | Boolean | ❌ |\n| `every()` | Test if all elements pass test | Boolean | ❌ |\n\n**Key principle:** These methods don't mutate the original array - they return new data.",
   "metadata": {}
  },
  {
   "cell_type": "code",
   "id": "01fwtccx1k4t",
   "source": "// Sample dataset we'll use throughout this notebook\nconst employees = [\n  { id: 1, name: 'Alice Johnson', department: 'Engineering', salary: 85000, experience: 5 },\n  { id: 2, name: 'Bob Smith', department: 'Marketing', salary: 65000, experience: 3 },\n  { id: 3, name: 'Carol Brown', department: 'Engineering', salary: 95000, experience: 8 },\n  { id: 4, name: 'David Wilson', department: 'Sales', salary: 55000, experience: 2 },\n  { id: 5, name: 'Eve Davis', department: 'Engineering', salary: 90000, experience: 6 },\n  { id: 6, name: 'Frank Miller', department: 'Marketing', salary: 70000, experience: 4 }\n];\n\nconsole.log('📊 Sample Employee Dataset:');\nconsole.log(employees);\n\n// Quick data overview\nconsole.log(`\\n📈 Dataset Overview:`);\nconsole.log(`Total employees: ${employees.length}`);\nconsole.log(`Departments: ${[...new Set(employees.map(emp => emp.department))].join(', ')}`);\nconsole.log(`Salary range: $${Math.min(...employees.map(emp => emp.salary))} - $${Math.max(...employees.map(emp => emp.salary))}`);",
   "metadata": {},
   "execution_count": null,
   "outputs": []
  },
  {
   "cell_type": "markdown",
   "id": "lkmlyrt598",
   "source": "## 🔄 Transforming Data with map()\n\n**Purpose**: Transform each element in an array  \n**Syntax**: `array.map(callback(element, index, array))`  \n**Returns**: New array with transformed elements\n\n**Think of it like:** Apply a function to every row in a spreadsheet column",
   "metadata": {}
  },
  {
   "cell_type": "code",
   "id": "a7f86m3veud",
   "source": "console.log('=== map() Examples ===');\n\n// Basic transformation - extract just names\nconst employeeNames = employees.map(emp => emp.name);\nconsole.log('🏷️ Employee names:', employeeNames);\n\n// Transform to create new objects\nconst employeeSummary = employees.map(emp => ({\n  name: emp.name,\n  title: `${emp.department} Specialist`,\n  salaryFormatted: `$${emp.salary.toLocaleString()}`\n}));\nconsole.log('\\n📋 Employee summaries:');\nemployeeSummary.forEach(emp => console.log(`${emp.name}: ${emp.title} - ${emp.salaryFormatted}`));\n\n// Mathematical transformations\nconst salariesInThousands = employees.map(emp => Math.round(emp.salary / 1000));\nconsole.log('\\n💰 Salaries in thousands:', salariesInThousands);\n\n// Add calculated fields\nconst employeesWithBonus = employees.map(emp => ({\n  ...emp, // spread existing properties\n  bonus: emp.salary * 0.1,\n  seniorityLevel: emp.experience >= 5 ? 'Senior' : 'Junior'\n}));\n\nconsole.log('\\n🎁 Employees with bonus calculations:');\nemployeesWithBonus.forEach(emp => {\n  console.log(`${emp.name}: ${emp.seniorityLevel}, Bonus: $${emp.bonus.toLocaleString()}`);\n});\n\n// Chain multiple transformations\nconst processedData = employees\n  .map(emp => ({ ...emp, fullName: emp.name.toUpperCase() }))\n  .map(emp => ({ ...emp, salaryCategory: emp.salary > 80000 ? 'High' : 'Standard' }));\n\nconsole.log('\\n⛓️ Chained transformations:');\nconsole.log(processedData.slice(0, 2)); // Show first 2 examples",
   "metadata": {},
   "execution_count": null,
   "outputs": []
  },
  {
   "cell_type": "markdown",
   "id": "6e3b58g0rxh",
   "source": "## 🔍 Filtering Data with filter()\n\n**Purpose**: Keep only elements that pass a test  \n**Syntax**: `array.filter(callback(element, index, array))`  \n**Returns**: New array with filtered elements\n\n**Think of it like:** SQL WHERE clause or Excel AutoFilter",
   "metadata": {}
  },
  {
   "cell_type": "code",
   "id": "znw2ymqi6z",
   "source": "console.log('=== filter() Examples ===');\n\n// Filter by salary\nconst highEarners = employees.filter(emp => emp.salary > 80000);\nconsole.log('💰 High earners (>$80k):');\nhighEarners.forEach(emp => console.log(`${emp.name}: $${emp.salary.toLocaleString()}`));\n\n// Filter by department\nconst engineers = employees.filter(emp => emp.department === 'Engineering');\nconsole.log('\\n⚙️ Engineering team:');\nconsole.log(engineers.map(emp => emp.name));\n\n// Filter by experience\nconst seniorEmployees = employees.filter(emp => emp.experience >= 5);\nconsole.log('\\n🎓 Senior employees (5+ years):');\nseniorEmployees.forEach(emp => console.log(`${emp.name}: ${emp.experience} years`));\n\n// Complex filtering - multiple conditions\nconst seniorHighEarners = employees.filter(emp => \n  emp.experience >= 5 && emp.salary > 85000\n);\nconsole.log('\\n🌟 Senior high earners:');\nconsole.log(seniorHighEarners.map(emp => `${emp.name} (${emp.experience}y, $${emp.salary.toLocaleString()})`));\n\n// Filter with string methods\nconst employeesWithJ = employees.filter(emp => \n  emp.name.toLowerCase().includes('j')\n);\nconsole.log('\\n📝 Employees with \"J\" in name:');\nconsole.log(employeesWithJ.map(emp => emp.name));\n\n// Filter out items (inverse filtering)\nconst nonEngineers = employees.filter(emp => emp.department !== 'Engineering');\nconsole.log('\\n🚫 Non-engineering employees:');\nnonEngineers.forEach(emp => console.log(`${emp.name}: ${emp.department}`));\n\n// Filter based on array position\nconst evenIndexEmployees = employees.filter((emp, index) => index % 2 === 0);\nconsole.log('\\n🔢 Employees at even indices:');\nconsole.log(evenIndexEmployees.map(emp => emp.name));",
   "metadata": {},
   "execution_count": null,
   "outputs": []
  },
  {
   "cell_type": "markdown",
   "id": "6b6msz95v8x",
   "source": "## 📉 Reducing Data with reduce()\n\n**Purpose**: Reduce array to a single value  \n**Syntax**: `array.reduce(callback(accumulator, current, index, array), initialValue)`  \n**Returns**: Single value (number, string, object, array)\n\n**Think of it like:** Excel SUM(), but more powerful - can build any data structure",
   "metadata": {}
  },
  {
   "cell_type": "code",
   "id": "qveqrors49",
   "source": "console.log('=== reduce() Examples ===');\n\n// Simple sum - total salary cost\nconst totalSalary = employees.reduce((sum, emp) => sum + emp.salary, 0);\nconsole.log(`💰 Total salary cost: $${totalSalary.toLocaleString()}`);\n\n// Average calculation\nconst averageSalary = employees.reduce((sum, emp) => sum + emp.salary, 0) / employees.length;\nconsole.log(`📊 Average salary: $${Math.round(averageSalary).toLocaleString()}`);\n\n// Find maximum/minimum\nconst highestSalary = employees.reduce((max, emp) => \n  emp.salary > max ? emp.salary : max, 0\n);\nconsole.log(`🔝 Highest salary: $${highestSalary.toLocaleString()}`);\n\n// Group by department (building an object)\nconst departmentGroups = employees.reduce((groups, emp) => {\n  const dept = emp.department;\n  if (!groups[dept]) {\n    groups[dept] = [];\n  }\n  groups[dept].push(emp);\n  return groups;\n}, {});\n\nconsole.log('\\n🏢 Employees by department:');\nObject.entries(departmentGroups).forEach(([dept, emps]) => {\n  console.log(`${dept}: ${emps.map(e => e.name).join(', ')}`);\n});\n\n// Calculate department statistics\nconst deptStats = employees.reduce((stats, emp) => {\n  const dept = emp.department;\n  \n  if (!stats[dept]) {\n    stats[dept] = { count: 0, totalSalary: 0, employees: [] };\n  }\n  \n  stats[dept].count++;\n  stats[dept].totalSalary += emp.salary;\n  stats[dept].employees.push(emp.name);\n  \n  return stats;\n}, {});\n\nconsole.log('\\n📈 Department statistics:');\nObject.entries(deptStats).forEach(([dept, stat]) => {\n  const avgSalary = Math.round(stat.totalSalary / stat.count);\n  console.log(`${dept}: ${stat.count} employees, avg salary: $${avgSalary.toLocaleString()}`);\n});\n\n// Build a lookup/index object\nconst employeeIndex = employees.reduce((index, emp) => {\n  index[emp.id] = emp;\n  return index;\n}, {});\n\nconsole.log('\\n🔍 Employee lookup by ID:');\nconsole.log(`Employee #3: ${employeeIndex[3].name}`);\n\n// Count occurrences\nconst experienceCounts = employees.reduce((counts, emp) => {\n  const expLevel = emp.experience >= 5 ? 'Senior' : 'Junior';\n  counts[expLevel] = (counts[expLevel] || 0) + 1;\n  return counts;\n}, {});\n\nconsole.log('\\n📊 Experience level distribution:', experienceCounts);",
   "metadata": {},
   "execution_count": null,
   "outputs": []
  },
  {
   "cell_type": "markdown",
   "id": "ch38w20xegf",
   "source": "## 🔄 Iterating with forEach()\n\n**Purpose**: Execute a function for each element (side effects)  \n**Syntax**: `array.forEach(callback(element, index, array))`  \n**Returns**: `undefined`\n\n**When to use**: Logging, DOM manipulation, or other side effects  \n**When NOT to use**: When you need to return data (use `map` instead)",
   "metadata": {}
  },
  {
   "cell_type": "code",
   "id": "r3wwoui4udp",
   "source": "console.log('=== forEach() Examples ===');\n\n// Basic iteration with logging\nconsole.log('📋 Employee list:');\nemployees.forEach((emp, index) => {\n  console.log(`${index + 1}. ${emp.name} - ${emp.department}`);\n});\n\n// Conditional actions\nconsole.log('\\n🎉 Bonus announcements:');\nemployees.forEach(emp => {\n  if (emp.salary > 80000) {\n    console.log(`🌟 ${emp.name} gets a performance bonus!`);\n  }\n});\n\n// Accumulating data (though reduce() is better for this)\nlet totalExperience = 0;\nlet experienceList = [];\n\nemployees.forEach(emp => {\n  totalExperience += emp.experience;\n  experienceList.push(`${emp.name}: ${emp.experience}y`);\n});\n\nconsole.log('\\n📊 Experience tracking:');\nconsole.log(`Total experience: ${totalExperience} years`);\nconsole.log('Experience breakdown:', experienceList.join(', '));\n\n// Multi-step processing\nconsole.log('\\n🔄 Processing employee data:');\nconst processedEmployees = [];\n\nemployees.forEach(emp => {\n  // Multiple operations per employee\n  const processed = {\n    ...emp,\n    nameUpper: emp.name.toUpperCase(),\n    salaryBonus: emp.salary * 1.05,\n    status: emp.experience >= 5 ? 'Senior' : 'Junior'\n  };\n  \n  processedEmployees.push(processed);\n  \n  // Log the processing\n  console.log(`✅ Processed ${emp.name}: ${processed.status}`);\n});\n\n// Note: This could be done more functionally with map()\nconsole.log('\\n📝 Better approach with map():');\nconst betterProcessed = employees.map(emp => ({\n  ...emp,\n  nameUpper: emp.name.toUpperCase(),\n  salaryBonus: emp.salary * 1.05,\n  status: emp.experience >= 5 ? 'Senior' : 'Junior'\n}));\n\nconsole.log('Both approaches give same result:', \n  JSON.stringify(processedEmployees[0]) === JSON.stringify(betterProcessed[0]));",
   "metadata": {},
   "execution_count": null,
   "outputs": []
  },
  {
   "cell_type": "markdown",
   "id": "ex2w4tpobcg",
   "source": "## 🏗️ Object Manipulation\n\nWorking with objects is fundamental to JavaScript. Here are the essential patterns:",
   "metadata": {}
  },
  {
   "cell_type": "code",
   "id": "mm448ngi3ee",
   "source": "console.log('=== Object Manipulation ===');\n\n// Sample objects to work with\nconst user = {\n  id: 1,\n  name: 'Alice Johnson',\n  email: 'alice@example.com',\n  preferences: {\n    theme: 'dark',\n    notifications: true\n  },\n  roles: ['user', 'admin']\n};\n\nconsole.log('📦 Original user:', user);\n\n// Accessing properties\nconsole.log('\\n🔍 Accessing properties:');\nconsole.log('Dot notation:', user.name);\nconsole.log('Bracket notation:', user['email']);\nconsole.log('Nested access:', user.preferences.theme);\nconsole.log('Dynamic access:', user[Object.keys(user)[0]]); // first property\n\n// Adding/modifying properties\nconsole.log('\\n✏️ Modifying properties:');\nconst modifiedUser = { ...user }; // Create copy first\n\nmodifiedUser.lastLogin = new Date().toISOString();\nmodifiedUser.preferences.language = 'en';\nmodifiedUser.roles.push('premium');\n\nconsole.log('Modified user:', modifiedUser);\nconsole.log('Original unchanged:', user.roles.length); // Original is unchanged\n\n// Object.keys(), Object.values(), Object.entries()\nconsole.log('\\n📊 Object introspection:');\nconsole.log('Keys:', Object.keys(user));\nconsole.log('Values (first 3):', Object.values(user).slice(0, 3));\nconsole.log('Entries (key-value pairs):');\nObject.entries(user).forEach(([key, value]) => {\n  if (typeof value !== 'object') {\n    console.log(`  ${key}: ${value}`);\n  }\n});\n\n// Object property checking\nconsole.log('\\n✅ Property checking:');\nconsole.log('Has name property:', 'name' in user);\nconsole.log('Has own property name:', user.hasOwnProperty('name'));\nconsole.log('Has phone property:', 'phone' in user);\n\n// Object.assign() for copying/merging\nconst additionalData = {\n  phone: '+1-555-0123',\n  department: 'Engineering',\n  preferences: {\n    theme: 'light', // This will override\n    fontSize: 'medium' // This will be added\n  }\n};\n\nconst mergedUser = Object.assign({}, user, additionalData);\nconsole.log('\\n🔗 Merged user (Object.assign):');\nconsole.log('Theme (overridden):', mergedUser.preferences.theme);\nconsole.log('Font size (added):', mergedUser.preferences.fontSize);\nconsole.log('Notifications (lost!):', mergedUser.preferences.notifications); // Shallow merge issue!\n\n// Better merging with spread operator\nconst betterMerged = {\n  ...user,\n  ...additionalData,\n  preferences: {\n    ...user.preferences,\n    ...additionalData.preferences\n  }\n};\n\nconsole.log('\\n🌟 Better merged (spread):');\nconsole.log('Theme (overridden):', betterMerged.preferences.theme);\nconsole.log('Notifications (preserved):', betterMerged.preferences.notifications);\nconsole.log('Font size (added):', betterMerged.preferences.fontSize);",
   "metadata": {},
   "execution_count": null,
   "outputs": []
  },
  {
   "cell_type": "markdown",
   "id": "v6g87hnx5ib",
   "source": "## 📦 Object Destructuring\n\n**Purpose**: Extract properties from objects into variables  \n**Benefits**: Cleaner code, fewer repetitions, easy renaming\n\n**Syntax**: `const { property } = object`",
   "metadata": {}
  },
  {
   "cell_type": "code",
   "id": "t9e8a05951k",
   "source": "console.log('=== Object Destructuring ===');\n\nconst employee = {\n  id: 1,\n  name: 'Alice Johnson',\n  department: 'Engineering',\n  salary: 85000,\n  experience: 5,\n  contact: {\n    email: 'alice@company.com',\n    phone: '+1-555-0123'\n  },\n  skills: ['JavaScript', 'React', 'Node.js']\n};\n\n// Basic destructuring\nconsole.log('📦 Basic destructuring:');\nconst { name, department, salary } = employee;\nconsole.log(`Employee: ${name}, Department: ${department}, Salary: $${salary.toLocaleString()}`);\n\n// Destructuring with renaming\nconsole.log('\\n🏷️ Destructuring with renaming:');\nconst { name: employeeName, department: dept, experience: yearsExp } = employee;\nconsole.log(`${employeeName} works in ${dept} with ${yearsExp} years experience`);\n\n// Default values\nconsole.log('\\n🔧 Default values:');\nconst { bonus = 0, manager = 'Unassigned' } = employee;\nconsole.log(`Bonus: $${bonus}, Manager: ${manager}`);\n\n// Nested destructuring\nconsole.log('\\n🎯 Nested destructuring:');\nconst { contact: { email, phone } } = employee;\nconsole.log(`Contact: ${email}, ${phone}`);\n\n// Mixed nested destructuring with renaming\nconst { contact: { email: workEmail } } = employee;\nconsole.log(`Work email: ${workEmail}`);\n\n// Array destructuring within objects\nconst { skills: [primarySkill, secondarySkill] } = employee;\nconsole.log(`Primary skill: ${primarySkill}, Secondary: ${secondarySkill}`);\n\n// Rest operator with destructuring\nconsole.log('\\n📋 Rest operator:');\nconst { name: empName, department: empDept, ...otherDetails } = employee;\nconsole.log(`Name: ${empName}, Dept: ${empDept}`);\nconsole.log('Other details:', Object.keys(otherDetails));\n\n// Function parameter destructuring\nconsole.log('\\n🔧 Function parameter destructuring:');\n\nconst formatEmployee = ({ name, department, salary, experience = 0 }) => {\n  return `${name} (${department}): $${salary.toLocaleString()}, ${experience}y exp`;\n};\n\nconst formatEmployeeNested = ({ name, contact: { email } }) => {\n  return `${name} - ${email}`;\n};\n\nconsole.log(formatEmployee(employee));\nconsole.log(formatEmployeeNested(employee));\n\n// Destructuring in array methods\nconsole.log('\\n⚡ Destructuring with array methods:');\n\nconst employees2 = [\n  { name: 'Alice', salary: 85000, dept: 'Engineering' },\n  { name: 'Bob', salary: 65000, dept: 'Marketing' },\n  { name: 'Carol', salary: 95000, dept: 'Engineering' }\n];\n\n// Extract just names and salaries\nconst summaries = employees2.map(({ name, salary }) => `${name}: $${salary.toLocaleString()}`);\nconsole.log('Salary summaries:', summaries);\n\n// Filter with destructuring\nconst highEarners2 = employees2.filter(({ salary }) => salary > 80000);\nconsole.log('High earners:', highEarners2.map(({ name }) => name));\n\n// Destructuring in forEach\nconsole.log('\\nEmployee details:');\nemployees2.forEach(({ name, dept, salary }) => {\n  console.log(`- ${name} (${dept}): $${salary.toLocaleString()}`);\n});",
   "metadata": {},
   "execution_count": null,
   "outputs": []
  },
  {
   "cell_type": "markdown",
   "id": "vrqtbrq1n6r",
   "source": "## 🌟 Spread Operator\n\n**Purpose**: Expand arrays/objects into individual elements  \n**Syntax**: `...array` or `...object`  \n**Uses**: Copying, merging, function arguments\n\n**Benefits**: Immutable operations, cleaner syntax",
   "metadata": {}
  },
  {
   "cell_type": "code",
   "id": "e5lp4k64w8v",
   "source": "console.log('=== Spread Operator ===');\n\n// Array spreading\nconsole.log('📚 Array spreading:');\n\nconst fruits = ['apple', 'banana', 'orange'];\nconst vegetables = ['carrot', 'broccoli'];\n\n// Copying arrays\nconst fruitsCopy = [...fruits];\nconsole.log('Fruits copy:', fruitsCopy);\nconsole.log('Are they the same array?', fruits === fruitsCopy); // false - different arrays\n\n// Combining arrays\nconst produce = [...fruits, ...vegetables];\nconsole.log('Combined produce:', produce);\n\n// Adding elements\nconst moreFruits = [...fruits, 'grape', 'kiwi'];\nconst extendedProduce = ['lettuce', ...fruits, 'tomato', ...vegetables];\nconsole.log('More fruits:', moreFruits);\nconsole.log('Extended produce:', extendedProduce);\n\n// Object spreading\nconsole.log('\\n🏗️ Object spreading:');\n\nconst baseEmployee = {\n  name: 'John Doe',\n  department: 'Engineering',\n  salary: 80000\n};\n\nconst additionalInfo = {\n  experience: 3,\n  skills: ['JavaScript', 'Python'],\n  manager: 'Alice Johnson'\n};\n\n// Copying objects\nconst employeeCopy = { ...baseEmployee };\nconsole.log('Employee copy:', employeeCopy);\n\n// Merging objects\nconst fullEmployee = { ...baseEmployee, ...additionalInfo };\nconsole.log('Full employee:', fullEmployee);\n\n// Overriding properties\nconst promotedEmployee = {\n  ...baseEmployee,\n  salary: 95000, // Override salary\n  level: 'Senior',\n  department: 'Engineering Leadership' // Override department\n};\nconsole.log('Promoted employee:', promotedEmployee);\n\n// Nested object spreading (careful with deep copying!)\nconsole.log('\\n🎯 Nested object spreading:');\n\nconst userProfile = {\n  name: 'Alice',\n  preferences: {\n    theme: 'dark',\n    notifications: true\n  },\n  settings: {\n    language: 'en',\n    timezone: 'UTC'\n  }\n};\n\n// Shallow copy - nested objects are still referenced!\nconst profileCopy = { ...userProfile };\nprofileCopy.preferences.theme = 'light'; // This modifies the original!\nconsole.log('Original theme changed:', userProfile.preferences.theme); // 'light' - oops!\n\n// Proper nested copying\nconst properCopy = {\n  ...userProfile,\n  preferences: { ...userProfile.preferences },\n  settings: { ...userProfile.settings }\n};\nproperCopy.preferences.theme = 'auto';\nconsole.log('Original theme preserved:', userProfile.preferences.theme); // still 'light'\nconsole.log('Copy theme changed:', properCopy.preferences.theme); // 'auto'\n\n// Function arguments spreading\nconsole.log('\\n🔧 Function arguments:');\n\nconst numbers = [1, 2, 3, 4, 5];\n\n// Old way\nconst maxOld = Math.max.apply(null, numbers);\nconsole.log('Max (old way):', maxOld);\n\n// New way with spread\nconst maxNew = Math.max(...numbers);\nconsole.log('Max (spread):', maxNew);\n\n// Custom function with spread\nconst calculateSum = (...args) => args.reduce((sum, num) => sum + num, 0);\nconsole.log('Sum of numbers:', calculateSum(...numbers));\nconsole.log('Sum of mixed:', calculateSum(10, ...numbers, 20));\n\n// Practical examples\nconsole.log('\\n⚡ Practical examples:');\n\n// Remove duplicates\nconst duplicates = [1, 2, 2, 3, 3, 4];\nconst unique = [...new Set(duplicates)];\nconsole.log('Remove duplicates:', unique);\n\n// Convert NodeList to Array (in browser)\n// const divs = [...document.querySelectorAll('div')];\n\n// Update array immutably\nconst originalTasks = ['task1', 'task2', 'task3'];\nconst updatedTasks = [...originalTasks.slice(0, 1), 'updated-task2', ...originalTasks.slice(2)];\nconsole.log('Original tasks:', originalTasks);\nconsole.log('Updated tasks:', updatedTasks);",
   "metadata": {},
   "execution_count": null,
   "outputs": []
  },
  {
   "cell_type": "markdown",
   "id": "a71x5yym5kr",
   "source": "## 🏁 Practice Examples\n\nLet's combine everything we've learned to solve real-world data manipulation problems:",
   "metadata": {}
  },
  {
   "cell_type": "code",
   "id": "jvee926r4jl",
   "source": "console.log('=== Practice: Sales Data Analysis ===');\n\n// Complex dataset similar to what you'd work with in pandas\nconst salesData = [\n  { id: 1, product: 'Laptop Pro', category: 'Electronics', price: 1299, quantity: 15, date: '2024-01-15', salesperson: 'Alice' },\n  { id: 2, product: 'Wireless Mouse', category: 'Electronics', price: 45, quantity: 120, date: '2024-01-15', salesperson: 'Bob' },\n  { id: 3, product: 'Coffee Mug', category: 'Office', price: 12, quantity: 80, date: '2024-01-16', salesperson: 'Alice' },\n  { id: 4, product: 'Standing Desk', category: 'Furniture', price: 599, quantity: 8, date: '2024-01-16', salesperson: 'Carol' },\n  { id: 5, product: 'Monitor 27\\\"', category: 'Electronics', price: 279, quantity: 25, date: '2024-01-17', salesperson: 'Bob' },\n  { id: 6, product: 'Office Chair', category: 'Furniture', price: 199, quantity: 12, date: '2024-01-17', salesperson: 'Carol' },\n  { id: 7, product: 'Smartphone', category: 'Electronics', price: 799, quantity: 30, date: '2024-01-18', salesperson: 'Alice' }\n];\n\nconsole.log('📊 Sales Dataset:', salesData.length, 'records');\n\n// 1. Transform: Add revenue calculation\nconst salesWithRevenue = salesData.map(sale => ({\n  ...sale,\n  revenue: sale.price * sale.quantity,\n  month: sale.date.substring(0, 7) // Extract YYYY-MM\n}));\n\nconsole.log('\\n💰 Top 3 sales by revenue:');\nsalesWithRevenue\n  .sort((a, b) => b.revenue - a.revenue)\n  .slice(0, 3)\n  .forEach(({ product, revenue, salesperson }) => {\n    console.log(`${product}: $${revenue.toLocaleString()} by ${salesperson}`);\n  });\n\n// 2. Filter: Electronics over $200\nconst expensiveElectronics = salesData.filter(({ category, price }) => \n  category === 'Electronics' && price > 200\n);\n\nconsole.log('\\n📱 Expensive Electronics:');\nexpensiveElectronics.forEach(({ product, price }) => {\n  console.log(`${product}: $${price}`);\n});\n\n// 3. Reduce: Group by category with statistics\nconst categoryStats = salesData.reduce((stats, sale) => {\n  const { category, price, quantity } = sale;\n  const revenue = price * quantity;\n  \n  if (!stats[category]) {\n    stats[category] = {\n      totalRevenue: 0,\n      totalQuantity: 0,\n      productCount: 0,\n      products: []\n    };\n  }\n  \n  stats[category].totalRevenue += revenue;\n  stats[category].totalQuantity += quantity;\n  stats[category].productCount += 1;\n  stats[category].products.push(sale.product);\n  \n  return stats;\n}, {});\n\nconsole.log('\\n📈 Category Statistics:');\nObject.entries(categoryStats).forEach(([category, stats]) => {\n  console.log(`${category}:`);\n  console.log(`  Revenue: $${stats.totalRevenue.toLocaleString()}`);\n  console.log(`  Products: ${stats.productCount}`);\n  console.log(`  Avg Revenue: $${Math.round(stats.totalRevenue / stats.productCount).toLocaleString()}`);\n});\n\n// 4. Complex chaining: Top salesperson analysis\nconst salespersonPerformance = salesData\n  .map(sale => ({ ...sale, revenue: sale.price * sale.quantity }))\n  .reduce((performance, { salesperson, revenue }) => {\n    if (!performance[salesperson]) {\n      performance[salesperson] = { totalRevenue: 0, salesCount: 0 };\n    }\n    performance[salesperson].totalRevenue += revenue;\n    performance[salesperson].salesCount += 1;\n    return performance;\n  }, {});\n\nconsole.log('\\n🏆 Salesperson Performance:');\nObject.entries(salespersonPerformance)\n  .map(([name, stats]) => ({\n    name,\n    ...stats,\n    avgSale: Math.round(stats.totalRevenue / stats.salesCount)\n  }))\n  .sort((a, b) => b.totalRevenue - a.totalRevenue)\n  .forEach(({ name, totalRevenue, salesCount, avgSale }) => {\n    console.log(`${name}: $${totalRevenue.toLocaleString()} (${salesCount} sales, avg: $${avgSale.toLocaleString()})`);\n  });",
   "metadata": {},
   "execution_count": null,
   "outputs": []
  },
  {
   "cell_type": "code",
   "id": "fv5ldutbkuq",
   "source": "console.log('=== Practice: Data Transformation Pipeline ===');\n\n// Simulate API response data that needs cleaning and processing\nconst rawUserData = [\n  { id: 1, name: 'alice johnson', email: 'ALICE@EXAMPLE.COM', age: '28', interests: 'coding,music,travel', lastLogin: '2024-01-15T10:30:00Z' },\n  { id: 2, name: 'bob smith', email: 'bob@example.com', age: '35', interests: 'sports,reading', lastLogin: '2024-01-10T14:20:00Z' },\n  { id: 3, name: 'carol brown', email: 'Carol.Brown@Example.COM', age: '42', interests: 'cooking,gardening,art', lastLogin: '2024-01-18T09:15:00Z' },\n  { id: 4, name: 'david wilson', email: 'david@example.com', age: '29', interests: 'gaming,technology', lastLogin: null }\n];\n\nconsole.log('🗂️ Raw user data (needs cleaning):');\nconsole.log(rawUserData[0]); // Show example\n\n// Data cleaning and transformation pipeline\nconst cleanedUsers = rawUserData\n  .map(user => ({\n    // Destructure and transform\n    ...user,\n    name: user.name\n      .split(' ')\n      .map(part => part.charAt(0).toUpperCase() + part.slice(1))\n      .join(' '),\n    email: user.email.toLowerCase(),\n    age: parseInt(user.age),\n    interests: user.interests.split(',').map(interest => interest.trim()),\n    lastLogin: user.lastLogin ? new Date(user.lastLogin) : null\n  }))\n  .map(user => ({\n    // Add calculated fields\n    ...user,\n    isActive: user.lastLogin && (Date.now() - user.lastLogin.getTime()) < (7 * 24 * 60 * 60 * 1000), // Active in last 7 days\n    ageGroup: user.age < 30 ? 'Young' : user.age < 40 ? 'Middle' : 'Senior',\n    interestCount: user.interests.length\n  }))\n  .filter(user => user.email && user.age > 0); // Remove invalid data\n\nconsole.log('\\n✨ Cleaned and enhanced data:');\ncleanedUsers.forEach(({ name, email, ageGroup, isActive, interestCount }) => {\n  console.log(`${name} (${ageGroup}): ${email} - ${isActive ? 'Active' : 'Inactive'} - ${interestCount} interests`);\n});\n\n// Analysis: Find patterns in the data\nconst userAnalysis = {\n  // Group by age group\n  byAgeGroup: cleanedUsers.reduce((groups, user) => {\n    const group = user.ageGroup;\n    if (!groups[group]) groups[group] = [];\n    groups[group].push(user);\n    return groups;\n  }, {}),\n  \n  // Most common interests\n  topInterests: cleanedUsers\n    .flatMap(user => user.interests)\n    .reduce((counts, interest) => {\n      counts[interest] = (counts[interest] || 0) + 1;\n      return counts;\n    }, {}),\n    \n  // Activity stats\n  activityStats: cleanedUsers.reduce((stats, user) => {\n    if (user.isActive) stats.active++;\n    else stats.inactive++;\n    return stats;\n  }, { active: 0, inactive: 0 })\n};\n\nconsole.log('\\n📊 User Analysis:');\nconsole.log('Age groups:');\nObject.entries(userAnalysis.byAgeGroup).forEach(([group, users]) => {\n  console.log(`  ${group}: ${users.length} users`);\n});\n\nconsole.log('\\nTop interests:');\nObject.entries(userAnalysis.topInterests)\n  .sort(([,a], [,b]) => b - a)\n  .slice(0, 3)\n  .forEach(([interest, count]) => {\n    console.log(`  ${interest}: ${count} users`);\n  });\n\nconsole.log(`\\nActivity: ${userAnalysis.activityStats.active} active, ${userAnalysis.activityStats.inactive} inactive`);",
   "metadata": {},
   "execution_count": null,
   "outputs": []
  },
  {
   "cell_type": "markdown",
   "id": "jp0tttvt4m9",
   "source": "## 🎯 Key Takeaways\n\n**Array Methods Mastery:**\n1. **`map()`** - Transform every element, always returns new array\n2. **`filter()`** - Keep elements that pass test, returns new array\n3. **`reduce()`** - Most powerful, can build any data structure\n4. **`forEach()`** - Side effects only, returns undefined\n\n**Best Practices:**\n- **Chain methods** for data pipelines: `data.filter().map().reduce()`\n- **Use destructuring** in callbacks: `({name, age}) => ...`\n- **Spread operator** for immutable operations\n- **Think functionally** - transform data, don't mutate\n\n**Real-world Applications:**\n- Data cleaning and validation\n- API response processing\n- Analytics and reporting\n- State management in apps\n\n---\n\n## 🚀 Next Steps\n\nYou now have the tools to manipulate data like a pro! Practice with:\n- **API responses** - Clean and transform real data\n- **Complex filtering** - Multiple conditions and nested properties\n- **Data aggregation** - Build dashboards and reports\n- **Performance optimization** - Handle large datasets efficiently",
   "metadata": {}
  }
 ],
 "metadata": {
  "language_info": {
   "name": "python"
  }
 },
 "nbformat": 4,
 "nbformat_minor": 5
}