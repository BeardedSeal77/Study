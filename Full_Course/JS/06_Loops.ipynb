{
 "cells": [
  {
   "cell_type": "markdown",
   "metadata": {},
   "source": [
    "# 📔 Day 6 - Loops\n",
    "\n",
    "## 30 Days Of JavaScript: Loops\n",
    "\n",
    "Welcome to Day 6 of our JavaScript journey! Today we'll explore the powerful world of loops - essential programming constructs that help us automate repetitive tasks.\n",
    "\n",
    "Most of the activities we do in life are full of repetitions. Imagine if I ask you to print out from 0 to 100 using console.log(). To implement this simple task it may take you 2 to 5 minutes, such kind of tedious and repetitive task can be carried out using loop.\n",
    "\n",
    "In programming languages to carry out repetitive task we use different kinds of loops. The following examples are the commonly used loops in JavaScript and other programming languages."
   ]
  },
  {
   "cell_type": "markdown",
   "metadata": {},
   "source": "# 📋 Table of Contents\n\n- [📔 Day 6 - Loops](#-day-6---loops)\n- [📋 Table of Contents](#-table-of-contents)\n- [Loops Overview](#loops-overview)\n- [1. for Loop](#1-for-loop)\n- [2. while Loop](#2-while-loop) \n- [3. do while Loop](#3-do-while-loop)\n- [4. for of Loop](#4-for-of-loop)\n- [5. break Statement](#5-break-statement)\n- [6. continue Statement](#6-continue-statement)\n- [💻 Exercises: Day 6](#-exercises-day-6)\n  - [Exercises: Level 1](#exercises-level-1)\n  - [Exercises: Level 2](#exercises-level-2)\n  - [Exercises: Level 3](#exercises-level-3)\n- [🎉 Congratulations!](#-congratulations)\n\n---\n\n## Loops Overview\n\nWe'll cover the following types of loops today:\n\n1. **for Loop** - Most commonly used loop with initialization, condition, and increment/decrement\n2. **while loop** - Executes while a condition is true\n3. **do while loop** - Executes at least once, then continues while condition is true\n4. **for of loop** - Iterates over iterable objects like arrays\n5. **break** - Exits a loop prematurely\n6. **continue** - Skips the current iteration and continues with the next"
  },
  {
   "cell_type": "markdown",
   "metadata": {},
   "source": [
    "## 1. for Loop\n",
    "\n",
    "The for loop is the most commonly used loop. It has three parts: initialization, condition, and increment/decrement.\n",
    "\n",
    "### Syntax:\n",
    "```javascript\n",
    "for(initialization, condition, increment/decrement){\n",
    "  // code goes here\n",
    "}\n",
    "```"
   ]
  },
  {
   "cell_type": "code",
   "execution_count": null,
   "metadata": {},
   "outputs": [],
   "source": [
    "// Basic for loop - counting from 0 to 5\n",
    "for(let i = 0; i <= 5; i++){\n",
    "  console.log(i)\n",
    "}\n",
    "\n",
    "// Output: 0 1 2 3 4 5"
   ]
  },
  {
   "cell_type": "code",
   "execution_count": null,
   "metadata": {},
   "outputs": [],
   "source": [
    "// Counting backwards from 5 to 0\n",
    "for(let i = 5; i >= 0; i--){\n",
    "  console.log(i)\n",
    "}\n",
    "\n",
    "// Output: 5 4 3 2 1 0"
   ]
  },
  {
   "cell_type": "code",
   "execution_count": null,
   "metadata": {},
   "outputs": [],
   "source": [
    "// Using for loop to create multiplication table\n",
    "for(let i = 0; i <= 5; i++){\n",
    "  console.log(`${i} * ${i} = ${i * i}`)\n",
    "}\n",
    "\n",
    "// Output:\n",
    "// 0 * 0 = 0\n",
    "// 1 * 1 = 1\n",
    "// 2 * 2 = 4\n",
    "// 3 * 3 = 9\n",
    "// 4 * 4 = 16\n",
    "// 5 * 5 = 25"
   ]
  },
  {
   "cell_type": "code",
   "execution_count": null,
   "metadata": {},
   "outputs": [],
   "source": [
    "// Using for loop with arrays - converting to uppercase\n",
    "const countries = ['Finland', 'Sweden', 'Denmark', 'Norway', 'Iceland']\n",
    "const newArr = []\n",
    "for(let i = 0; i < countries.length; i++){\n",
    "  newArr.push(countries[i].toUpperCase())\n",
    "}\n",
    "\n",
    "console.log(newArr)\n",
    "// Output: [\"FINLAND\", \"SWEDEN\", \"DENMARK\", \"NORWAY\", \"ICELAND\"]"
   ]
  },
  {
   "cell_type": "code",
   "execution_count": null,
   "metadata": {},
   "outputs": [],
   "source": [
    "// Adding all elements in an array\n",
    "const numbers = [1, 2, 3, 4, 5]\n",
    "let sum = 0\n",
    "for(let i = 0; i < numbers.length; i++){\n",
    "  sum = sum + numbers[i]  // can be shortened: sum += numbers[i]\n",
    "}\n",
    "\n",
    "console.log(sum)  // Output: 15"
   ]
  },
  {
   "cell_type": "code",
   "execution_count": null,
   "metadata": {},
   "outputs": [],
   "source": [
    "// Creating a new array with squared values\n",
    "const numbers2 = [1, 2, 3, 4, 5]\n",
    "const squaredArray = []\n",
    "for(let i = 0; i < numbers2.length; i++){\n",
    "  squaredArray.push(numbers2[i] ** 2)\n",
    "}\n",
    "\n",
    "console.log(squaredArray)  // Output: [1, 4, 9, 16, 25]"
   ]
  },
  {
   "cell_type": "markdown",
   "metadata": {},
   "source": [
    "## 2. while Loop\n",
    "\n",
    "The while loop executes a block of code as long as a specified condition is true."
   ]
  },
  {
   "cell_type": "code",
   "execution_count": null,
   "metadata": {},
   "outputs": [],
   "source": [
    "// Basic while loop\n",
    "let i = 0\n",
    "while (i <= 5) {\n",
    "  console.log(i)\n",
    "  i++\n",
    "}\n",
    "\n",
    "// Output: 0 1 2 3 4 5"
   ]
  },
  {
   "cell_type": "markdown",
   "metadata": {},
   "source": [
    "## 3. do while Loop\n",
    "\n",
    "The do while loop executes the code block at least once, then continues to execute as long as the condition is true."
   ]
  },
  {
   "cell_type": "code",
   "execution_count": null,
   "metadata": {},
   "outputs": [],
   "source": [
    "// do while loop\n",
    "let j = 0\n",
    "do {\n",
    "  console.log(j)\n",
    "  j++\n",
    "} while (j <= 5)\n",
    "\n",
    "// Output: 0 1 2 3 4 5"
   ]
  },
  {
   "cell_type": "markdown",
   "metadata": {},
   "source": [
    "## 4. for of Loop\n",
    "\n",
    "We use for of loop for arrays. It is a very handy way to iterate through an array if we are not interested in the index of each element in the array.\n",
    "\n",
    "### Syntax:\n",
    "```javascript\n",
    "for (const element of arr) {\n",
    "  // code goes here\n",
    "}\n",
    "```"
   ]
  },
  {
   "cell_type": "code",
   "execution_count": null,
   "metadata": {},
   "outputs": [],
   "source": [
    "// Basic for of loop\n",
    "const numbers3 = [1, 2, 3, 4, 5]\n",
    "\n",
    "for (const num of numbers3) {\n",
    "  console.log(num)\n",
    "}\n",
    "\n",
    "// Output: 1 2 3 4 5"
   ]
  },
  {
   "cell_type": "code",
   "execution_count": null,
   "metadata": {},
   "outputs": [],
   "source": [
    "// for of loop with operations\n",
    "const numbers4 = [1, 2, 3, 4, 5]\n",
    "\n",
    "for (const num of numbers4) {\n",
    "  console.log(num * num)\n",
    "}\n",
    "\n",
    "// Output: 1 4 9 16 25"
   ]
  },
  {
   "cell_type": "code",
   "execution_count": null,
   "metadata": {},
   "outputs": [],
   "source": [
    "// Adding all numbers using for of loop\n",
    "const numbers5 = [1, 2, 3, 4, 5]\n",
    "let sum2 = 0\n",
    "for (const num of numbers5) {\n",
    "  sum2 += num  // shortened syntax for sum2 = sum2 + num\n",
    "}\n",
    "console.log(sum2) // Output: 15"
   ]
  },
  {
   "cell_type": "code",
   "execution_count": null,
   "metadata": {},
   "outputs": [],
   "source": [
    "// for of loop with string array\n",
    "const webTechs = [\n",
    "  'HTML',\n",
    "  'CSS',\n",
    "  'JavaScript',\n",
    "  'React',\n",
    "  'Redux',\n",
    "  'Node',\n",
    "  'MongoDB'\n",
    "]\n",
    "\n",
    "for (const tech of webTechs) {\n",
    "  console.log(tech.toUpperCase())\n",
    "}\n",
    "\n",
    "// Output: HTML CSS JAVASCRIPT REACT REDUX NODE MONGODB"
   ]
  },
  {
   "cell_type": "code",
   "execution_count": null,
   "metadata": {},
   "outputs": [],
   "source": [
    "// Getting first character of each element\n",
    "const webTechs2 = ['HTML', 'CSS', 'JavaScript', 'React', 'Redux', 'Node', 'MongoDB']\n",
    "\n",
    "for (const tech of webTechs2) {\n",
    "  console.log(tech[0]) // get only the first letter of each element\n",
    "}\n",
    "\n",
    "// Output: H C J R R N M"
   ]
  },
  {
   "cell_type": "code",
   "execution_count": null,
   "metadata": {},
   "outputs": [],
   "source": [
    "// Creating uppercase array using for of loop\n",
    "const countries2 = ['Finland', 'Sweden', 'Norway', 'Denmark', 'Iceland']\n",
    "const newCountriesArr = []\n",
    "for(const country of countries2){\n",
    "  newCountriesArr.push(country.toUpperCase())\n",
    "}\n",
    "\n",
    "console.log(newCountriesArr)  // [\"FINLAND\", \"SWEDEN\", \"NORWAY\", \"DENMARK\", \"ICELAND\"]"
   ]
  },
  {
   "cell_type": "markdown",
   "metadata": {},
   "source": [
    "## 5. break Statement\n",
    "\n",
    "Break is used to interrupt a loop when a certain condition is met."
   ]
  },
  {
   "cell_type": "code",
   "execution_count": null,
   "metadata": {},
   "outputs": [],
   "source": [
    "// Using break to exit loop when i equals 3\n",
    "for(let i = 0; i <= 5; i++){\n",
    "  if(i == 3){\n",
    "    break\n",
    "  }\n",
    "  console.log(i)\n",
    "}\n",
    "\n",
    "// Output: 0 1 2\n",
    "// The loop stops when i equals 3"
   ]
  },
  {
   "cell_type": "markdown",
   "metadata": {},
   "source": [
    "## 6. continue Statement\n",
    "\n",
    "We use the keyword *continue* to skip a certain iteration."
   ]
  },
  {
   "cell_type": "code",
   "execution_count": null,
   "metadata": {},
   "outputs": [],
   "source": [
    "// Using continue to skip iteration when i equals 3\n",
    "for(let i = 0; i <= 5; i++){\n",
    "  if(i == 3){\n",
    "    continue\n",
    "  }\n",
    "  console.log(i)\n",
    "}\n",
    "\n",
    "// Output: 0 1 2 4 5\n",
    "// The number 3 is skipped"
   ]
  },
  {
   "cell_type": "markdown",
   "metadata": {},
   "source": [
    "---\n",
    "\n",
    "# 💻 Exercises: Day 6\n",
    "\n",
    "Now it's time to practice what we've learned! We'll work through exercises at three different levels.\n",
    "\n",
    "First, let's set up our data arrays that we'll use in the exercises:"
   ]
  },
  {
   "cell_type": "code",
   "execution_count": null,
   "metadata": {},
   "outputs": [],
   "source": [
    "// Data arrays for exercises\n",
    "const countries = [\n",
    "  'Albania',\n",
    "  'Bolivia',\n",
    "  'Canada',\n",
    "  'Denmark',\n",
    "  'Ethiopia',\n",
    "  'Finland',\n",
    "  'Germany',\n",
    "  'Hungary',\n",
    "  'Ireland',\n",
    "  'Japan',\n",
    "  'Kenya'\n",
    "]\n",
    "\n",
    "const webTechs = [\n",
    "  'HTML',\n",
    "  'CSS',\n",
    "  'JavaScript',\n",
    "  'React',\n",
    "  'Redux',\n",
    "  'Node',\n",
    "  'MongoDB'\n",
    "]\n",
    "\n",
    "const mernStack = ['MongoDB', 'Express', 'React', 'Node']\n",
    "\n",
    "console.log('Data arrays ready for exercises!')"
   ]
  },
  {
   "cell_type": "markdown",
   "metadata": {},
   "source": [
    "## Exercises: Level 1"
   ]
  },
  {
   "cell_type": "code",
   "execution_count": null,
   "metadata": {},
   "outputs": [],
   "source": [
    "// 1. Iterate 0 to 10 using for loop, do the same using while and do while loop\n",
    "\n",
    "console.log('Using for loop:')\n",
    "for(let i = 0; i <= 10; i++) {\n",
    "  console.log(i)\n",
    "}\n",
    "\n",
    "console.log('\\nUsing while loop:')\n",
    "let i = 0\n",
    "while(i <= 10) {\n",
    "  console.log(i)\n",
    "  i++\n",
    "}\n",
    "\n",
    "console.log('\\nUsing do while loop:')\n",
    "let j = 0\n",
    "do {\n",
    "  console.log(j)\n",
    "  j++\n",
    "} while(j <= 10)"
   ]
  },
  {
   "cell_type": "code",
   "execution_count": null,
   "metadata": {},
   "outputs": [],
   "source": [
    "// 2. Iterate 10 to 0 using for loop, do the same using while and do while loop\n",
    "\n",
    "console.log('Using for loop (10 to 0):')\n",
    "for(let i = 10; i >= 0; i--) {\n",
    "  console.log(i)\n",
    "}\n",
    "\n",
    "console.log('\\nUsing while loop (10 to 0):')\n",
    "let k = 10\n",
    "while(k >= 0) {\n",
    "  console.log(k)\n",
    "  k--\n",
    "}\n",
    "\n",
    "console.log('\\nUsing do while loop (10 to 0):')\n",
    "let l = 10\n",
    "do {\n",
    "  console.log(l)\n",
    "  l--\n",
    "} while(l >= 0)"
   ]
  },
  {
   "cell_type": "code",
   "execution_count": null,
   "metadata": {},
   "outputs": [],
   "source": [
    "// 3. Iterate 0 to n using for loop\n",
    "const n = 7  // You can change this value\n",
    "\n",
    "console.log(`Iterating from 0 to ${n}:`)\n",
    "for(let i = 0; i <= n; i++) {\n",
    "  console.log(i)\n",
    "}"
   ]
  },
  {
   "cell_type": "code",
   "execution_count": null,
   "metadata": {},
   "outputs": [],
   "source": [
    "// 4. Write a loop that makes the following pattern using console.log():\n",
    "//    #\n",
    "//    ##\n",
    "//    ###\n",
    "//    ####\n",
    "//    #####\n",
    "//    ######\n",
    "//    #######\n",
    "\n",
    "console.log('Hash pattern:')\n",
    "for(let i = 1; i <= 7; i++) {\n",
    "  let pattern = ''\n",
    "  for(let j = 1; j <= i; j++) {\n",
    "    pattern += '#'\n",
    "  }\n",
    "  console.log(pattern)\n",
    "}"
   ]
  },
  {
   "cell_type": "code",
   "execution_count": null,
   "metadata": {},
   "outputs": [],
   "source": [
    "// 5. Use loop to print the following pattern:\n",
    "//    0 x 0 = 0\n",
    "//    1 x 1 = 1\n",
    "//    2 x 2 = 4\n",
    "//    ...\n",
    "//    10 x 10 = 100\n",
    "\n",
    "console.log('Multiplication pattern:')\n",
    "for(let i = 0; i <= 10; i++) {\n",
    "  console.log(`${i} x ${i} = ${i * i}`)\n",
    "}"
   ]
  },
  {
   "cell_type": "code",
   "execution_count": null,
   "metadata": {},
   "outputs": [],
   "source": [
    "// 6. Using loop print the following pattern\n",
    "//    i    i^2   i^3\n",
    "//    0    0     0\n",
    "//    1    1     1\n",
    "//    2    4     8\n",
    "//    ...\n",
    "//    10   100   1000\n",
    "\n",
    "console.log('Powers pattern:')\n",
    "console.log('i    i^2   i^3')\n",
    "for(let i = 0; i <= 10; i++) {\n",
    "  console.log(`${i}    ${i**2}     ${i**3}`)\n",
    "}"
   ]
  },
  {
   "cell_type": "code",
   "execution_count": null,
   "metadata": {},
   "outputs": [],
   "source": [
    "// 7. Use for loop to iterate from 0 to 100 and print only even numbers\n",
    "console.log('Even numbers from 0 to 100:')\n",
    "for(let i = 0; i <= 100; i++) {\n",
    "  if(i % 2 === 0) {\n",
    "    console.log(i)\n",
    "  }\n",
    "}"
   ]
  },
  {
   "cell_type": "code",
   "execution_count": null,
   "metadata": {},
   "outputs": [],
   "source": [
    "// 8. Use for loop to iterate from 0 to 100 and print only odd numbers\n",
    "console.log('Odd numbers from 0 to 100:')\n",
    "for(let i = 0; i <= 100; i++) {\n",
    "  if(i % 2 !== 0) {\n",
    "    console.log(i)\n",
    "  }\n",
    "}"
   ]
  },
  {
   "cell_type": "code",
   "execution_count": null,
   "metadata": {},
   "outputs": [],
   "source": [
    "// 9. Use for loop to iterate from 0 to 100 and print only prime numbers\n",
    "console.log('Prime numbers from 0 to 100:')\n",
    "\n",
    "function isPrime(num) {\n",
    "  if(num < 2) return false\n",
    "  for(let i = 2; i <= Math.sqrt(num); i++) {\n",
    "    if(num % i === 0) return false\n",
    "  }\n",
    "  return true\n",
    "}\n",
    "\n",
    "for(let i = 0; i <= 100; i++) {\n",
    "  if(isPrime(i)) {\n",
    "    console.log(i)\n",
    "  }\n",
    "}"
   ]
  },
  {
   "cell_type": "code",
   "execution_count": null,
   "metadata": {},
   "outputs": [],
   "source": [
    "// 10. Use for loop to iterate from 0 to 100 and print the sum of all numbers\n",
    "let totalSum = 0\n",
    "for(let i = 0; i <= 100; i++) {\n",
    "  totalSum += i\n",
    "}\n",
    "console.log(`The sum of all numbers from 0 to 100 is ${totalSum}.`)"
   ]
  },
  {
   "cell_type": "code",
   "execution_count": null,
   "metadata": {},
   "outputs": [],
   "source": [
    "// 11. Use for loop to iterate from 0 to 100 and print the sum of all evens and odds\n",
    "let evenSum = 0\n",
    "let oddSum = 0\n",
    "\n",
    "for(let i = 0; i <= 100; i++) {\n",
    "  if(i % 2 === 0) {\n",
    "    evenSum += i\n",
    "  } else {\n",
    "    oddSum += i\n",
    "  }\n",
    "}\n",
    "\n",
    "console.log(`The sum of all evens from 0 to 100 is ${evenSum}. And the sum of all odds from 0 to 100 is ${oddSum}.`)"
   ]
  },
  {
   "cell_type": "code",
   "execution_count": null,
   "metadata": {},
   "outputs": [],
   "source": [
    "// 12. Print sum of evens and odds as array\n",
    "let evenSum2 = 0\n",
    "let oddSum2 = 0\n",
    "\n",
    "for(let i = 0; i <= 100; i++) {\n",
    "  if(i % 2 === 0) {\n",
    "    evenSum2 += i\n",
    "  } else {\n",
    "    oddSum2 += i\n",
    "  }\n",
    "}\n",
    "\n",
    "console.log([evenSum2, oddSum2])  // [2550, 2500]"
   ]
  },
  {
   "cell_type": "code",
   "execution_count": null,
   "metadata": {},
   "outputs": [],
   "source": [
    "// 13. Develop a small script which generate array of 5 random numbers\n",
    "const randomNumbers = []\n",
    "for(let i = 0; i < 5; i++) {\n",
    "  randomNumbers.push(Math.floor(Math.random() * 100))\n",
    "}\n",
    "console.log('Array of 5 random numbers:', randomNumbers)"
   ]
  },
  {
   "cell_type": "code",
   "execution_count": null,
   "metadata": {},
   "outputs": [],
   "source": [
    "// 14. Develop a small script which generate array of 5 random numbers and the numbers must be unique\n",
    "const uniqueRandomNumbers = []\n",
    "while(uniqueRandomNumbers.length < 5) {\n",
    "  const randomNum = Math.floor(Math.random() * 100)\n",
    "  if(!uniqueRandomNumbers.includes(randomNum)) {\n",
    "    uniqueRandomNumbers.push(randomNum)\n",
    "  }\n",
    "}\n",
    "console.log('Array of 5 unique random numbers:', uniqueRandomNumbers)"
   ]
  },
  {
   "cell_type": "code",
   "execution_count": null,
   "metadata": {},
   "outputs": [],
   "source": [
    "// 15. Develop a small script which generate a six characters random id\n",
    "const characters = 'abcdefghijklmnopqrstuvwxyz0123456789'\n",
    "let randomId = ''\n",
    "for(let i = 0; i < 6; i++) {\n",
    "  randomId += characters[Math.floor(Math.random() * characters.length)]\n",
    "}\n",
    "console.log('Six character random ID:', randomId)"
   ]
  },
  {
   "cell_type": "markdown",
   "metadata": {},
   "source": [
    "## Exercises: Level 2"
   ]
  },
  {
   "cell_type": "code",
   "execution_count": null,
   "metadata": {},
   "outputs": [],
   "source": [
    "// 1. Develop a small script which generate any number of characters random id\n",
    "function generateRandomId(length) {\n",
    "  const characters = 'abcdefghijklmnopqrstuvwxyz0123456789'\n",
    "  let randomId = ''\n",
    "  for(let i = 0; i < length; i++) {\n",
    "    randomId += characters[Math.floor(Math.random() * characters.length)]\n",
    "  }\n",
    "  return randomId\n",
    "}\n",
    "\n",
    "console.log('12 character random ID:', generateRandomId(12))\n",
    "console.log('24 character random ID:', generateRandomId(24))"
   ]
  },
  {
   "cell_type": "code",
   "execution_count": null,
   "metadata": {},
   "outputs": [],
   "source": [
    "// 2. Write a script which generates a random hexadecimal number\n",
    "function generateRandomHexColor() {\n",
    "  const hexChars = '0123456789abcdef'\n",
    "  let hexColor = '#'\n",
    "  for(let i = 0; i < 6; i++) {\n",
    "    hexColor += hexChars[Math.floor(Math.random() * hexChars.length)]\n",
    "  }\n",
    "  return hexColor\n",
    "}\n",
    "\n",
    "console.log('Random hex color:', generateRandomHexColor())"
   ]
  },
  {
   "cell_type": "code",
   "execution_count": null,
   "metadata": {},
   "outputs": [],
   "source": [
    "// 3. Write a script which generates a random rgb color number\n",
    "function generateRandomRgbColor() {\n",
    "  const r = Math.floor(Math.random() * 256)\n",
    "  const g = Math.floor(Math.random() * 256)\n",
    "  const b = Math.floor(Math.random() * 256)\n",
    "  return `rgb(${r},${g},${b})`\n",
    "}\n",
    "\n",
    "console.log('Random RGB color:', generateRandomRgbColor())"
   ]
  },
  {
   "cell_type": "code",
   "execution_count": null,
   "metadata": {},
   "outputs": [],
   "source": [
    "// 4. Using the countries array, create uppercase version\n",
    "const uppercaseCountries = []\n",
    "for(const country of countries) {\n",
    "  uppercaseCountries.push(country.toUpperCase())\n",
    "}\n",
    "console.log('Uppercase countries:', uppercaseCountries)"
   ]
  },
  {
   "cell_type": "code",
   "execution_count": null,
   "metadata": {},
   "outputs": [],
   "source": [
    "// 5. Using the countries array, create an array for countries length\n",
    "const countriesLength = []\n",
    "for(const country of countries) {\n",
    "  countriesLength.push(country.length)\n",
    "}\n",
    "console.log('Countries length array:', countriesLength)"
   ]
  },
  {
   "cell_type": "code",
   "execution_count": null,
   "metadata": {},
   "outputs": [],
   "source": [
    "// 6. Use the countries array to create array of arrays with country, abbreviation, and length\n",
    "const countriesArrayOfArrays = []\n",
    "for(const country of countries) {\n",
    "  const abbreviation = country.slice(0, 3).toUpperCase()\n",
    "  countriesArrayOfArrays.push([country, abbreviation, country.length])\n",
    "}\n",
    "console.log('Countries array of arrays:', countriesArrayOfArrays)"
   ]
  },
  {
   "cell_type": "code",
   "execution_count": null,
   "metadata": {},
   "outputs": [],
   "source": [
    "// 7. Check if there are countries containing the word 'land'\n",
    "const landCountries = []\n",
    "for(const country of countries) {\n",
    "  if(country.toLowerCase().includes('land')) {\n",
    "    landCountries.push(country)\n",
    "  }\n",
    "}\n",
    "\n",
    "if(landCountries.length > 0) {\n",
    "  console.log('Countries containing \"land\":', landCountries)\n",
    "} else {\n",
    "  console.log('All these countries are without land')\n",
    "}"
   ]
  },
  {
   "cell_type": "code",
   "execution_count": null,
   "metadata": {},
   "outputs": [],
   "source": [
    "// 8. Check if there are countries ending with 'ia'\n",
    "const iaCountries = []\n",
    "for(const country of countries) {\n",
    "  if(country.toLowerCase().endsWith('ia')) {\n",
    "    iaCountries.push(country)\n",
    "  }\n",
    "}\n",
    "\n",
    "if(iaCountries.length > 0) {\n",
    "  console.log('Countries ending with \"ia\":', iaCountries)\n",
    "} else {\n",
    "  console.log('These are countries ends without ia')\n",
    "}"
   ]
  },
  {
   "cell_type": "code",
   "execution_count": null,
   "metadata": {},
   "outputs": [],
   "source": [
    "// 9. Find the country containing the biggest number of characters\n",
    "let longestCountry = ''\n",
    "for(const country of countries) {\n",
    "  if(country.length > longestCountry.length) {\n",
    "    longestCountry = country\n",
    "  }\n",
    "}\n",
    "console.log('Country with most characters:', longestCountry)"
   ]
  },
  {
   "cell_type": "code",
   "execution_count": null,
   "metadata": {},
   "outputs": [],
   "source": [
    "// 10. Find countries containing only 5 characters\n",
    "const fiveCharCountries = []\n",
    "for(const country of countries) {\n",
    "  if(country.length === 5) {\n",
    "    fiveCharCountries.push(country)\n",
    "  }\n",
    "}\n",
    "console.log('Countries with 5 characters:', fiveCharCountries)"
   ]
  },
  {
   "cell_type": "code",
   "execution_count": null,
   "metadata": {},
   "outputs": [],
   "source": [
    "// 11. Find the longest word in the webTechs array\n",
    "let longestTech = ''\n",
    "for(const tech of webTechs) {\n",
    "  if(tech.length > longestTech.length) {\n",
    "    longestTech = tech\n",
    "  }\n",
    "}\n",
    "console.log('Longest web technology:', longestTech)"
   ]
  },
  {
   "cell_type": "code",
   "execution_count": null,
   "metadata": {},
   "outputs": [],
   "source": [
    "// 12. Use the webTechs array to create array of arrays\n",
    "const webTechsWithLength = []\n",
    "for(const tech of webTechs) {\n",
    "  webTechsWithLength.push([tech, tech.length])\n",
    "}\n",
    "console.log('Web techs with length:', webTechsWithLength)"
   ]
  },
  {
   "cell_type": "code",
   "execution_count": null,
   "metadata": {},
   "outputs": [],
   "source": [
    "// 13. Create the acronym MERN using the mernStack array\n",
    "let mernAcronym = ''\n",
    "for(const stack of mernStack) {\n",
    "  mernAcronym += stack[0]\n",
    "}\n",
    "console.log('MERN acronym:', mernAcronym)"
   ]
  },
  {
   "cell_type": "code",
   "execution_count": null,
   "metadata": {},
   "outputs": [],
   "source": [
    "// 14. Iterate through array and print items\n",
    "const techArray = ['HTML', 'CSS', 'JS', 'React', 'Redux', 'Node', 'Express', 'MongoDB']\n",
    "console.log('Tech stack items:')\n",
    "for(const tech of techArray) {\n",
    "  console.log(tech)\n",
    "}"
   ]
  },
  {
   "cell_type": "code",
   "execution_count": null,
   "metadata": {},
   "outputs": [],
   "source": [
    "// 15. Reverse fruit array using loop (without reverse method)\n",
    "const fruits = ['banana', 'orange', 'mango', 'lemon']\n",
    "const reversedFruits = []\n",
    "for(let i = fruits.length - 1; i >= 0; i--) {\n",
    "  reversedFruits.push(fruits[i])\n",
    "}\n",
    "console.log('Original fruits:', fruits)\n",
    "console.log('Reversed fruits:', reversedFruits)"
   ]
  },
  {
   "cell_type": "code",
   "execution_count": null,
   "metadata": {},
   "outputs": [],
   "source": [
    "// 16. Print all elements of nested array\n",
    "const fullStack = [\n",
    "  ['HTML', 'CSS', 'JS', 'React'],\n",
    "  ['Node', 'Express', 'MongoDB']\n",
    "]\n",
    "\n",
    "console.log('Full stack technologies:')\n",
    "for(const stackArray of fullStack) {\n",
    "  for(const tech of stackArray) {\n",
    "    console.log(tech.toUpperCase())\n",
    "  }\n",
    "}"
   ]
  },
  {
   "cell_type": "markdown",
   "metadata": {},
   "source": [
    "## Exercises: Level 3"
   ]
  },
  {
   "cell_type": "code",
   "execution_count": null,
   "metadata": {},
   "outputs": [],
   "source": [
    "// 1. Copy countries array (Avoid mutation)\n",
    "const countriesCopy = []\n",
    "for(const country of countries) {\n",
    "  countriesCopy.push(country)\n",
    "}\n",
    "console.log('Original countries:', countries)\n",
    "console.log('Copied countries:', countriesCopy)\n",
    "console.log('Are they the same array?', countries === countriesCopy)"
   ]
  },
  {
   "cell_type": "code",
   "execution_count": null,
   "metadata": {},
   "outputs": [],
   "source": [
    "// 2. Create a copy of array and sort it without modifying original\n",
    "const countriesCopy2 = []\n",
    "for(const country of countries) {\n",
    "  countriesCopy2.push(country)\n",
    "}\n",
    "const sortedCountries = countriesCopy2.sort()\n",
    "\n",
    "console.log('Original countries:', countries)\n",
    "console.log('Sorted countries:', sortedCountries)"
   ]
  },
  {
   "cell_type": "code",
   "execution_count": null,
   "metadata": {},
   "outputs": [],
   "source": [
    "// 3. Sort the webTechs array and mernStack array\n",
    "const sortedWebTechs = [...webTechs].sort()\n",
    "const sortedMernStack = [...mernStack].sort()\n",
    "\n",
    "console.log('Original webTechs:', webTechs)\n",
    "console.log('Sorted webTechs:', sortedWebTechs)\n",
    "console.log('Original mernStack:', mernStack)\n",
    "console.log('Sorted mernStack:', sortedMernStack)"
   ]
  },
  {
   "cell_type": "markdown",
   "metadata": {},
   "source": [
    "**Note**: For exercises 4-9, we would typically use a larger countries array from an external file. These exercises demonstrate the concepts with our smaller array, but in a real scenario, you would import a comprehensive countries dataset."
   ]
  },
  {
   "cell_type": "code",
   "execution_count": null,
   "metadata": {},
   "outputs": [],
   "source": [
    "// Example of what exercises 4-9 would look like with our current countries array\n",
    "\n",
    "// Extract countries containing 'land'\n",
    "const landCountries2 = []\n",
    "for(const country of countries) {\n",
    "  if(country.toLowerCase().includes('land')) {\n",
    "    landCountries2.push(country)\n",
    "  }\n",
    "}\n",
    "console.log('Countries with \"land\":', landCountries2)\n",
    "\n",
    "// Find country with highest number of characters\n",
    "let longestCountry2 = ''\n",
    "for(const country of countries) {\n",
    "  if(country.length > longestCountry2.length) {\n",
    "    longestCountry2 = country\n",
    "  }\n",
    "}\n",
    "console.log('Longest country name:', longestCountry2)\n",
    "\n",
    "// Extract countries with only four characters\n",
    "const fourCharCountries = []\n",
    "for(const country of countries) {\n",
    "  if(country.length === 4) {\n",
    "    fourCharCountries.push(country)\n",
    "  }\n",
    "}\n",
    "console.log('Countries with 4 characters:', fourCharCountries)\n",
    "\n",
    "// Extract countries with two or more words\n",
    "const multiWordCountries = []\n",
    "for(const country of countries) {\n",
    "  if(country.includes(' ')) {\n",
    "    multiWordCountries.push(country)\n",
    "  }\n",
    "}\n",
    "console.log('Countries with multiple words:', multiWordCountries)\n",
    "\n",
    "// Reverse countries array and capitalize\n",
    "const reversedCapitalizedCountries = []\n",
    "for(let i = countries.length - 1; i >= 0; i--) {\n",
    "  reversedCapitalizedCountries.push(countries[i].toUpperCase())\n",
    "}\n",
    "console.log('Reversed and capitalized countries:', reversedCapitalizedCountries)"
   ]
  },
  {
   "cell_type": "markdown",
   "metadata": {},
   "source": [
    "---\n",
    "\n",
    "# 🎉 Congratulations!\n",
    "\n",
    "You have successfully completed Day 6 of the 30 Days of JavaScript challenge! \n",
    "\n",
    "Today you learned about:\n",
    "- **for loops** - The most commonly used loop with initialization, condition, and increment\n",
    "- **while loops** - Execute while a condition is true\n",
    "- **do-while loops** - Execute at least once, then continue while condition is true\n",
    "- **for-of loops** - Elegant way to iterate over arrays\n",
    "- **break statement** - Exit loops prematurely\n",
    "- **continue statement** - Skip current iteration\n",
    "\n",
    "You now have the power to automate repetitive and tedious tasks! Keep practicing with the exercises and experiment with different loop patterns.\n",
    "\n",
    "**Next**: Tomorrow we'll dive into Functions - one of the most important concepts in JavaScript programming!"
   ]
  }
 ],
 "metadata": {
  "kernelspec": {
   "display_name": "JavaScript (Node.js)",
   "language": "javascript",
   "name": "javascript"
  },
  "language_info": {
   "file_extension": ".js",
   "mimetype": "application/javascript",
   "name": "javascript",
   "version": "18.0.0"
  }
 },
 "nbformat": 4,
 "nbformat_minor": 4
}