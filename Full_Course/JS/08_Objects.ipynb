{
 "cells": [
  {
   "cell_type": "markdown",
   "metadata": {},
   "source": [
    "# Day 8: Scope and Objects\n",
    "\n",
    "Welcome to Day 8 of your JavaScript journey! Today we'll dive deep into two fundamental concepts: **Scope** and **Objects**. Understanding these concepts is crucial for writing effective JavaScript code.\n",
    "\n",
    "## Table of Contents\n",
    "1. [Scope](#scope)\n",
    "2. [Objects](#objects)\n",
    "3. [Exercises](#exercises)\n",
    "\n",
    "---"
   ]
  },
  {
   "cell_type": "markdown",
   "metadata": {},
   "source": [
    "## Scope\n",
    "\n",
    "Variable scope is a fundamental concept in programming. We declare variables to store different data types using the keywords `var`, `let`, and `const`. Variables can be declared at different scopes.\n",
    "\n",
    "Variables scopes can be:\n",
    "- **Global**\n",
    "- **Local**\n",
    "\n",
    "Anything declared without `let`, `var`, or `const` is scoped at the global level."
   ]
  },
  {
   "cell_type": "markdown",
   "metadata": {},
   "source": [
    "### Window Global Object\n",
    "\n",
    "Without using `console.log()`, variables declared without `let`, `var`, or `const` become available in the window object and can be found anywhere."
   ]
  },
  {
   "cell_type": "code",
   "execution_count": null,
   "metadata": {},
   "outputs": [],
   "source": [
    "// Variables without let, var, or const become global\n",
    "a = 'JavaScript' // declaring a variable without let or const makes it available in window object\n",
    "b = 10 // this is a global scope variable and found in the window object\n",
    "\n",
    "function letsLearnScope() {\n",
    "  console.log(a, b)\n",
    "  if (true) {\n",
    "    console.log(a, b)\n",
    "  }\n",
    "}\n",
    "\n",
    "console.log(a, b) // accessible\n",
    "letsLearnScope()"
   ]
  },
  {
   "cell_type": "markdown",
   "metadata": {},
   "source": [
    "### Global Scope\n",
    "\n",
    "A globally declared variable can be accessed everywhere in the same file. The term \"global\" is relative - it can be global to the file or global relative to some block of code."
   ]
  },
  {
   "cell_type": "code",
   "execution_count": null,
   "metadata": {},
   "outputs": [],
   "source": [
    "let a = 'JavaScript' // global scope - found anywhere in this file\n",
    "let b = 10 // global scope - found anywhere in this file\n",
    "\n",
    "function letsLearnScope() {\n",
    "  console.log(a, b) // JavaScript 10, accessible\n",
    "  if (true) {\n",
    "    let a = 'Python'  // local scope within the if block\n",
    "    let b = 100       // local scope within the if block\n",
    "    console.log(a, b) // Python 100\n",
    "  }\n",
    "  console.log(a, b) // JavaScript 10 (back to global scope)\n",
    "}\n",
    "\n",
    "letsLearnScope()\n",
    "console.log(a, b) // JavaScript 10, accessible"
   ]
  },
  {
   "cell_type": "markdown",
   "metadata": {},
   "source": [
    "### Local Scope\n",
    "\n",
    "A variable declared as local can be accessed only in certain blocks of code.\n",
    "\n",
    "- **Block Scope**: Variables declared within `{}` blocks\n",
    "- **Function Scope**: Variables declared within functions"
   ]
  },
  {
   "cell_type": "code",
   "execution_count": null,
   "metadata": {},
   "outputs": [],
   "source": [
    "let a = 'JavaScript' // global scope\n",
    "let b = 10 // global scope\n",
    "\n",
    "// Function scope\n",
    "function letsLearnScope() {\n",
    "  console.log(a, b) // JavaScript 10, accessible\n",
    "  let value = false // function scope\n",
    "  \n",
    "  // Block scope\n",
    "  if (true) {\n",
    "    // Variables declared inside the if block are not accessible outside\n",
    "    let a = 'Python'\n",
    "    let b = 20\n",
    "    let c = 30\n",
    "    let d = 40\n",
    "    value = !value\n",
    "    console.log(a, b, c, value) // Python 20 30 true\n",
    "  }\n",
    "  // c and d are not accessible here because their scope is only the if block\n",
    "  console.log(a, b, value) // JavaScript 10 true\n",
    "}\n",
    "\n",
    "letsLearnScope()\n",
    "console.log(a, b) // JavaScript 10, accessible"
   ]
  },
  {
   "cell_type": "markdown",
   "metadata": {},
   "source": [
    "### Differences between var, let, and const\n",
    "\n",
    "Variables declared with `var` are function-scoped, while variables declared with `let` or `const` are block-scoped."
   ]
  },
  {
   "cell_type": "code",
   "execution_count": null,
   "metadata": {},
   "outputs": [],
   "source": [
    "// Example with var (function scoped)\n",
    "function testVar() {\n",
    "  var gravity = 9.81\n",
    "  console.log(gravity)\n",
    "}\n",
    "// console.log(gravity) // Would cause: Uncaught ReferenceError: gravity is not defined\n",
    "\n",
    "if (true) {\n",
    "  var gravity = 9.81\n",
    "  console.log(gravity) // 9.81\n",
    "}\n",
    "console.log(gravity) // 9.81 - var leaks out of block scope!\n",
    "\n",
    "for (var i = 0; i < 3; i++) {\n",
    "  console.log(i) // 0, 1, 2\n",
    "}\n",
    "console.log(i) // 3 - var leaks out of loop scope!"
   ]
  },
  {
   "cell_type": "code",
   "execution_count": null,
   "metadata": {},
   "outputs": [],
   "source": [
    "// Example with let and const (block scoped)\n",
    "function testLet() {\n",
    "  const gravity = 9.81\n",
    "  console.log(gravity)\n",
    "}\n",
    "// console.log(gravity) // Would cause: Uncaught ReferenceError: gravity is not defined\n",
    "\n",
    "if (true) {\n",
    "  const gravity = 9.81\n",
    "  console.log(gravity) // 9.81\n",
    "}\n",
    "// console.log(gravity) // Would cause: Uncaught ReferenceError: gravity is not defined\n",
    "\n",
    "for (let i = 0; i < 3; i++) {\n",
    "  console.log(i) // 0, 1, 2\n",
    "}\n",
    "// console.log(i) // Would cause: Uncaught ReferenceError: i is not defined\n",
    "\n",
    "testLet()"
   ]
  },
  {
   "cell_type": "markdown",
   "metadata": {},
   "source": [
    "**Best Practices:**\n",
    "- Use `const` for values that won't change\n",
    "- Use `let` for values that will change\n",
    "- Avoid `var` in modern JavaScript\n",
    "- Use `let` and `const` to write clean code and avoid hard-to-debug mistakes"
   ]
  },
  {
   "cell_type": "markdown",
   "metadata": {},
   "source": [
    "---\n",
    "\n",
    "## Objects\n",
    "\n",
    "Everything can be an object, and objects have properties with values. An object is a key-value pair. The order of keys is not reserved.\n",
    "\n",
    "To create an object literal, we use two curly brackets `{}`."
   ]
  },
  {
   "cell_type": "markdown",
   "metadata": {},
   "source": [
    "### Creating an Empty Object"
   ]
  },
  {
   "cell_type": "code",
   "execution_count": null,
   "metadata": {},
   "outputs": [],
   "source": [
    "// Creating an empty object\n",
    "const person = {}\n",
    "console.log(person)"
   ]
  },
  {
   "cell_type": "markdown",
   "metadata": {},
   "source": [
    "### Creating Objects with Values\n",
    "\n",
    "Objects can have properties with different data types: strings, numbers, booleans, objects, arrays, null, undefined, or functions."
   ]
  },
  {
   "cell_type": "code",
   "execution_count": null,
   "metadata": {},
   "outputs": [],
   "source": [
    "// Simple object example\n",
    "const rectangle = {\n",
    "  length: 20,\n",
    "  width: 20\n",
    "}\n",
    "console.log(rectangle) // {length: 20, width: 20}"
   ]
  },
  {
   "cell_type": "code",
   "execution_count": null,
   "metadata": {},
   "outputs": [],
   "source": [
    "// Complex object with various data types\n",
    "const person = {\n",
    "  firstName: 'Asabeneh',\n",
    "  lastName: 'Yetayeh',\n",
    "  age: 250,\n",
    "  country: 'Finland',\n",
    "  city: 'Helsinki',\n",
    "  skills: [\n",
    "    'HTML',\n",
    "    'CSS',\n",
    "    'JavaScript',\n",
    "    'React',\n",
    "    'Node',\n",
    "    'MongoDB',\n",
    "    'Python',\n",
    "    'D3.js'\n",
    "  ],\n",
    "  isMarried: true\n",
    "}\n",
    "console.log(person)"
   ]
  },
  {
   "cell_type": "markdown",
   "metadata": {},
   "source": [
    "### Getting Values from an Object\n",
    "\n",
    "We can access object values using two methods:\n",
    "1. **Dot notation**: using `.` followed by key name (if key is one word)\n",
    "2. **Bracket notation**: using square brackets and quotes"
   ]
  },
  {
   "cell_type": "code",
   "execution_count": null,
   "metadata": {},
   "outputs": [],
   "source": [
    "const person = {\n",
    "  firstName: 'Asabeneh',\n",
    "  lastName: 'Yetayeh',\n",
    "  age: 250,\n",
    "  country: 'Finland',\n",
    "  city: 'Helsinki',\n",
    "  skills: ['HTML', 'CSS', 'JavaScript'],\n",
    "  'phone number': '+3584545454545' // key with spaces needs quotes\n",
    "}\n",
    "\n",
    "// Accessing values using dot notation\n",
    "console.log('Dot notation:')\n",
    "console.log(person.firstName)\n",
    "console.log(person.lastName)\n",
    "console.log(person.age)\n",
    "console.log(person.location) // undefined\n",
    "\n",
    "// Accessing values using bracket notation\n",
    "console.log('\\nBracket notation:')\n",
    "console.log(person['firstName'])\n",
    "console.log(person['lastName'])\n",
    "console.log(person['age'])\n",
    "console.log(person['location']) // undefined\n",
    "\n",
    "// For keys with spaces, only bracket notation works\n",
    "console.log('\\nPhone number:')\n",
    "console.log(person['phone number'])"
   ]
  },
  {
   "cell_type": "markdown",
   "metadata": {},
   "source": [
    "### Creating Object Methods\n",
    "\n",
    "Objects can contain functions as properties, called **methods**. The `this` keyword refers to the object itself."
   ]
  },
  {
   "cell_type": "code",
   "execution_count": null,
   "metadata": {},
   "outputs": [],
   "source": [
    "const person = {\n",
    "  firstName: 'Asabeneh',\n",
    "  lastName: 'Yetayeh',\n",
    "  age: 250,\n",
    "  country: 'Finland',\n",
    "  city: 'Helsinki',\n",
    "  skills: ['HTML', 'CSS', 'JavaScript', 'React'],\n",
    "  \n",
    "  // Object method using 'this' keyword\n",
    "  getFullName: function() {\n",
    "    return `${this.firstName} ${this.lastName}`\n",
    "  },\n",
    "  \n",
    "  // Another method\n",
    "  getPersonInfo: function() {\n",
    "    return `${this.getFullName()} is ${this.age} years old and lives in ${this.city}, ${this.country}.`\n",
    "  }\n",
    "}\n",
    "\n",
    "console.log(person.getFullName())\n",
    "console.log(person.getPersonInfo())"
   ]
  },
  {
   "cell_type": "markdown",
   "metadata": {},
   "source": [
    "**Important:** We cannot use arrow functions as object methods because `this` refers to the window inside an arrow function instead of the object itself."
   ]
  },
  {
   "cell_type": "markdown",
   "metadata": {},
   "source": [
    "### Setting New Properties for an Object\n",
    "\n",
    "Objects are mutable data structures. We can modify their content after creation."
   ]
  },
  {
   "cell_type": "code",
   "execution_count": null,
   "metadata": {},
   "outputs": [],
   "source": [
    "const person = {\n",
    "  firstName: 'Asabeneh',\n",
    "  lastName: 'Yetayeh',\n",
    "  age: 250,\n",
    "  country: 'Finland',\n",
    "  city: 'Helsinki',\n",
    "  skills: ['HTML', 'CSS', 'JavaScript'],\n",
    "  getFullName: function() {\n",
    "    return `${this.firstName} ${this.lastName}`\n",
    "  }\n",
    "}\n",
    "\n",
    "// Adding new properties\n",
    "person.nationality = 'Ethiopian'\n",
    "person.title = 'teacher'\n",
    "person.isMarried = true\n",
    "\n",
    "// Adding to arrays\n",
    "person.skills.push('React')\n",
    "person.skills.push('Node')\n",
    "\n",
    "// Adding new methods\n",
    "person.getSkills = function() {\n",
    "  return this.skills.join(', ')\n",
    "}\n",
    "\n",
    "console.log(person)\n",
    "console.log(person.getSkills())"
   ]
  },
  {
   "cell_type": "markdown",
   "metadata": {},
   "source": [
    "### Object Methods\n",
    "\n",
    "JavaScript provides several built-in methods to manipulate objects:"
   ]
  },
  {
   "cell_type": "markdown",
   "metadata": {},
   "source": [
    "#### Object.assign() - Copying Objects\n",
    "\n",
    "`Object.assign()` copies an object without modifying the original object."
   ]
  },
  {
   "cell_type": "code",
   "execution_count": null,
   "metadata": {},
   "outputs": [],
   "source": [
    "const person = {\n",
    "  firstName: 'Asabeneh',\n",
    "  age: 250,\n",
    "  country: 'Finland',\n",
    "  city: 'Helsinki',\n",
    "  skills: ['HTML', 'CSS', 'JS'],\n",
    "  title: 'teacher',\n",
    "  address: {\n",
    "    street: 'Heitamienkatu 16',\n",
    "    pobox: 2002,\n",
    "    city: 'Helsinki'\n",
    "  },\n",
    "  getPersonInfo: function() {\n",
    "    return `I am ${this.firstName} and I live in ${this.city}, ${this.country}. I am ${this.age}.`\n",
    "  }\n",
    "}\n",
    "\n",
    "// Creating a copy of the object\n",
    "const copyPerson = Object.assign({}, person)\n",
    "console.log('Original person:')\n",
    "console.log(person.getPersonInfo())\n",
    "console.log('\\nCopied person:')\n",
    "console.log(copyPerson.getPersonInfo())"
   ]
  },
  {
   "cell_type": "markdown",
   "metadata": {},
   "source": [
    "#### Object.keys() - Getting Object Keys"
   ]
  },
  {
   "cell_type": "code",
   "execution_count": null,
   "metadata": {},
   "outputs": [],
   "source": [
    "// Getting all keys of an object\n",
    "const keys = Object.keys(copyPerson)\n",
    "console.log('Object keys:')\n",
    "console.log(keys)\n",
    "\n",
    "// Getting keys of nested object\n",
    "const addressKeys = Object.keys(copyPerson.address)\n",
    "console.log('\\nAddress keys:')\n",
    "console.log(addressKeys)"
   ]
  },
  {
   "cell_type": "markdown",
   "metadata": {},
   "source": [
    "#### Object.values() - Getting Object Values"
   ]
  },
  {
   "cell_type": "code",
   "execution_count": null,
   "metadata": {},
   "outputs": [],
   "source": [
    "// Getting all values of an object\n",
    "const values = Object.values(copyPerson)\n",
    "console.log('Object values:')\n",
    "console.log(values)"
   ]
  },
  {
   "cell_type": "markdown",
   "metadata": {},
   "source": [
    "#### Object.entries() - Getting Key-Value Pairs"
   ]
  },
  {
   "cell_type": "code",
   "execution_count": null,
   "metadata": {},
   "outputs": [],
   "source": [
    "// Getting key-value pairs as arrays\n",
    "const entries = Object.entries(copyPerson)\n",
    "console.log('Object entries:')\n",
    "console.log(entries)"
   ]
  },
  {
   "cell_type": "markdown",
   "metadata": {},
   "source": [
    "#### hasOwnProperty() - Checking Properties"
   ]
  },
  {
   "cell_type": "code",
   "execution_count": null,
   "metadata": {},
   "outputs": [],
   "source": [
    "// Checking if properties exist\n",
    "console.log('Does person have firstName?', copyPerson.hasOwnProperty('firstName'))\n",
    "console.log('Does person have score?', copyPerson.hasOwnProperty('score'))\n",
    "console.log('Does person have skills?', copyPerson.hasOwnProperty('skills'))\n",
    "console.log('Does person have address?', copyPerson.hasOwnProperty('address'))"
   ]
  },
  {
   "cell_type": "markdown",
   "metadata": {},
   "source": [
    "---\n",
    "\n",
    "## Exercises\n",
    "\n",
    "Now let's practice what we've learned with some exercises!"
   ]
  },
  {
   "cell_type": "markdown",
   "metadata": {},
   "source": [
    "### Exercises: Level 1\n",
    "\n",
    "**Exercise 1:** Create an empty object called `dog`"
   ]
  },
  {
   "cell_type": "code",
   "execution_count": null,
   "metadata": {},
   "outputs": [],
   "source": [
    "// Exercise 1: Create an empty object called dog\n",
    "const dog = {}\n",
    "console.log(dog)"
   ]
  },
  {
   "cell_type": "markdown",
   "metadata": {},
   "source": [
    "**Exercise 2:** Add name, legs, color, age and bark properties for the dog object. The bark property should be a method which returns 'woof woof'"
   ]
  },
  {
   "cell_type": "code",
   "execution_count": null,
   "metadata": {},
   "outputs": [],
   "source": [
    "// Exercise 2: Add properties to the dog object\n",
    "dog.name = 'Buddy'\n",
    "dog.legs = 4\n",
    "dog.color = 'golden'\n",
    "dog.age = 3\n",
    "dog.bark = function() {\n",
    "  return 'woof woof'\n",
    "}\n",
    "\n",
    "console.log(dog)"
   ]
  },
  {
   "cell_type": "markdown",
   "metadata": {},
   "source": [
    "**Exercise 3:** Get name, legs, color, age and bark value from the dog object"
   ]
  },
  {
   "cell_type": "code",
   "execution_count": null,
   "metadata": {},
   "outputs": [],
   "source": [
    "// Exercise 3: Get values from the dog object\n",
    "console.log('Name:', dog.name)\n",
    "console.log('Legs:', dog.legs)\n",
    "console.log('Color:', dog.color)\n",
    "console.log('Age:', dog.age)\n",
    "console.log('Bark sound:', dog.bark())"
   ]
  },
  {
   "cell_type": "markdown",
   "metadata": {},
   "source": [
    "**Exercise 4:** Set new properties for the dog object: breed, getDogInfo"
   ]
  },
  {
   "cell_type": "code",
   "execution_count": null,
   "metadata": {},
   "outputs": [],
   "source": [
    "// Exercise 4: Add new properties\n",
    "dog.breed = 'Golden Retriever'\n",
    "dog.getDogInfo = function() {\n",
    "  return `${this.name} is a ${this.age} year old ${this.color} ${this.breed} with ${this.legs} legs.`\n",
    "}\n",
    "\n",
    "console.log(dog.getDogInfo())"
   ]
  },
  {
   "cell_type": "markdown",
   "metadata": {},
   "source": [
    "### Exercises: Level 2\n",
    "\n",
    "First, let's define the users object for our exercises:"
   ]
  },
  {
   "cell_type": "code",
   "execution_count": null,
   "metadata": {},
   "outputs": [],
   "source": [
    "// Users object for Level 2 exercises\n",
    "const users = {\n",
    "  Alex: {\n",
    "    email: 'alex@alex.com',\n",
    "    skills: ['HTML', 'CSS', 'JavaScript'],\n",
    "    age: 20,\n",
    "    isLoggedIn: false,\n",
    "    points: 30\n",
    "  },\n",
    "  Asab: {\n",
    "    email: 'asab@asab.com',\n",
    "    skills: ['HTML', 'CSS', 'JavaScript', 'Redux', 'MongoDB', 'Express', 'React', 'Node'],\n",
    "    age: 25,\n",
    "    isLoggedIn: false,\n",
    "    points: 50\n",
    "  },\n",
    "  Brook: {\n",
    "    email: 'daniel@daniel.com',\n",
    "    skills: ['HTML', 'CSS', 'JavaScript', 'React', 'Redux'],\n",
    "    age: 30,\n",
    "    isLoggedIn: true,\n",
    "    points: 50\n",
    "  },\n",
    "  Daniel: {\n",
    "    email: 'daniel@alex.com',\n",
    "    skills: ['HTML', 'CSS', 'JavaScript', 'Python'],\n",
    "    age: 20,\n",
    "    isLoggedIn: false,\n",
    "    points: 40\n",
    "  },\n",
    "  John: {\n",
    "    email: 'john@john.com',\n",
    "    skills: ['HTML', 'CSS', 'JavaScript', 'React', 'Redux', 'Node.js'],\n",
    "    age: 20,\n",
    "    isLoggedIn: true,\n",
    "    points: 50\n",
    "  },\n",
    "  Thomas: {\n",
    "    email: 'thomas@thomas.com',\n",
    "    skills: ['HTML', 'CSS', 'JavaScript', 'React'],\n",
    "    age: 20,\n",
    "    isLoggedIn: false,\n",
    "    points: 40\n",
    "  },\n",
    "  Paul: {\n",
    "    email: 'paul@paul.com',\n",
    "    skills: ['HTML', 'CSS', 'JavaScript', 'MongoDB', 'Express', 'React', 'Node'],\n",
    "    age: 20,\n",
    "    isLoggedIn: false,\n",
    "    points: 40\n",
    "  }\n",
    "}\n",
    "\n",
    "console.log('Users object created successfully!')"
   ]
  },
  {
   "cell_type": "markdown",
   "metadata": {},
   "source": [
    "**Exercise 1:** Find the person who has the most skills"
   ]
  },
  {
   "cell_type": "code",
   "execution_count": null,
   "metadata": {},
   "outputs": [],
   "source": [
    "// Exercise 1: Find person with most skills\n",
    "let maxSkills = 0\n",
    "let personWithMostSkills = ''\n",
    "\n",
    "for (const user in users) {\n",
    "  if (users[user].skills.length > maxSkills) {\n",
    "    maxSkills = users[user].skills.length\n",
    "    personWithMostSkills = user\n",
    "  }\n",
    "}\n",
    "\n",
    "console.log(`${personWithMostSkills} has the most skills with ${maxSkills} skills:`, users[personWithMostSkills].skills)"
   ]
  },
  {
   "cell_type": "markdown",
   "metadata": {},
   "source": [
    "**Exercise 2:** Count logged in users and users with 50 or more points"
   ]
  },
  {
   "cell_type": "code",
   "execution_count": null,
   "metadata": {},
   "outputs": [],
   "source": [
    "// Exercise 2: Count logged in users and users with >= 50 points\n",
    "let loggedInCount = 0\n",
    "let highPointsCount = 0\n",
    "\n",
    "for (const user in users) {\n",
    "  if (users[user].isLoggedIn) {\n",
    "    loggedInCount++\n",
    "  }\n",
    "  if (users[user].points >= 50) {\n",
    "    highPointsCount++\n",
    "  }\n",
    "}\n",
    "\n",
    "console.log(`Logged in users: ${loggedInCount}`)\n",
    "console.log(`Users with 50+ points: ${highPointsCount}`)"
   ]
  },
  {
   "cell_type": "markdown",
   "metadata": {},
   "source": [
    "**Exercise 3:** Find people who are MERN stack developers"
   ]
  },
  {
   "cell_type": "code",
   "execution_count": null,
   "metadata": {},
   "outputs": [],
   "source": [
    "// Exercise 3: Find MERN stack developers\n",
    "// MERN = MongoDB, Express, React, Node\n",
    "const mernSkills = ['MongoDB', 'Express', 'React', 'Node']\n",
    "const mernDevelopers = []\n",
    "\n",
    "for (const user in users) {\n",
    "  const userSkills = users[user].skills\n",
    "  const hasMernSkills = mernSkills.every(skill => \n",
    "    userSkills.some(userSkill => userSkill.includes(skill))\n",
    "  )\n",
    "  \n",
    "  if (hasMernSkills) {\n",
    "    mernDevelopers.push(user)\n",
    "  }\n",
    "}\n",
    "\n",
    "console.log('MERN stack developers:', mernDevelopers)"
   ]
  },
  {
   "cell_type": "markdown",
   "metadata": {},
   "source": [
    "**Exercise 4:** Set your name in the users object without modifying the original"
   ]
  },
  {
   "cell_type": "code",
   "execution_count": null,
   "metadata": {},
   "outputs": [],
   "source": [
    "// Exercise 4: Add your name without modifying original\n",
    "const usersWithMe = Object.assign({}, users)\n",
    "\n",
    "usersWithMe.YourName = {\n",
    "  email: 'yourname@email.com',\n",
    "  skills: ['HTML', 'CSS', 'JavaScript', 'Python', 'React'],\n",
    "  age: 25,\n",
    "  isLoggedIn: true,\n",
    "  points: 75\n",
    "}\n",
    "\n",
    "console.log('Original users object has', Object.keys(users).length, 'users')\n",
    "console.log('New users object has', Object.keys(usersWithMe).length, 'users')\n",
    "console.log('New user added:', Object.keys(usersWithMe).slice(-1))"
   ]
  },
  {
   "cell_type": "markdown",
   "metadata": {},
   "source": [
    "**Exercise 5:** Get all keys of users object"
   ]
  },
  {
   "cell_type": "code",
   "execution_count": null,
   "metadata": {},
   "outputs": [],
   "source": [
    "// Exercise 5: Get all keys\n",
    "const userKeys = Object.keys(users)\n",
    "console.log('All user keys:', userKeys)"
   ]
  },
  {
   "cell_type": "markdown",
   "metadata": {},
   "source": [
    "**Exercise 6:** Get all values of users object"
   ]
  },
  {
   "cell_type": "code",
   "execution_count": null,
   "metadata": {},
   "outputs": [],
   "source": [
    "// Exercise 6: Get all values\n",
    "const userValues = Object.values(users)\n",
    "console.log('All user values:')\n",
    "userValues.forEach((user, index) => {\n",
    "  console.log(`User ${index + 1}:`, user)\n",
    "})"
   ]
  },
  {
   "cell_type": "markdown",
   "metadata": {},
   "source": [
    "### Exercises: Level 3\n",
    "\n",
    "**Exercise 1:** Create a personAccount object with income/expense tracking methods"
   ]
  },
  {
   "cell_type": "code",
   "execution_count": null,
   "metadata": {},
   "outputs": [],
   "source": [
    "// Exercise 1: Create personAccount object\n",
    "const personAccount = {\n",
    "  firstName: 'John',\n",
    "  lastName: 'Doe',\n",
    "  incomes: [\n",
    "    { description: 'Salary', amount: 5000 },\n",
    "    { description: 'Freelance', amount: 1500 }\n",
    "  ],\n",
    "  expenses: [\n",
    "    { description: 'Rent', amount: 1200 },\n",
    "    { description: 'Food', amount: 500 },\n",
    "    { description: 'Utilities', amount: 200 }\n",
    "  ],\n",
    "  \n",
    "  totalIncome: function() {\n",
    "    return this.incomes.reduce((total, income) => total + income.amount, 0)\n",
    "  },\n",
    "  \n",
    "  totalExpense: function() {\n",
    "    return this.expenses.reduce((total, expense) => total + expense.amount, 0)\n",
    "  },\n",
    "  \n",
    "  accountInfo: function() {\n",
    "    return `${this.firstName} ${this.lastName} - Total Income: $${this.totalIncome()}, Total Expenses: $${this.totalExpense()}, Balance: $${this.accountBalance()}`\n",
    "  },\n",
    "  \n",
    "  addIncome: function(description, amount) {\n",
    "    this.incomes.push({ description, amount })\n",
    "  },\n",
    "  \n",
    "  addExpense: function(description, amount) {\n",
    "    this.expenses.push({ description, amount })\n",
    "  },\n",
    "  \n",
    "  accountBalance: function() {\n",
    "    return this.totalIncome() - this.totalExpense()\n",
    "  }\n",
    "}\n",
    "\n",
    "// Test the personAccount object\n",
    "console.log(personAccount.accountInfo())\n",
    "\n",
    "// Add new income and expense\n",
    "personAccount.addIncome('Bonus', 1000)\n",
    "personAccount.addExpense('Shopping', 300)\n",
    "\n",
    "console.log('\\nAfter adding bonus income and shopping expense:')\n",
    "console.log(personAccount.accountInfo())"
   ]
  },
  {
   "cell_type": "markdown",
   "metadata": {},
   "source": [
    "**Exercise 2:** User and Product Management System\n",
    "\n",
    "Let's create arrays for users and products, then build functions to manage them:"
   ]
  },
  {
   "cell_type": "code",
   "execution_count": null,
   "metadata": {},
   "outputs": [],
   "source": [
    "// Users and products arrays for Level 3 exercises\n",
    "const usersArray = [\n",
    "  {\n",
    "    _id: 'ab12ex',\n",
    "    username: 'Alex',\n",
    "    email: 'alex@alex.com',\n",
    "    password: '123123',\n",
    "    createdAt: '08/01/2020 9:00 AM',\n",
    "    isLoggedIn: false\n",
    "  },\n",
    "  {\n",
    "    _id: 'fg12cy',\n",
    "    username: 'Asab',\n",
    "    email: 'asab@asab.com',\n",
    "    password: '123456',\n",
    "    createdAt: '08/01/2020 9:30 AM',\n",
    "    isLoggedIn: true\n",
    "  },\n",
    "  {\n",
    "    _id: 'zwf8md',\n",
    "    username: 'Brook',\n",
    "    email: 'brook@brook.com',\n",
    "    password: '123111',\n",
    "    createdAt: '08/01/2020 9:45 AM',\n",
    "    isLoggedIn: true\n",
    "  },\n",
    "  {\n",
    "    _id: 'eefamr',\n",
    "    username: 'Martha',\n",
    "    email: 'martha@martha.com',\n",
    "    password: '123222',\n",
    "    createdAt: '08/01/2020 9:50 AM',\n",
    "    isLoggedIn: false\n",
    "  },\n",
    "  {\n",
    "    _id: 'ghderc',\n",
    "    username: 'Thomas',\n",
    "    email: 'thomas@thomas.com',\n",
    "    password: '123333',\n",
    "    createdAt: '08/01/2020 10:00 AM',\n",
    "    isLoggedIn: false\n",
    "  }\n",
    "]\n",
    "\n",
    "const products = [\n",
    "  {\n",
    "    _id: 'eedfcf',\n",
    "    name: 'mobile phone',\n",
    "    description: 'Huawei Honor',\n",
    "    price: 200,\n",
    "    ratings: [\n",
    "      { userId: 'fg12cy', rate: 5 },\n",
    "      { userId: 'zwf8md', rate: 4.5 }\n",
    "    ],\n",
    "    likes: []\n",
    "  },\n",
    "  {\n",
    "    _id: 'aegfal',\n",
    "    name: 'Laptop',\n",
    "    description: 'MacPro: System Darwin',\n",
    "    price: 2500,\n",
    "    ratings: [],\n",
    "    likes: ['fg12cy']\n",
    "  },\n",
    "  {\n",
    "    _id: 'hedfcg',\n",
    "    name: 'TV',\n",
    "    description: 'Smart TV:Procaster',\n",
    "    price: 400,\n",
    "    ratings: [{ userId: 'fg12cy', rate: 5 }],\n",
    "    likes: ['fg12cy']\n",
    "  }\n",
    "]\n",
    "\n",
    "console.log('Users and products arrays created!')\n",
    "console.log('Users:', usersArray.length)\n",
    "console.log('Products:', products.length)"
   ]
  },
  {
   "cell_type": "markdown",
   "metadata": {},
   "source": [
    "**Exercise 2a:** Create signUp and signIn functions"
   ]
  },
  {
   "cell_type": "code",
   "execution_count": null,
   "metadata": {},
   "outputs": [],
   "source": [
    "// Exercise 2a: User authentication functions\n",
    "function signUp(username, email, password) {\n",
    "  // Check if user already exists\n",
    "  const existingUser = usersArray.find(user => \n",
    "    user.username === username || user.email === email\n",
    "  )\n",
    "  \n",
    "  if (existingUser) {\n",
    "    return 'User already has an account'\n",
    "  }\n",
    "  \n",
    "  // Create new user\n",
    "  const newUser = {\n",
    "    _id: Math.random().toString(36).substr(2, 6),\n",
    "    username,\n",
    "    email,\n",
    "    password,\n",
    "    createdAt: new Date().toLocaleString(),\n",
    "    isLoggedIn: false\n",
    "  }\n",
    "  \n",
    "  usersArray.push(newUser)\n",
    "  return 'User created successfully'\n",
    "}\n",
    "\n",
    "function signIn(username, password) {\n",
    "  const user = usersArray.find(user => user.username === username)\n",
    "  \n",
    "  if (!user) {\n",
    "    return 'User not found'\n",
    "  }\n",
    "  \n",
    "  if (user.password !== password) {\n",
    "    return 'Incorrect password'\n",
    "  }\n",
    "  \n",
    "  user.isLoggedIn = true\n",
    "  return 'User signed in successfully'\n",
    "}\n",
    "\n",
    "// Test the functions\n",
    "console.log(signUp('newuser', 'newuser@email.com', 'password123'))\n",
    "console.log(signUp('Alex', 'alex@alex.com', 'password123')) // Should say user exists\n",
    "console.log(signIn('newuser', 'password123'))\n",
    "console.log(signIn('Alex', '123123'))"
   ]
  },
  {
   "cell_type": "markdown",
   "metadata": {},
   "source": [
    "**Exercise 3:** Product rating functions"
   ]
  },
  {
   "cell_type": "code",
   "execution_count": null,
   "metadata": {},
   "outputs": [],
   "source": [
    "// Exercise 3: Product rating functions\n",
    "function rateProduct(productId, userId, rating) {\n",
    "  const product = products.find(p => p._id === productId)\n",
    "  if (!product) {\n",
    "    return 'Product not found'\n",
    "  }\n",
    "  \n",
    "  // Check if user already rated this product\n",
    "  const existingRating = product.ratings.find(r => r.userId === userId)\n",
    "  if (existingRating) {\n",
    "    existingRating.rate = rating // Update existing rating\n",
    "    return 'Rating updated successfully'\n",
    "  } else {\n",
    "    product.ratings.push({ userId, rate: rating })\n",
    "    return 'Rating added successfully'\n",
    "  }\n",
    "}\n",
    "\n",
    "function averageRating(productId) {\n",
    "  const product = products.find(p => p._id === productId)\n",
    "  if (!product) {\n",
    "    return 'Product not found'\n",
    "  }\n",
    "  \n",
    "  if (product.ratings.length === 0) {\n",
    "    return 0\n",
    "  }\n",
    "  \n",
    "  const total = product.ratings.reduce((sum, rating) => sum + rating.rate, 0)\n",
    "  return (total / product.ratings.length).toFixed(2)\n",
    "}\n",
    "\n",
    "// Test the functions\n",
    "console.log(rateProduct('eedfcf', 'ab12ex', 4))\n",
    "console.log(rateProduct('aegfal', 'fg12cy', 4.8))\n",
    "console.log('Average rating for mobile phone:', averageRating('eedfcf'))\n",
    "console.log('Average rating for laptop:', averageRating('aegfal'))\n",
    "console.log('Average rating for TV:', averageRating('hedfcg'))"
   ]
  },
  {
   "cell_type": "markdown",
   "metadata": {},
   "source": [
    "**Exercise 4:** Like product function"
   ]
  },
  {
   "cell_type": "code",
   "execution_count": null,
   "metadata": {},
   "outputs": [],
   "source": [
    "// Exercise 4: Like product function\n",
    "function likeProduct(productId, userId) {\n",
    "  const product = products.find(p => p._id === productId)\n",
    "  if (!product) {\n",
    "    return 'Product not found'\n",
    "  }\n",
    "  \n",
    "  const likeIndex = product.likes.indexOf(userId)\n",
    "  \n",
    "  if (likeIndex === -1) {\n",
    "    // User hasn't liked the product, so add like\n",
    "    product.likes.push(userId)\n",
    "    return 'Product liked successfully'\n",
    "  } else {\n",
    "    // User has already liked the product, so remove like\n",
    "    product.likes.splice(likeIndex, 1)\n",
    "    return 'Product unliked successfully'\n",
    "  }\n",
    "}\n",
    "\n",
    "// Test the like function\n",
    "console.log('Initial likes for mobile phone:', products[0].likes)\n",
    "console.log(likeProduct('eedfcf', 'ab12ex')) // Like\n",
    "console.log('Likes after adding:', products[0].likes)\n",
    "console.log(likeProduct('eedfcf', 'ab12ex')) // Unlike\n",
    "console.log('Likes after removing:', products[0].likes)\n",
    "\n",
    "// Show final state of products\n",
    "console.log('\\nFinal products state:')\n",
    "products.forEach(product => {\n",
    "  console.log(`${product.name}: ${product.likes.length} likes, avg rating: ${averageRating(product._id)}`)\n",
    "})"
   ]
  },
  {
   "cell_type": "markdown",
   "metadata": {},
   "source": [
    "---\n",
    "\n",
    "## Summary\n",
    "\n",
    "Congratulations! You've completed Day 8 and learned about:\n",
    "\n",
    "### Scope:\n",
    "- **Global vs Local scope** and when to use each\n",
    "- **Block scope vs Function scope** differences\n",
    "- **var, let, and const** scoping behaviors\n",
    "- **Best practices** for variable declaration\n",
    "\n",
    "### Objects:\n",
    "- **Creating objects** with literal syntax\n",
    "- **Accessing properties** with dot and bracket notation\n",
    "- **Object methods** and the `this` keyword\n",
    "- **Modifying objects** by adding/changing properties\n",
    "- **Object utility methods**: `Object.keys()`, `Object.values()`, `Object.entries()`, `Object.assign()`\n",
    "- **Property checking** with `hasOwnProperty()`\n",
    "\n",
    "### Practical Skills:\n",
    "- Built user management systems\n",
    "- Created product rating systems\n",
    "- Implemented account management with income/expense tracking\n",
    "- Worked with complex nested object structures\n",
    "\n",
    "Keep practicing these concepts as they form the foundation for more advanced JavaScript topics!\n",
    "\n",
    "---\n",
    "\n",
    "**Next:** Day 9 - Higher Order Functions"
   ]
  }
 ],
 "metadata": {
  "kernelspec": {
   "display_name": "JavaScript (Node.js)",
   "language": "javascript",
   "name": "javascript"
  },
  "language_info": {
   "file_extension": ".js",
   "mimetype": "application/javascript",
   "name": "javascript",
   "version": "16.14.0"
  }
 },
 "nbformat": 4,
 "nbformat_minor": 4
}